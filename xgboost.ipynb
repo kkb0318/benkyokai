{
  "nbformat": 4,
  "nbformat_minor": 0,
  "metadata": {
    "colab": {
      "name": "xgboost.ipynb",
      "provenance": [],
      "collapsed_sections": [
        "ugV3TOum1Ft4",
        "eylrTPAN3rJV",
        "_2Er1vtFCG0v"
      ],
      "toc_visible": true,
      "include_colab_link": true
    },
    "kernelspec": {
      "display_name": "Python 3",
      "name": "python3"
    },
    "language_info": {
      "codemirror_mode": {
        "name": "ipython",
        "version": 3
      },
      "file_extension": ".py",
      "mimetype": "text/x-python",
      "name": "python",
      "nbconvert_exporter": "python",
      "pygments_lexer": "ipython3",
      "version": "3.6.9"
    }
  },
  "cells": [
    {
      "cell_type": "markdown",
      "metadata": {
        "id": "view-in-github",
        "colab_type": "text"
      },
      "source": [
        "<a href=\"https://colab.research.google.com/github/kkb0318/benkyokai/blob/main/xgboost.ipynb\" target=\"_parent\"><img src=\"https://colab.research.google.com/assets/colab-badge.svg\" alt=\"Open In Colab\"/></a>"
      ]
    },
    {
      "cell_type": "markdown",
      "metadata": {
        "id": "ugV3TOum1Ft4"
      },
      "source": [
        "## Install"
      ]
    },
    {
      "cell_type": "code",
      "metadata": {
        "colab": {
          "base_uri": "https://localhost:8080/"
        },
        "id": "uu1zdEsr1MXQ",
        "outputId": "c2912427-93df-42e3-bdfa-2aca9ee9c142"
      },
      "source": [
        "!pip install xgboost\n",
        "!pip install dtreeviz"
      ],
      "execution_count": 73,
      "outputs": [
        {
          "output_type": "stream",
          "text": [
            "Requirement already satisfied: xgboost in /usr/local/lib/python3.7/dist-packages (0.90)\n",
            "Requirement already satisfied: scipy in /usr/local/lib/python3.7/dist-packages (from xgboost) (1.4.1)\n",
            "Requirement already satisfied: numpy in /usr/local/lib/python3.7/dist-packages (from xgboost) (1.19.5)\n",
            "Requirement already satisfied: dtreeviz in /usr/local/lib/python3.7/dist-packages (1.2)\n",
            "Requirement already satisfied: pytest in /usr/local/lib/python3.7/dist-packages (from dtreeviz) (3.6.4)\n",
            "Requirement already satisfied: scikit-learn in /usr/local/lib/python3.7/dist-packages (from dtreeviz) (0.22.2.post1)\n",
            "Requirement already satisfied: pandas in /usr/local/lib/python3.7/dist-packages (from dtreeviz) (1.1.5)\n",
            "Requirement already satisfied: matplotlib in /usr/local/lib/python3.7/dist-packages (from dtreeviz) (3.2.2)\n",
            "Requirement already satisfied: colour in /usr/local/lib/python3.7/dist-packages (from dtreeviz) (0.1.5)\n",
            "Requirement already satisfied: numpy in /usr/local/lib/python3.7/dist-packages (from dtreeviz) (1.19.5)\n",
            "Requirement already satisfied: graphviz>=0.9 in /usr/local/lib/python3.7/dist-packages (from dtreeviz) (0.10.1)\n",
            "Requirement already satisfied: atomicwrites>=1.0 in /usr/local/lib/python3.7/dist-packages (from pytest->dtreeviz) (1.4.0)\n",
            "Requirement already satisfied: more-itertools>=4.0.0 in /usr/local/lib/python3.7/dist-packages (from pytest->dtreeviz) (8.7.0)\n",
            "Requirement already satisfied: py>=1.5.0 in /usr/local/lib/python3.7/dist-packages (from pytest->dtreeviz) (1.10.0)\n",
            "Requirement already satisfied: setuptools in /usr/local/lib/python3.7/dist-packages (from pytest->dtreeviz) (54.0.0)\n",
            "Requirement already satisfied: attrs>=17.4.0 in /usr/local/lib/python3.7/dist-packages (from pytest->dtreeviz) (20.3.0)\n",
            "Requirement already satisfied: six>=1.10.0 in /usr/local/lib/python3.7/dist-packages (from pytest->dtreeviz) (1.15.0)\n",
            "Requirement already satisfied: pluggy<0.8,>=0.5 in /usr/local/lib/python3.7/dist-packages (from pytest->dtreeviz) (0.7.1)\n",
            "Requirement already satisfied: joblib>=0.11 in /usr/local/lib/python3.7/dist-packages (from scikit-learn->dtreeviz) (1.0.1)\n",
            "Requirement already satisfied: scipy>=0.17.0 in /usr/local/lib/python3.7/dist-packages (from scikit-learn->dtreeviz) (1.4.1)\n",
            "Requirement already satisfied: python-dateutil>=2.7.3 in /usr/local/lib/python3.7/dist-packages (from pandas->dtreeviz) (2.8.1)\n",
            "Requirement already satisfied: pytz>=2017.2 in /usr/local/lib/python3.7/dist-packages (from pandas->dtreeviz) (2018.9)\n",
            "Requirement already satisfied: cycler>=0.10 in /usr/local/lib/python3.7/dist-packages (from matplotlib->dtreeviz) (0.10.0)\n",
            "Requirement already satisfied: pyparsing!=2.0.4,!=2.1.2,!=2.1.6,>=2.0.1 in /usr/local/lib/python3.7/dist-packages (from matplotlib->dtreeviz) (2.4.7)\n",
            "Requirement already satisfied: kiwisolver>=1.0.1 in /usr/local/lib/python3.7/dist-packages (from matplotlib->dtreeviz) (1.3.1)\n"
          ],
          "name": "stdout"
        }
      ]
    },
    {
      "cell_type": "markdown",
      "metadata": {
        "id": "eylrTPAN3rJV"
      },
      "source": [
        "## titanic dataset"
      ]
    },
    {
      "cell_type": "code",
      "metadata": {
        "id": "KuhAiPfZ3rJW"
      },
      "source": [
        "import numpy as np\n",
        "import pandas as pd\n",
        "from IPython.display import clear_output\n",
        "from matplotlib import pyplot as plt\n",
        "\n",
        "# Load dataset.\n",
        "dftrain = pd.read_csv('https://storage.googleapis.com/tf-datasets/titanic/train.csv')\n",
        "dfeval = pd.read_csv('https://storage.googleapis.com/tf-datasets/titanic/eval.csv')\n",
        "y_train = dftrain.pop('survived')\n",
        "y_eval = dfeval.pop('survived')"
      ],
      "execution_count": 74,
      "outputs": []
    },
    {
      "cell_type": "markdown",
      "metadata": {
        "id": "3ioodHdVJVdA"
      },
      "source": [
        "\n",
        "\n",
        "\n",
        "<table>\n",
        "  <tr>\n",
        "    <th>Feature Name</th>\n",
        "    <th>Description</th>\n",
        "  </tr>\n",
        "  <tr>\n",
        "    <td>sex</td>\n",
        "    <td>Gender of passenger</td>\n",
        "  </tr>\n",
        "  <tr>\n",
        "    <td>age</td>\n",
        "    <td>Age of passenger</td>\n",
        "  </tr>\n",
        "    <tr>\n",
        "    <td>n_siblings_spouses</td>\n",
        "    <td>siblings and partners aboard</td>\n",
        "  </tr>\n",
        "    <tr>\n",
        "    <td>parch</td>\n",
        "    <td>of parents and children aboard</td>\n",
        "  </tr>\n",
        "    <tr>\n",
        "    <td>fare</td>\n",
        "    <td>Fare passenger paid.</td>\n",
        "  </tr>\n",
        "    <tr>\n",
        "    <td>class</td>\n",
        "    <td>Passenger's class on ship</td>\n",
        "  </tr>\n",
        "    <tr>\n",
        "    <td>deck</td>\n",
        "    <td>Which deck passenger was on</td>\n",
        "  </tr>\n",
        "    <tr>\n",
        "    <td>embark_town</td>\n",
        "    <td>Which town passenger embarked from</td>\n",
        "  </tr>\n",
        "    <tr>\n",
        "    <td>alone</td>\n",
        "    <td>If passenger was alone</td>\n",
        "  </tr>\n",
        "</table>"
      ]
    },
    {
      "cell_type": "code",
      "metadata": {
        "id": "15PLelXBlxEW",
        "colab": {
          "base_uri": "https://localhost:8080/",
          "height": 0
        },
        "outputId": "6d0a281d-64bf-4781-eb75-71a4ed703b0d"
      },
      "source": [
        "dftrain.head()"
      ],
      "execution_count": 75,
      "outputs": [
        {
          "output_type": "execute_result",
          "data": {
            "text/html": [
              "<div>\n",
              "<style scoped>\n",
              "    .dataframe tbody tr th:only-of-type {\n",
              "        vertical-align: middle;\n",
              "    }\n",
              "\n",
              "    .dataframe tbody tr th {\n",
              "        vertical-align: top;\n",
              "    }\n",
              "\n",
              "    .dataframe thead th {\n",
              "        text-align: right;\n",
              "    }\n",
              "</style>\n",
              "<table border=\"1\" class=\"dataframe\">\n",
              "  <thead>\n",
              "    <tr style=\"text-align: right;\">\n",
              "      <th></th>\n",
              "      <th>sex</th>\n",
              "      <th>age</th>\n",
              "      <th>n_siblings_spouses</th>\n",
              "      <th>parch</th>\n",
              "      <th>fare</th>\n",
              "      <th>class</th>\n",
              "      <th>deck</th>\n",
              "      <th>embark_town</th>\n",
              "      <th>alone</th>\n",
              "    </tr>\n",
              "  </thead>\n",
              "  <tbody>\n",
              "    <tr>\n",
              "      <th>0</th>\n",
              "      <td>male</td>\n",
              "      <td>22.0</td>\n",
              "      <td>1</td>\n",
              "      <td>0</td>\n",
              "      <td>7.2500</td>\n",
              "      <td>Third</td>\n",
              "      <td>unknown</td>\n",
              "      <td>Southampton</td>\n",
              "      <td>n</td>\n",
              "    </tr>\n",
              "    <tr>\n",
              "      <th>1</th>\n",
              "      <td>female</td>\n",
              "      <td>38.0</td>\n",
              "      <td>1</td>\n",
              "      <td>0</td>\n",
              "      <td>71.2833</td>\n",
              "      <td>First</td>\n",
              "      <td>C</td>\n",
              "      <td>Cherbourg</td>\n",
              "      <td>n</td>\n",
              "    </tr>\n",
              "    <tr>\n",
              "      <th>2</th>\n",
              "      <td>female</td>\n",
              "      <td>26.0</td>\n",
              "      <td>0</td>\n",
              "      <td>0</td>\n",
              "      <td>7.9250</td>\n",
              "      <td>Third</td>\n",
              "      <td>unknown</td>\n",
              "      <td>Southampton</td>\n",
              "      <td>y</td>\n",
              "    </tr>\n",
              "    <tr>\n",
              "      <th>3</th>\n",
              "      <td>female</td>\n",
              "      <td>35.0</td>\n",
              "      <td>1</td>\n",
              "      <td>0</td>\n",
              "      <td>53.1000</td>\n",
              "      <td>First</td>\n",
              "      <td>C</td>\n",
              "      <td>Southampton</td>\n",
              "      <td>n</td>\n",
              "    </tr>\n",
              "    <tr>\n",
              "      <th>4</th>\n",
              "      <td>male</td>\n",
              "      <td>28.0</td>\n",
              "      <td>0</td>\n",
              "      <td>0</td>\n",
              "      <td>8.4583</td>\n",
              "      <td>Third</td>\n",
              "      <td>unknown</td>\n",
              "      <td>Queenstown</td>\n",
              "      <td>y</td>\n",
              "    </tr>\n",
              "  </tbody>\n",
              "</table>\n",
              "</div>"
            ],
            "text/plain": [
              "      sex   age  n_siblings_spouses  parch  ...  class     deck  embark_town alone\n",
              "0    male  22.0                   1      0  ...  Third  unknown  Southampton     n\n",
              "1  female  38.0                   1      0  ...  First        C    Cherbourg     n\n",
              "2  female  26.0                   0      0  ...  Third  unknown  Southampton     y\n",
              "3  female  35.0                   1      0  ...  First        C  Southampton     n\n",
              "4    male  28.0                   0      0  ...  Third  unknown   Queenstown     y\n",
              "\n",
              "[5 rows x 9 columns]"
            ]
          },
          "metadata": {
            "tags": []
          },
          "execution_count": 75
        }
      ]
    },
    {
      "cell_type": "markdown",
      "metadata": {
        "id": "HttfNNlN3rJr"
      },
      "source": [
        "## Train and evaluate the model"
      ]
    },
    {
      "cell_type": "markdown",
      "metadata": {
        "id": "_2Er1vtFCG0v"
      },
      "source": [
        "### Preprocessing"
      ]
    },
    {
      "cell_type": "code",
      "metadata": {
        "id": "E0DMYBdXAqH_"
      },
      "source": [
        "import numpy as np\n",
        "import pandas as pd\n",
        "import xgboost as xgb"
      ],
      "execution_count": 76,
      "outputs": []
    },
    {
      "cell_type": "code",
      "metadata": {
        "id": "9I65g0Rg-RnD"
      },
      "source": [
        "def make_input_fn(X):\n",
        "  #print(X.isnull().sum())\n",
        "  X = X.dropna()\n",
        "  X[\"sex\"] = X[\"sex\"].map({\"male\":0,\"female\":1})\n",
        "  X[\"alone\"] = X[\"alone\"].map({\"n\":0,\"y\":1})\n",
        "  X = pd.get_dummies(X, columns=['embark_town'])\n",
        "  X = pd.get_dummies(X, columns=['class'])\n",
        "  X = pd.get_dummies(X, columns=['deck'])\n",
        "  return X"
      ],
      "execution_count": 77,
      "outputs": []
    },
    {
      "cell_type": "code",
      "metadata": {
        "id": "9WgNNAGu-2yr"
      },
      "source": [
        "x_train = make_input_fn(dftrain)\n",
        "x_eval = make_input_fn(dfeval)"
      ],
      "execution_count": 78,
      "outputs": []
    },
    {
      "cell_type": "code",
      "metadata": {
        "id": "SzfNLAiHH_Oj"
      },
      "source": [
        "# 足りない列を追加\n",
        "x_eval[x_train.columns.difference(x_eval.columns)]=0"
      ],
      "execution_count": 79,
      "outputs": []
    },
    {
      "cell_type": "markdown",
      "metadata": {
        "id": "BVOP2mlbB5eH"
      },
      "source": [
        "### Training"
      ]
    },
    {
      "cell_type": "code",
      "metadata": {
        "id": "cyTLwITf9nUV",
        "colab": {
          "base_uri": "https://localhost:8080/"
        },
        "outputId": "c89b8c47-3066-4506-ef96-7fe65ac5e5ae"
      },
      "source": [
        "np_x_train = x_train.values\n",
        "np_x_eval = x_eval.values\n",
        "\n",
        "model = xgb.XGBClassifier(max_depth = 10,\n",
        "                           learning_rate = 0.16,\n",
        "                           subsample=1,\n",
        "                           n_estimators = 200)\n",
        "model.fit(np_x_train, y_train)"
      ],
      "execution_count": 129,
      "outputs": [
        {
          "output_type": "execute_result",
          "data": {
            "text/plain": [
              "XGBClassifier(base_score=0.5, booster='gbtree', colsample_bylevel=1,\n",
              "              colsample_bynode=1, colsample_bytree=1, gamma=0,\n",
              "              learning_rate=0.16, max_delta_step=0, max_depth=10,\n",
              "              min_child_weight=1, missing=None, n_estimators=200, n_jobs=1,\n",
              "              nthread=None, objective='binary:logistic', random_state=0,\n",
              "              reg_alpha=0, reg_lambda=1, scale_pos_weight=1, seed=None,\n",
              "              silent=None, subsample=1, verbosity=1)"
            ]
          },
          "metadata": {
            "tags": []
          },
          "execution_count": 129
        }
      ]
    },
    {
      "cell_type": "code",
      "metadata": {
        "id": "ll82DSMVDgmV"
      },
      "source": [
        "predicted = model.predict(np_x_eval)"
      ],
      "execution_count": 130,
      "outputs": []
    },
    {
      "cell_type": "markdown",
      "metadata": {
        "id": "V5D2R1sg96nf"
      },
      "source": [
        "### evaluation"
      ]
    },
    {
      "cell_type": "code",
      "metadata": {
        "id": "y_veybIq9847",
        "colab": {
          "base_uri": "https://localhost:8080/"
        },
        "outputId": "ffd373da-41c7-4f2e-f725-19c020996225"
      },
      "source": [
        "from sklearn.metrics import confusion_matrix, precision_score\n",
        "print(confusion_matrix(y_eval,predicted))\n",
        "print(precision_score(y_eval,predicted))"
      ],
      "execution_count": 131,
      "outputs": [
        {
          "output_type": "stream",
          "text": [
            "[[138  27]\n",
            " [ 22  77]]\n",
            "0.7403846153846154\n"
          ],
          "name": "stdout"
        }
      ]
    },
    {
      "cell_type": "markdown",
      "metadata": {
        "id": "k1nwfDfMAdYm"
      },
      "source": [
        "## Visualization"
      ]
    },
    {
      "cell_type": "code",
      "metadata": {
        "colab": {
          "base_uri": "https://localhost:8080/",
          "height": 1000
        },
        "id": "i0-qvcfFujaF",
        "outputId": "e235dafa-bbc7-4b80-ea9c-4d950f82f0a0"
      },
      "source": [
        "xgb.to_graphviz(model)"
      ],
      "execution_count": 132,
      "outputs": [
        {
          "output_type": "execute_result",
          "data": {
            "text/plain": [
              "<graphviz.dot.Digraph at 0x7f1ae1efd5d0>"
            ],
            "image/svg+xml": "<?xml version=\"1.0\" encoding=\"UTF-8\" standalone=\"no\"?>\n<!DOCTYPE svg PUBLIC \"-//W3C//DTD SVG 1.1//EN\"\n \"http://www.w3.org/Graphics/SVG/1.1/DTD/svg11.dtd\">\n<!-- Generated by graphviz version 2.40.1 (20161225.0304)\n -->\n<!-- Title: %3 Pages: 1 -->\n<svg width=\"2703pt\" height=\"827pt\"\n viewBox=\"0.00 0.00 2703.24 827.00\" xmlns=\"http://www.w3.org/2000/svg\" xmlns:xlink=\"http://www.w3.org/1999/xlink\">\n<g id=\"graph0\" class=\"graph\" transform=\"scale(1 1) rotate(0) translate(4 823)\">\n<title>%3</title>\n<polygon fill=\"#ffffff\" stroke=\"transparent\" points=\"-4,4 -4,-823 2699.2393,-823 2699.2393,4 -4,4\"/>\n<!-- 0 -->\n<g id=\"node1\" class=\"node\">\n<title>0</title>\n<ellipse fill=\"none\" stroke=\"#000000\" cx=\"1737.0467\" cy=\"-801\" rx=\"36.2938\" ry=\"18\"/>\n<text text-anchor=\"middle\" x=\"1737.0467\" y=\"-797.3\" font-family=\"Times,serif\" font-size=\"14.00\" fill=\"#000000\">f0&lt;0.5</text>\n</g>\n<!-- 1 -->\n<g id=\"node2\" class=\"node\">\n<title>1</title>\n<ellipse fill=\"none\" stroke=\"#000000\" cx=\"1369.0467\" cy=\"-714\" rx=\"40.8928\" ry=\"18\"/>\n<text text-anchor=\"middle\" x=\"1369.0467\" y=\"-710.3\" font-family=\"Times,serif\" font-size=\"14.00\" fill=\"#000000\">f20&lt;0.5</text>\n</g>\n<!-- 0&#45;&gt;1 -->\n<g id=\"edge1\" class=\"edge\">\n<title>0&#45;&gt;1</title>\n<path fill=\"none\" stroke=\"#0000ff\" d=\"M1704.0653,-793.2028C1638.3531,-777.6675 1490.9411,-742.8174 1415.4814,-724.9778\"/>\n<polygon fill=\"#0000ff\" stroke=\"#0000ff\" points=\"1415.8642,-721.4719 1405.3272,-722.5772 1414.2537,-728.2841 1415.8642,-721.4719\"/>\n<text text-anchor=\"middle\" x=\"1611.5467\" y=\"-753.8\" font-family=\"Times,serif\" font-size=\"14.00\" fill=\"#000000\">yes, missing</text>\n</g>\n<!-- 2 -->\n<g id=\"node3\" class=\"node\">\n<title>2</title>\n<ellipse fill=\"none\" stroke=\"#000000\" cx=\"1975.0467\" cy=\"-714\" rx=\"40.8928\" ry=\"18\"/>\n<text text-anchor=\"middle\" x=\"1975.0467\" y=\"-710.3\" font-family=\"Times,serif\" font-size=\"14.00\" fill=\"#000000\">f12&lt;0.5</text>\n</g>\n<!-- 0&#45;&gt;2 -->\n<g id=\"edge2\" class=\"edge\">\n<title>0&#45;&gt;2</title>\n<path fill=\"none\" stroke=\"#ff0000\" d=\"M1766.7084,-790.1573C1808.9096,-774.7308 1886.4363,-746.3912 1934.0913,-728.9711\"/>\n<polygon fill=\"#ff0000\" stroke=\"#ff0000\" points=\"1935.3035,-732.2546 1943.494,-725.534 1932.9002,-725.6801 1935.3035,-732.2546\"/>\n<text text-anchor=\"middle\" x=\"1879.0467\" y=\"-753.8\" font-family=\"Times,serif\" font-size=\"14.00\" fill=\"#000000\">no</text>\n</g>\n<!-- 3 -->\n<g id=\"node4\" class=\"node\">\n<title>3</title>\n<ellipse fill=\"none\" stroke=\"#000000\" cx=\"729.0467\" cy=\"-627\" rx=\"40.8928\" ry=\"18\"/>\n<text text-anchor=\"middle\" x=\"729.0467\" y=\"-623.3\" font-family=\"Times,serif\" font-size=\"14.00\" fill=\"#000000\">f1&lt;17.5</text>\n</g>\n<!-- 1&#45;&gt;3 -->\n<g id=\"edge3\" class=\"edge\">\n<title>1&#45;&gt;3</title>\n<path fill=\"none\" stroke=\"#0000ff\" d=\"M1329.4948,-708.6234C1218.0098,-693.4684 901.3668,-650.4248 778.5679,-633.7318\"/>\n<polygon fill=\"#0000ff\" stroke=\"#0000ff\" points=\"778.7149,-630.2197 768.3346,-632.3407 777.772,-637.1559 778.7149,-630.2197\"/>\n<text text-anchor=\"middle\" x=\"1123.5467\" y=\"-666.8\" font-family=\"Times,serif\" font-size=\"14.00\" fill=\"#000000\">yes, missing</text>\n</g>\n<!-- 4 -->\n<g id=\"node5\" class=\"node\">\n<title>4</title>\n<ellipse fill=\"none\" stroke=\"#000000\" cx=\"1369.0467\" cy=\"-627\" rx=\"36.2938\" ry=\"18\"/>\n<text text-anchor=\"middle\" x=\"1369.0467\" y=\"-623.3\" font-family=\"Times,serif\" font-size=\"14.00\" fill=\"#000000\">f1&lt;3.5</text>\n</g>\n<!-- 1&#45;&gt;4 -->\n<g id=\"edge4\" class=\"edge\">\n<title>1&#45;&gt;4</title>\n<path fill=\"none\" stroke=\"#ff0000\" d=\"M1369.0467,-695.9735C1369.0467,-684.1918 1369.0467,-668.5607 1369.0467,-655.1581\"/>\n<polygon fill=\"#ff0000\" stroke=\"#ff0000\" points=\"1372.5468,-655.0033 1369.0467,-645.0034 1365.5468,-655.0034 1372.5468,-655.0033\"/>\n<text text-anchor=\"middle\" x=\"1377.0467\" y=\"-666.8\" font-family=\"Times,serif\" font-size=\"14.00\" fill=\"#000000\">no</text>\n</g>\n<!-- 5 -->\n<g id=\"node50\" class=\"node\">\n<title>5</title>\n<ellipse fill=\"none\" stroke=\"#000000\" cx=\"1975.0467\" cy=\"-627\" rx=\"80.6858\" ry=\"18\"/>\n<text text-anchor=\"middle\" x=\"1975.0467\" y=\"-623.3\" font-family=\"Times,serif\" font-size=\"14.00\" fill=\"#000000\">leaf=0.275000006</text>\n</g>\n<!-- 2&#45;&gt;5 -->\n<g id=\"edge49\" class=\"edge\">\n<title>2&#45;&gt;5</title>\n<path fill=\"none\" stroke=\"#0000ff\" d=\"M1975.0467,-695.9735C1975.0467,-684.1918 1975.0467,-668.5607 1975.0467,-655.1581\"/>\n<polygon fill=\"#0000ff\" stroke=\"#0000ff\" points=\"1978.5468,-655.0033 1975.0467,-645.0034 1971.5468,-655.0034 1978.5468,-655.0033\"/>\n<text text-anchor=\"middle\" x=\"2010.5467\" y=\"-666.8\" font-family=\"Times,serif\" font-size=\"14.00\" fill=\"#000000\">yes, missing</text>\n</g>\n<!-- 6 -->\n<g id=\"node51\" class=\"node\">\n<title>6</title>\n<ellipse fill=\"none\" stroke=\"#000000\" cx=\"2224.0467\" cy=\"-627\" rx=\"70.3881\" ry=\"18\"/>\n<text text-anchor=\"middle\" x=\"2224.0467\" y=\"-623.3\" font-family=\"Times,serif\" font-size=\"14.00\" fill=\"#000000\">f4&lt;23.3500004</text>\n</g>\n<!-- 2&#45;&gt;6 -->\n<g id=\"edge50\" class=\"edge\">\n<title>2&#45;&gt;6</title>\n<path fill=\"none\" stroke=\"#ff0000\" d=\"M2007.3438,-702.7155C2049.2877,-688.0604 2122.996,-662.3069 2172.6618,-644.9538\"/>\n<polygon fill=\"#ff0000\" stroke=\"#ff0000\" points=\"2173.972,-648.2035 2182.2579,-641.6009 2171.663,-641.5953 2173.972,-648.2035\"/>\n<text text-anchor=\"middle\" x=\"2123.0467\" y=\"-666.8\" font-family=\"Times,serif\" font-size=\"14.00\" fill=\"#000000\">no</text>\n</g>\n<!-- 7 -->\n<g id=\"node6\" class=\"node\">\n<title>7</title>\n<ellipse fill=\"none\" stroke=\"#000000\" cx=\"560.0467\" cy=\"-540\" rx=\"80.6858\" ry=\"18\"/>\n<text text-anchor=\"middle\" x=\"560.0467\" y=\"-536.3\" font-family=\"Times,serif\" font-size=\"14.00\" fill=\"#000000\">leaf=0.159999996</text>\n</g>\n<!-- 3&#45;&gt;7 -->\n<g id=\"edge5\" class=\"edge\">\n<title>3&#45;&gt;7</title>\n<path fill=\"none\" stroke=\"#0000ff\" d=\"M700.7484,-613.8229C686.6345,-607.148 669.3524,-598.8194 654.0467,-591 635.9111,-581.7348 616.0596,-571.0465 599.292,-561.8556\"/>\n<polygon fill=\"#0000ff\" stroke=\"#0000ff\" points=\"600.7732,-558.6757 590.3245,-556.9221 597.399,-564.8089 600.7732,-558.6757\"/>\n<text text-anchor=\"middle\" x=\"689.5467\" y=\"-579.8\" font-family=\"Times,serif\" font-size=\"14.00\" fill=\"#000000\">yes, missing</text>\n</g>\n<!-- 8 -->\n<g id=\"node7\" class=\"node\">\n<title>8</title>\n<ellipse fill=\"none\" stroke=\"#000000\" cx=\"729.0467\" cy=\"-540\" rx=\"70.3881\" ry=\"18\"/>\n<text text-anchor=\"middle\" x=\"729.0467\" y=\"-536.3\" font-family=\"Times,serif\" font-size=\"14.00\" fill=\"#000000\">f4&lt;26.1437492</text>\n</g>\n<!-- 3&#45;&gt;8 -->\n<g id=\"edge6\" class=\"edge\">\n<title>3&#45;&gt;8</title>\n<path fill=\"none\" stroke=\"#ff0000\" d=\"M729.0467,-608.9735C729.0467,-597.1918 729.0467,-581.5607 729.0467,-568.1581\"/>\n<polygon fill=\"#ff0000\" stroke=\"#ff0000\" points=\"732.5468,-568.0033 729.0467,-558.0034 725.5468,-568.0034 732.5468,-568.0033\"/>\n<text text-anchor=\"middle\" x=\"737.0467\" y=\"-579.8\" font-family=\"Times,serif\" font-size=\"14.00\" fill=\"#000000\">no</text>\n</g>\n<!-- 9 -->\n<g id=\"node30\" class=\"node\">\n<title>9</title>\n<ellipse fill=\"none\" stroke=\"#000000\" cx=\"1318.0467\" cy=\"-540\" rx=\"36.2938\" ry=\"18\"/>\n<text text-anchor=\"middle\" x=\"1318.0467\" y=\"-536.3\" font-family=\"Times,serif\" font-size=\"14.00\" fill=\"#000000\">f2&lt;3.5</text>\n</g>\n<!-- 4&#45;&gt;9 -->\n<g id=\"edge29\" class=\"edge\">\n<title>4&#45;&gt;9</title>\n<path fill=\"none\" stroke=\"#0000ff\" d=\"M1354.7919,-610.3825C1350.0938,-604.4793 1345.0518,-597.646 1341.0467,-591 1336.5558,-583.5479 1332.3917,-575.0666 1328.8754,-567.1887\"/>\n<polygon fill=\"#0000ff\" stroke=\"#0000ff\" points=\"1332.0879,-565.7992 1324.9294,-557.9885 1325.6546,-568.5585 1332.0879,-565.7992\"/>\n<text text-anchor=\"middle\" x=\"1376.5467\" y=\"-579.8\" font-family=\"Times,serif\" font-size=\"14.00\" fill=\"#000000\">yes, missing</text>\n</g>\n<!-- 10 -->\n<g id=\"node31\" class=\"node\">\n<title>10</title>\n<ellipse fill=\"none\" stroke=\"#000000\" cx=\"1456.0467\" cy=\"-540\" rx=\"40.8928\" ry=\"18\"/>\n<text text-anchor=\"middle\" x=\"1456.0467\" y=\"-536.3\" font-family=\"Times,serif\" font-size=\"14.00\" fill=\"#000000\">f10&lt;0.5</text>\n</g>\n<!-- 4&#45;&gt;10 -->\n<g id=\"edge30\" class=\"edge\">\n<title>4&#45;&gt;10</title>\n<path fill=\"none\" stroke=\"#ff0000\" d=\"M1388.8944,-611.5129C1396.3849,-605.3805 1404.8339,-598.1066 1412.0467,-591 1420.253,-582.9145 1428.6593,-573.4993 1435.8965,-564.9753\"/>\n<polygon fill=\"#ff0000\" stroke=\"#ff0000\" points=\"1438.7092,-567.0675 1442.4322,-557.1483 1433.3361,-562.5808 1438.7092,-567.0675\"/>\n<text text-anchor=\"middle\" x=\"1435.0467\" y=\"-579.8\" font-family=\"Times,serif\" font-size=\"14.00\" fill=\"#000000\">no</text>\n</g>\n<!-- 13 -->\n<g id=\"node8\" class=\"node\">\n<title>13</title>\n<ellipse fill=\"none\" stroke=\"#000000\" cx=\"558.0467\" cy=\"-453\" rx=\"83.3857\" ry=\"18\"/>\n<text text-anchor=\"middle\" x=\"558.0467\" y=\"-449.3\" font-family=\"Times,serif\" font-size=\"14.00\" fill=\"#000000\">leaf=&#45;0.192000002</text>\n</g>\n<!-- 8&#45;&gt;13 -->\n<g id=\"edge7\" class=\"edge\">\n<title>8&#45;&gt;13</title>\n<path fill=\"none\" stroke=\"#0000ff\" d=\"M695.3021,-524.1622C682.3445,-517.9867 667.4529,-510.775 654.0467,-504 635.5711,-494.6631 615.3038,-483.9646 598.172,-474.7853\"/>\n<polygon fill=\"#0000ff\" stroke=\"#0000ff\" points=\"599.4736,-471.5114 589.0082,-469.8603 596.1598,-477.6773 599.4736,-471.5114\"/>\n<text text-anchor=\"middle\" x=\"689.5467\" y=\"-492.8\" font-family=\"Times,serif\" font-size=\"14.00\" fill=\"#000000\">yes, missing</text>\n</g>\n<!-- 14 -->\n<g id=\"node9\" class=\"node\">\n<title>14</title>\n<ellipse fill=\"none\" stroke=\"#000000\" cx=\"729.0467\" cy=\"-453\" rx=\"70.3881\" ry=\"18\"/>\n<text text-anchor=\"middle\" x=\"729.0467\" y=\"-449.3\" font-family=\"Times,serif\" font-size=\"14.00\" fill=\"#000000\">f4&lt;31.6604004</text>\n</g>\n<!-- 8&#45;&gt;14 -->\n<g id=\"edge8\" class=\"edge\">\n<title>8&#45;&gt;14</title>\n<path fill=\"none\" stroke=\"#ff0000\" d=\"M729.0467,-521.9735C729.0467,-510.1918 729.0467,-494.5607 729.0467,-481.1581\"/>\n<polygon fill=\"#ff0000\" stroke=\"#ff0000\" points=\"732.5468,-481.0033 729.0467,-471.0034 725.5468,-481.0034 732.5468,-481.0033\"/>\n<text text-anchor=\"middle\" x=\"737.0467\" y=\"-492.8\" font-family=\"Times,serif\" font-size=\"14.00\" fill=\"#000000\">no</text>\n</g>\n<!-- 23 -->\n<g id=\"node10\" class=\"node\">\n<title>23</title>\n<ellipse fill=\"none\" stroke=\"#000000\" cx=\"482.0467\" cy=\"-366\" rx=\"46.2923\" ry=\"18\"/>\n<text text-anchor=\"middle\" x=\"482.0467\" y=\"-362.3\" font-family=\"Times,serif\" font-size=\"14.00\" fill=\"#000000\">f4&lt;30.25</text>\n</g>\n<!-- 14&#45;&gt;23 -->\n<g id=\"edge9\" class=\"edge\">\n<title>14&#45;&gt;23</title>\n<path fill=\"none\" stroke=\"#0000ff\" d=\"M687.7045,-438.4382C642.9235,-422.6651 571.7674,-397.602 525.9939,-381.4794\"/>\n<polygon fill=\"#0000ff\" stroke=\"#0000ff\" points=\"526.9432,-378.103 516.3484,-378.082 524.6176,-384.7055 526.9432,-378.103\"/>\n<text text-anchor=\"middle\" x=\"656.5467\" y=\"-405.8\" font-family=\"Times,serif\" font-size=\"14.00\" fill=\"#000000\">yes, missing</text>\n</g>\n<!-- 24 -->\n<g id=\"node11\" class=\"node\">\n<title>24</title>\n<ellipse fill=\"none\" stroke=\"#000000\" cx=\"729.0467\" cy=\"-366\" rx=\"36.2938\" ry=\"18\"/>\n<text text-anchor=\"middle\" x=\"729.0467\" y=\"-362.3\" font-family=\"Times,serif\" font-size=\"14.00\" fill=\"#000000\">f6&lt;0.5</text>\n</g>\n<!-- 14&#45;&gt;24 -->\n<g id=\"edge10\" class=\"edge\">\n<title>14&#45;&gt;24</title>\n<path fill=\"none\" stroke=\"#ff0000\" d=\"M729.0467,-434.9735C729.0467,-423.1918 729.0467,-407.5607 729.0467,-394.1581\"/>\n<polygon fill=\"#ff0000\" stroke=\"#ff0000\" points=\"732.5468,-394.0033 729.0467,-384.0034 725.5468,-394.0034 732.5468,-394.0033\"/>\n<text text-anchor=\"middle\" x=\"737.0467\" y=\"-405.8\" font-family=\"Times,serif\" font-size=\"14.00\" fill=\"#000000\">no</text>\n</g>\n<!-- 33 -->\n<g id=\"node12\" class=\"node\">\n<title>33</title>\n<ellipse fill=\"none\" stroke=\"#000000\" cx=\"308.0467\" cy=\"-279\" rx=\"40.8928\" ry=\"18\"/>\n<text text-anchor=\"middle\" x=\"308.0467\" y=\"-275.3\" font-family=\"Times,serif\" font-size=\"14.00\" fill=\"#000000\">f17&lt;0.5</text>\n</g>\n<!-- 23&#45;&gt;33 -->\n<g id=\"edge11\" class=\"edge\">\n<title>23&#45;&gt;33</title>\n<path fill=\"none\" stroke=\"#0000ff\" d=\"M452.3875,-351.9998C438.5631,-345.4138 421.9179,-337.3977 407.0467,-330 385.8704,-319.4658 362.3261,-307.3535 343.5125,-297.5768\"/>\n<polygon fill=\"#0000ff\" stroke=\"#0000ff\" points=\"344.9023,-294.3544 334.4162,-292.8404 341.6694,-300.5632 344.9023,-294.3544\"/>\n<text text-anchor=\"middle\" x=\"442.5467\" y=\"-318.8\" font-family=\"Times,serif\" font-size=\"14.00\" fill=\"#000000\">yes, missing</text>\n</g>\n<!-- 34 -->\n<g id=\"node13\" class=\"node\">\n<title>34</title>\n<ellipse fill=\"none\" stroke=\"#000000\" cx=\"482.0467\" cy=\"-279\" rx=\"80.6858\" ry=\"18\"/>\n<text text-anchor=\"middle\" x=\"482.0467\" y=\"-275.3\" font-family=\"Times,serif\" font-size=\"14.00\" fill=\"#000000\">leaf=0.159999996</text>\n</g>\n<!-- 23&#45;&gt;34 -->\n<g id=\"edge12\" class=\"edge\">\n<title>23&#45;&gt;34</title>\n<path fill=\"none\" stroke=\"#ff0000\" d=\"M482.0467,-347.9735C482.0467,-336.1918 482.0467,-320.5607 482.0467,-307.1581\"/>\n<polygon fill=\"#ff0000\" stroke=\"#ff0000\" points=\"485.5468,-307.0033 482.0467,-297.0034 478.5468,-307.0034 485.5468,-307.0033\"/>\n<text text-anchor=\"middle\" x=\"490.0467\" y=\"-318.8\" font-family=\"Times,serif\" font-size=\"14.00\" fill=\"#000000\">no</text>\n</g>\n<!-- 35 -->\n<g id=\"node18\" class=\"node\">\n<title>35</title>\n<ellipse fill=\"none\" stroke=\"#000000\" cx=\"648.0467\" cy=\"-279\" rx=\"40.8928\" ry=\"18\"/>\n<text text-anchor=\"middle\" x=\"648.0467\" y=\"-275.3\" font-family=\"Times,serif\" font-size=\"14.00\" fill=\"#000000\">f1&lt;36.5</text>\n</g>\n<!-- 24&#45;&gt;35 -->\n<g id=\"edge17\" class=\"edge\">\n<title>24&#45;&gt;35</title>\n<path fill=\"none\" stroke=\"#0000ff\" d=\"M706.1378,-351.8473C697.3738,-345.7775 687.6637,-338.1966 680.0467,-330 673.2536,-322.69 667.0768,-313.7394 662.0014,-305.3885\"/>\n<polygon fill=\"#0000ff\" stroke=\"#0000ff\" points=\"664.9907,-303.5664 656.9492,-296.6683 658.9338,-307.0756 664.9907,-303.5664\"/>\n<text text-anchor=\"middle\" x=\"715.5467\" y=\"-318.8\" font-family=\"Times,serif\" font-size=\"14.00\" fill=\"#000000\">yes, missing</text>\n</g>\n<!-- 36 -->\n<g id=\"node19\" class=\"node\">\n<title>36</title>\n<ellipse fill=\"none\" stroke=\"#000000\" cx=\"786.0467\" cy=\"-279\" rx=\"40.8928\" ry=\"18\"/>\n<text text-anchor=\"middle\" x=\"786.0467\" y=\"-275.3\" font-family=\"Times,serif\" font-size=\"14.00\" fill=\"#000000\">f15&lt;0.5</text>\n</g>\n<!-- 24&#45;&gt;36 -->\n<g id=\"edge18\" class=\"edge\">\n<title>24&#45;&gt;36</title>\n<path fill=\"none\" stroke=\"#ff0000\" d=\"M740.3081,-348.8116C748.5297,-336.2628 759.8171,-319.0346 769.1216,-304.833\"/>\n<polygon fill=\"#ff0000\" stroke=\"#ff0000\" points=\"772.061,-306.7332 774.6136,-296.4505 766.2057,-302.897 772.061,-306.7332\"/>\n<text text-anchor=\"middle\" x=\"769.0467\" y=\"-318.8\" font-family=\"Times,serif\" font-size=\"14.00\" fill=\"#000000\">no</text>\n</g>\n<!-- 47 -->\n<g id=\"node14\" class=\"node\">\n<title>47</title>\n<ellipse fill=\"none\" stroke=\"#000000\" cx=\"168.0467\" cy=\"-192\" rx=\"40.8928\" ry=\"18\"/>\n<text text-anchor=\"middle\" x=\"168.0467\" y=\"-188.3\" font-family=\"Times,serif\" font-size=\"14.00\" fill=\"#000000\">f1&lt;29.5</text>\n</g>\n<!-- 33&#45;&gt;47 -->\n<g id=\"edge13\" class=\"edge\">\n<title>33&#45;&gt;47</title>\n<path fill=\"none\" stroke=\"#0000ff\" d=\"M278.0533,-266.4151C264.0065,-260.0696 247.2736,-251.8484 233.0467,-243 219.7171,-234.7096 205.9055,-224.1872 194.4599,-214.8562\"/>\n<polygon fill=\"#0000ff\" stroke=\"#0000ff\" points=\"196.5152,-212.0136 186.5846,-208.3212 192.0451,-217.4005 196.5152,-212.0136\"/>\n<text text-anchor=\"middle\" x=\"268.5467\" y=\"-231.8\" font-family=\"Times,serif\" font-size=\"14.00\" fill=\"#000000\">yes, missing</text>\n</g>\n<!-- 48 -->\n<g id=\"node15\" class=\"node\">\n<title>48</title>\n<ellipse fill=\"none\" stroke=\"#000000\" cx=\"308.0467\" cy=\"-192\" rx=\"80.6858\" ry=\"18\"/>\n<text text-anchor=\"middle\" x=\"308.0467\" y=\"-188.3\" font-family=\"Times,serif\" font-size=\"14.00\" fill=\"#000000\">leaf=0.106666669</text>\n</g>\n<!-- 33&#45;&gt;48 -->\n<g id=\"edge14\" class=\"edge\">\n<title>33&#45;&gt;48</title>\n<path fill=\"none\" stroke=\"#ff0000\" d=\"M308.0467,-260.9735C308.0467,-249.1918 308.0467,-233.5607 308.0467,-220.1581\"/>\n<polygon fill=\"#ff0000\" stroke=\"#ff0000\" points=\"311.5468,-220.0033 308.0467,-210.0034 304.5468,-220.0034 311.5468,-220.0033\"/>\n<text text-anchor=\"middle\" x=\"316.0467\" y=\"-231.8\" font-family=\"Times,serif\" font-size=\"14.00\" fill=\"#000000\">no</text>\n</g>\n<!-- 59 -->\n<g id=\"node16\" class=\"node\">\n<title>59</title>\n<ellipse fill=\"none\" stroke=\"#000000\" cx=\"37.0467\" cy=\"-105\" rx=\"37.0935\" ry=\"18\"/>\n<text text-anchor=\"middle\" x=\"37.0467\" y=\"-101.3\" font-family=\"Times,serif\" font-size=\"14.00\" fill=\"#000000\">leaf=&#45;0</text>\n</g>\n<!-- 47&#45;&gt;59 -->\n<g id=\"edge15\" class=\"edge\">\n<title>47&#45;&gt;59</title>\n<path fill=\"none\" stroke=\"#0000ff\" d=\"M138.8549,-179.1118C125.6801,-172.8179 110.1656,-164.7247 97.0467,-156 84.6189,-147.735 71.8792,-137.2443 61.3536,-127.9293\"/>\n<polygon fill=\"#0000ff\" stroke=\"#0000ff\" points=\"63.5466,-125.1938 53.7782,-121.0916 58.8563,-130.3901 63.5466,-125.1938\"/>\n<text text-anchor=\"middle\" x=\"132.5467\" y=\"-144.8\" font-family=\"Times,serif\" font-size=\"14.00\" fill=\"#000000\">yes, missing</text>\n</g>\n<!-- 60 -->\n<g id=\"node17\" class=\"node\">\n<title>60</title>\n<ellipse fill=\"none\" stroke=\"#000000\" cx=\"175.0467\" cy=\"-105\" rx=\"83.3857\" ry=\"18\"/>\n<text text-anchor=\"middle\" x=\"175.0467\" y=\"-101.3\" font-family=\"Times,serif\" font-size=\"14.00\" fill=\"#000000\">leaf=&#45;0.106666669</text>\n</g>\n<!-- 47&#45;&gt;60 -->\n<g id=\"edge16\" class=\"edge\">\n<title>47&#45;&gt;60</title>\n<path fill=\"none\" stroke=\"#ff0000\" d=\"M169.4971,-173.9735C170.4451,-162.1918 171.7028,-146.5607 172.7811,-133.1581\"/>\n<polygon fill=\"#ff0000\" stroke=\"#ff0000\" points=\"176.2848,-133.2519 173.5982,-123.0034 169.3073,-132.6904 176.2848,-133.2519\"/>\n<text text-anchor=\"middle\" x=\"180.0467\" y=\"-144.8\" font-family=\"Times,serif\" font-size=\"14.00\" fill=\"#000000\">no</text>\n</g>\n<!-- 49 -->\n<g id=\"node20\" class=\"node\">\n<title>49</title>\n<ellipse fill=\"none\" stroke=\"#000000\" cx=\"477.0467\" cy=\"-192\" rx=\"70.3881\" ry=\"18\"/>\n<text text-anchor=\"middle\" x=\"477.0467\" y=\"-188.3\" font-family=\"Times,serif\" font-size=\"14.00\" fill=\"#000000\">f4&lt;61.7999992</text>\n</g>\n<!-- 35&#45;&gt;49 -->\n<g id=\"edge19\" class=\"edge\">\n<title>35&#45;&gt;49</title>\n<path fill=\"none\" stroke=\"#0000ff\" d=\"M619.7777,-265.7651C605.6711,-259.0761 588.3865,-250.7521 573.0467,-243 554.2869,-233.5195 533.6798,-222.6351 516.3836,-213.3627\"/>\n<polygon fill=\"#0000ff\" stroke=\"#0000ff\" points=\"517.613,-210.0499 507.1479,-208.3964 514.2977,-216.2151 517.613,-210.0499\"/>\n<text text-anchor=\"middle\" x=\"608.5467\" y=\"-231.8\" font-family=\"Times,serif\" font-size=\"14.00\" fill=\"#000000\">yes, missing</text>\n</g>\n<!-- 50 -->\n<g id=\"node21\" class=\"node\">\n<title>50</title>\n<ellipse fill=\"none\" stroke=\"#000000\" cx=\"648.0467\" cy=\"-192\" rx=\"83.3857\" ry=\"18\"/>\n<text text-anchor=\"middle\" x=\"648.0467\" y=\"-188.3\" font-family=\"Times,serif\" font-size=\"14.00\" fill=\"#000000\">leaf=&#45;0.207058832</text>\n</g>\n<!-- 35&#45;&gt;50 -->\n<g id=\"edge20\" class=\"edge\">\n<title>35&#45;&gt;50</title>\n<path fill=\"none\" stroke=\"#ff0000\" d=\"M648.0467,-260.9735C648.0467,-249.1918 648.0467,-233.5607 648.0467,-220.1581\"/>\n<polygon fill=\"#ff0000\" stroke=\"#ff0000\" points=\"651.5468,-220.0033 648.0467,-210.0034 644.5468,-220.0034 651.5468,-220.0033\"/>\n<text text-anchor=\"middle\" x=\"656.0467\" y=\"-231.8\" font-family=\"Times,serif\" font-size=\"14.00\" fill=\"#000000\">no</text>\n</g>\n<!-- 51 -->\n<g id=\"node24\" class=\"node\">\n<title>51</title>\n<ellipse fill=\"none\" stroke=\"#000000\" cx=\"786.0467\" cy=\"-192\" rx=\"36.2938\" ry=\"18\"/>\n<text text-anchor=\"middle\" x=\"786.0467\" y=\"-188.3\" font-family=\"Times,serif\" font-size=\"14.00\" fill=\"#000000\">f2&lt;0.5</text>\n</g>\n<!-- 36&#45;&gt;51 -->\n<g id=\"edge23\" class=\"edge\">\n<title>36&#45;&gt;51</title>\n<path fill=\"none\" stroke=\"#0000ff\" d=\"M786.0467,-260.9735C786.0467,-249.1918 786.0467,-233.5607 786.0467,-220.1581\"/>\n<polygon fill=\"#0000ff\" stroke=\"#0000ff\" points=\"789.5468,-220.0033 786.0467,-210.0034 782.5468,-220.0034 789.5468,-220.0033\"/>\n<text text-anchor=\"middle\" x=\"821.5467\" y=\"-231.8\" font-family=\"Times,serif\" font-size=\"14.00\" fill=\"#000000\">yes, missing</text>\n</g>\n<!-- 52 -->\n<g id=\"node25\" class=\"node\">\n<title>52</title>\n<ellipse fill=\"none\" stroke=\"#000000\" cx=\"924.0467\" cy=\"-192\" rx=\"83.3857\" ry=\"18\"/>\n<text text-anchor=\"middle\" x=\"924.0467\" y=\"-188.3\" font-family=\"Times,serif\" font-size=\"14.00\" fill=\"#000000\">leaf=&#45;0.106666669</text>\n</g>\n<!-- 36&#45;&gt;52 -->\n<g id=\"edge24\" class=\"edge\">\n<title>36&#45;&gt;52</title>\n<path fill=\"none\" stroke=\"#ff0000\" d=\"M816.101,-266.5121C830.1611,-260.1878 846.8877,-251.9565 861.0467,-243 873.4614,-235.1469 886.227,-225.2181 896.993,-216.2122\"/>\n<polygon fill=\"#ff0000\" stroke=\"#ff0000\" points=\"899.4606,-218.7077 904.7971,-209.5549 894.9176,-213.3821 899.4606,-218.7077\"/>\n<text text-anchor=\"middle\" x=\"890.0467\" y=\"-231.8\" font-family=\"Times,serif\" font-size=\"14.00\" fill=\"#000000\">no</text>\n</g>\n<!-- 61 -->\n<g id=\"node22\" class=\"node\">\n<title>61</title>\n<ellipse fill=\"none\" stroke=\"#000000\" cx=\"387.0467\" cy=\"-105\" rx=\"85.2851\" ry=\"18\"/>\n<text text-anchor=\"middle\" x=\"387.0467\" y=\"-101.3\" font-family=\"Times,serif\" font-size=\"14.00\" fill=\"#000000\">leaf=0.0290909093</text>\n</g>\n<!-- 49&#45;&gt;61 -->\n<g id=\"edge21\" class=\"edge\">\n<title>49&#45;&gt;61</title>\n<path fill=\"none\" stroke=\"#0000ff\" d=\"M458.8339,-174.3943C445.6245,-161.6252 427.5735,-144.1759 412.8773,-129.9696\"/>\n<polygon fill=\"#0000ff\" stroke=\"#0000ff\" points=\"415.1639,-127.312 405.5414,-122.8782 410.2987,-132.3449 415.1639,-127.312\"/>\n<text text-anchor=\"middle\" x=\"473.5467\" y=\"-144.8\" font-family=\"Times,serif\" font-size=\"14.00\" fill=\"#000000\">yes, missing</text>\n</g>\n<!-- 62 -->\n<g id=\"node23\" class=\"node\">\n<title>62</title>\n<ellipse fill=\"none\" stroke=\"#000000\" cx=\"573.0467\" cy=\"-105\" rx=\"83.3857\" ry=\"18\"/>\n<text text-anchor=\"middle\" x=\"573.0467\" y=\"-101.3\" font-family=\"Times,serif\" font-size=\"14.00\" fill=\"#000000\">leaf=&#45;0.128000006</text>\n</g>\n<!-- 49&#45;&gt;62 -->\n<g id=\"edge22\" class=\"edge\">\n<title>49&#45;&gt;62</title>\n<path fill=\"none\" stroke=\"#ff0000\" d=\"M496.4737,-174.3943C510.7871,-161.4228 530.4301,-143.6213 546.2371,-129.2962\"/>\n<polygon fill=\"#ff0000\" stroke=\"#ff0000\" points=\"548.589,-131.8883 553.6486,-122.5796 543.8883,-126.7013 548.589,-131.8883\"/>\n<text text-anchor=\"middle\" x=\"539.0467\" y=\"-144.8\" font-family=\"Times,serif\" font-size=\"14.00\" fill=\"#000000\">no</text>\n</g>\n<!-- 63 -->\n<g id=\"node26\" class=\"node\">\n<title>63</title>\n<ellipse fill=\"none\" stroke=\"#000000\" cx=\"728.0467\" cy=\"-105\" rx=\"40.8928\" ry=\"18\"/>\n<text text-anchor=\"middle\" x=\"728.0467\" y=\"-101.3\" font-family=\"Times,serif\" font-size=\"14.00\" fill=\"#000000\">f1&lt;35.5</text>\n</g>\n<!-- 51&#45;&gt;63 -->\n<g id=\"edge25\" class=\"edge\">\n<title>51&#45;&gt;63</title>\n<path fill=\"none\" stroke=\"#0000ff\" d=\"M774.5878,-174.8116C766.2219,-162.2628 754.7365,-145.0346 745.2687,-130.833\"/>\n<polygon fill=\"#0000ff\" stroke=\"#0000ff\" points=\"748.1396,-128.8295 739.6804,-122.4505 742.3152,-132.7125 748.1396,-128.8295\"/>\n<text text-anchor=\"middle\" x=\"796.5467\" y=\"-144.8\" font-family=\"Times,serif\" font-size=\"14.00\" fill=\"#000000\">yes, missing</text>\n</g>\n<!-- 64 -->\n<g id=\"node27\" class=\"node\">\n<title>64</title>\n<ellipse fill=\"none\" stroke=\"#000000\" cx=\"868.0467\" cy=\"-105\" rx=\"80.6858\" ry=\"18\"/>\n<text text-anchor=\"middle\" x=\"868.0467\" y=\"-101.3\" font-family=\"Times,serif\" font-size=\"14.00\" fill=\"#000000\">leaf=0.159999996</text>\n</g>\n<!-- 51&#45;&gt;64 -->\n<g id=\"edge26\" class=\"edge\">\n<title>51&#45;&gt;64</title>\n<path fill=\"none\" stroke=\"#ff0000\" d=\"M809.185,-178.0924C818.1957,-172.0049 828.2154,-164.3465 836.0467,-156 842.6983,-148.9109 848.7402,-140.2418 853.7376,-132.0763\"/>\n<polygon fill=\"#ff0000\" stroke=\"#ff0000\" points=\"856.9087,-133.5858 858.9129,-123.1822 850.8584,-130.0652 856.9087,-133.5858\"/>\n<text text-anchor=\"middle\" x=\"856.0467\" y=\"-144.8\" font-family=\"Times,serif\" font-size=\"14.00\" fill=\"#000000\">no</text>\n</g>\n<!-- 67 -->\n<g id=\"node28\" class=\"node\">\n<title>67</title>\n<ellipse fill=\"none\" stroke=\"#000000\" cx=\"635.0467\" cy=\"-18\" rx=\"85.2851\" ry=\"18\"/>\n<text text-anchor=\"middle\" x=\"635.0467\" y=\"-14.3\" font-family=\"Times,serif\" font-size=\"14.00\" fill=\"#000000\">leaf=0.0355555564</text>\n</g>\n<!-- 63&#45;&gt;67 -->\n<g id=\"edge27\" class=\"edge\">\n<title>63&#45;&gt;67</title>\n<path fill=\"none\" stroke=\"#0000ff\" d=\"M710.5541,-88.636C696.7175,-75.6921 677.1756,-57.4109 661.4391,-42.6896\"/>\n<polygon fill=\"#0000ff\" stroke=\"#0000ff\" points=\"663.755,-40.0634 654.0612,-35.7878 658.9729,-45.1753 663.755,-40.0634\"/>\n<text text-anchor=\"middle\" x=\"723.5467\" y=\"-57.8\" font-family=\"Times,serif\" font-size=\"14.00\" fill=\"#000000\">yes, missing</text>\n</g>\n<!-- 68 -->\n<g id=\"node29\" class=\"node\">\n<title>68</title>\n<ellipse fill=\"none\" stroke=\"#000000\" cx=\"821.0467\" cy=\"-18\" rx=\"83.3857\" ry=\"18\"/>\n<text text-anchor=\"middle\" x=\"821.0467\" y=\"-14.3\" font-family=\"Times,serif\" font-size=\"14.00\" fill=\"#000000\">leaf=&#45;0.106666669</text>\n</g>\n<!-- 63&#45;&gt;68 -->\n<g id=\"edge28\" class=\"edge\">\n<title>63&#45;&gt;68</title>\n<path fill=\"none\" stroke=\"#ff0000\" d=\"M745.5393,-88.636C759.3759,-75.6921 778.9178,-57.4109 794.6544,-42.6896\"/>\n<polygon fill=\"#ff0000\" stroke=\"#ff0000\" points=\"797.1205,-45.1753 802.0322,-35.7878 792.3384,-40.0634 797.1205,-45.1753\"/>\n<text text-anchor=\"middle\" x=\"789.0467\" y=\"-57.8\" font-family=\"Times,serif\" font-size=\"14.00\" fill=\"#000000\">no</text>\n</g>\n<!-- 15 -->\n<g id=\"node32\" class=\"node\">\n<title>15</title>\n<ellipse fill=\"none\" stroke=\"#000000\" cx=\"1132.0467\" cy=\"-453\" rx=\"85.2851\" ry=\"18\"/>\n<text text-anchor=\"middle\" x=\"1132.0467\" y=\"-449.3\" font-family=\"Times,serif\" font-size=\"14.00\" fill=\"#000000\">leaf=0.0799999982</text>\n</g>\n<!-- 9&#45;&gt;15 -->\n<g id=\"edge31\" class=\"edge\">\n<title>9&#45;&gt;15</title>\n<path fill=\"none\" stroke=\"#0000ff\" d=\"M1291.3974,-527.535C1261.4291,-513.5175 1212.2806,-490.5288 1176.4796,-473.7831\"/>\n<polygon fill=\"#0000ff\" stroke=\"#0000ff\" points=\"1177.7659,-470.5209 1167.2249,-469.4543 1174.8001,-476.8616 1177.7659,-470.5209\"/>\n<text text-anchor=\"middle\" x=\"1272.5467\" y=\"-492.8\" font-family=\"Times,serif\" font-size=\"14.00\" fill=\"#000000\">yes, missing</text>\n</g>\n<!-- 16 -->\n<g id=\"node33\" class=\"node\">\n<title>16</title>\n<ellipse fill=\"none\" stroke=\"#000000\" cx=\"1318.0467\" cy=\"-453\" rx=\"83.3857\" ry=\"18\"/>\n<text text-anchor=\"middle\" x=\"1318.0467\" y=\"-449.3\" font-family=\"Times,serif\" font-size=\"14.00\" fill=\"#000000\">leaf=&#45;0.106666669</text>\n</g>\n<!-- 9&#45;&gt;16 -->\n<g id=\"edge32\" class=\"edge\">\n<title>9&#45;&gt;16</title>\n<path fill=\"none\" stroke=\"#ff0000\" d=\"M1318.0467,-521.9735C1318.0467,-510.1918 1318.0467,-494.5607 1318.0467,-481.1581\"/>\n<polygon fill=\"#ff0000\" stroke=\"#ff0000\" points=\"1321.5468,-481.0033 1318.0467,-471.0034 1314.5468,-481.0034 1321.5468,-481.0033\"/>\n<text text-anchor=\"middle\" x=\"1326.0467\" y=\"-492.8\" font-family=\"Times,serif\" font-size=\"14.00\" fill=\"#000000\">no</text>\n</g>\n<!-- 17 -->\n<g id=\"node34\" class=\"node\">\n<title>17</title>\n<ellipse fill=\"none\" stroke=\"#000000\" cx=\"1456.0467\" cy=\"-453\" rx=\"36.2938\" ry=\"18\"/>\n<text text-anchor=\"middle\" x=\"1456.0467\" y=\"-449.3\" font-family=\"Times,serif\" font-size=\"14.00\" fill=\"#000000\">f6&lt;0.5</text>\n</g>\n<!-- 10&#45;&gt;17 -->\n<g id=\"edge33\" class=\"edge\">\n<title>10&#45;&gt;17</title>\n<path fill=\"none\" stroke=\"#0000ff\" d=\"M1456.0467,-521.9735C1456.0467,-510.1918 1456.0467,-494.5607 1456.0467,-481.1581\"/>\n<polygon fill=\"#0000ff\" stroke=\"#0000ff\" points=\"1459.5468,-481.0033 1456.0467,-471.0034 1452.5468,-481.0034 1459.5468,-481.0033\"/>\n<text text-anchor=\"middle\" x=\"1491.5467\" y=\"-492.8\" font-family=\"Times,serif\" font-size=\"14.00\" fill=\"#000000\">yes, missing</text>\n</g>\n<!-- 18 -->\n<g id=\"node35\" class=\"node\">\n<title>18</title>\n<ellipse fill=\"none\" stroke=\"#000000\" cx=\"1647.0467\" cy=\"-453\" rx=\"70.3881\" ry=\"18\"/>\n<text text-anchor=\"middle\" x=\"1647.0467\" y=\"-449.3\" font-family=\"Times,serif\" font-size=\"14.00\" fill=\"#000000\">f4&lt;30.5979004</text>\n</g>\n<!-- 10&#45;&gt;18 -->\n<g id=\"edge34\" class=\"edge\">\n<title>10&#45;&gt;18</title>\n<path fill=\"none\" stroke=\"#ff0000\" d=\"M1484.6413,-526.9752C1515.9754,-512.7026 1566.6208,-489.6338 1603.0282,-473.0503\"/>\n<polygon fill=\"#ff0000\" stroke=\"#ff0000\" points=\"1604.7739,-476.1012 1612.4235,-468.7708 1601.8722,-469.7309 1604.7739,-476.1012\"/>\n<text text-anchor=\"middle\" x=\"1571.0467\" y=\"-492.8\" font-family=\"Times,serif\" font-size=\"14.00\" fill=\"#000000\">no</text>\n</g>\n<!-- 25 -->\n<g id=\"node36\" class=\"node\">\n<title>25</title>\n<ellipse fill=\"none\" stroke=\"#000000\" cx=\"1288.0467\" cy=\"-366\" rx=\"70.3881\" ry=\"18\"/>\n<text text-anchor=\"middle\" x=\"1288.0467\" y=\"-362.3\" font-family=\"Times,serif\" font-size=\"14.00\" fill=\"#000000\">f4&lt;51.6978989</text>\n</g>\n<!-- 17&#45;&gt;25 -->\n<g id=\"edge35\" class=\"edge\">\n<title>17&#45;&gt;25</title>\n<path fill=\"none\" stroke=\"#0000ff\" d=\"M1429.4957,-440.6839C1415.0714,-433.8858 1396.9771,-425.1837 1381.0467,-417 1362.8042,-407.6285 1342.8322,-396.7582 1326.0883,-387.4671\"/>\n<polygon fill=\"#0000ff\" stroke=\"#0000ff\" points=\"1327.589,-384.2967 1317.1498,-382.4874 1324.1822,-390.4117 1327.589,-384.2967\"/>\n<text text-anchor=\"middle\" x=\"1416.5467\" y=\"-405.8\" font-family=\"Times,serif\" font-size=\"14.00\" fill=\"#000000\">yes, missing</text>\n</g>\n<!-- 26 -->\n<g id=\"node37\" class=\"node\">\n<title>26</title>\n<ellipse fill=\"none\" stroke=\"#000000\" cx=\"1456.0467\" cy=\"-366\" rx=\"36.2938\" ry=\"18\"/>\n<text text-anchor=\"middle\" x=\"1456.0467\" y=\"-362.3\" font-family=\"Times,serif\" font-size=\"14.00\" fill=\"#000000\">f3&lt;0.5</text>\n</g>\n<!-- 17&#45;&gt;26 -->\n<g id=\"edge36\" class=\"edge\">\n<title>17&#45;&gt;26</title>\n<path fill=\"none\" stroke=\"#ff0000\" d=\"M1456.0467,-434.9735C1456.0467,-423.1918 1456.0467,-407.5607 1456.0467,-394.1581\"/>\n<polygon fill=\"#ff0000\" stroke=\"#ff0000\" points=\"1459.5468,-394.0033 1456.0467,-384.0034 1452.5468,-394.0034 1459.5468,-394.0033\"/>\n<text text-anchor=\"middle\" x=\"1464.0467\" y=\"-405.8\" font-family=\"Times,serif\" font-size=\"14.00\" fill=\"#000000\">no</text>\n</g>\n<!-- 27 -->\n<g id=\"node46\" class=\"node\">\n<title>27</title>\n<ellipse fill=\"none\" stroke=\"#000000\" cx=\"1647.0467\" cy=\"-366\" rx=\"40.8928\" ry=\"18\"/>\n<text text-anchor=\"middle\" x=\"1647.0467\" y=\"-362.3\" font-family=\"Times,serif\" font-size=\"14.00\" fill=\"#000000\">f1&lt;37.5</text>\n</g>\n<!-- 18&#45;&gt;27 -->\n<g id=\"edge45\" class=\"edge\">\n<title>18&#45;&gt;27</title>\n<path fill=\"none\" stroke=\"#0000ff\" d=\"M1647.0467,-434.9735C1647.0467,-423.1918 1647.0467,-407.5607 1647.0467,-394.1581\"/>\n<polygon fill=\"#0000ff\" stroke=\"#0000ff\" points=\"1650.5468,-394.0033 1647.0467,-384.0034 1643.5468,-394.0034 1650.5468,-394.0033\"/>\n<text text-anchor=\"middle\" x=\"1682.5467\" y=\"-405.8\" font-family=\"Times,serif\" font-size=\"14.00\" fill=\"#000000\">yes, missing</text>\n</g>\n<!-- 28 -->\n<g id=\"node47\" class=\"node\">\n<title>28</title>\n<ellipse fill=\"none\" stroke=\"#000000\" cx=\"1789.0467\" cy=\"-366\" rx=\"83.3857\" ry=\"18\"/>\n<text text-anchor=\"middle\" x=\"1789.0467\" y=\"-362.3\" font-family=\"Times,serif\" font-size=\"14.00\" fill=\"#000000\">leaf=&#45;0.192000002</text>\n</g>\n<!-- 18&#45;&gt;28 -->\n<g id=\"edge46\" class=\"edge\">\n<title>18&#45;&gt;28</title>\n<path fill=\"none\" stroke=\"#ff0000\" d=\"M1683.3105,-437.4077C1695.8701,-431.537 1709.8498,-424.4625 1722.0467,-417 1735.1915,-408.9576 1748.8713,-398.8911 1760.4167,-389.831\"/>\n<polygon fill=\"#ff0000\" stroke=\"#ff0000\" points=\"1762.774,-392.4277 1768.4081,-383.4551 1758.4083,-386.9559 1762.774,-392.4277\"/>\n<text text-anchor=\"middle\" x=\"1752.0467\" y=\"-405.8\" font-family=\"Times,serif\" font-size=\"14.00\" fill=\"#000000\">no</text>\n</g>\n<!-- 37 -->\n<g id=\"node38\" class=\"node\">\n<title>37</title>\n<ellipse fill=\"none\" stroke=\"#000000\" cx=\"1117.0467\" cy=\"-279\" rx=\"83.3857\" ry=\"18\"/>\n<text text-anchor=\"middle\" x=\"1117.0467\" y=\"-275.3\" font-family=\"Times,serif\" font-size=\"14.00\" fill=\"#000000\">leaf=&#45;0.264242411</text>\n</g>\n<!-- 25&#45;&gt;37 -->\n<g id=\"edge37\" class=\"edge\">\n<title>25&#45;&gt;37</title>\n<path fill=\"none\" stroke=\"#0000ff\" d=\"M1254.3021,-350.1622C1241.3445,-343.9867 1226.4529,-336.775 1213.0467,-330 1194.5711,-320.6631 1174.3038,-309.9646 1157.172,-300.7853\"/>\n<polygon fill=\"#0000ff\" stroke=\"#0000ff\" points=\"1158.4736,-297.5114 1148.0082,-295.8603 1155.1598,-303.6773 1158.4736,-297.5114\"/>\n<text text-anchor=\"middle\" x=\"1248.5467\" y=\"-318.8\" font-family=\"Times,serif\" font-size=\"14.00\" fill=\"#000000\">yes, missing</text>\n</g>\n<!-- 38 -->\n<g id=\"node39\" class=\"node\">\n<title>38</title>\n<ellipse fill=\"none\" stroke=\"#000000\" cx=\"1288.0467\" cy=\"-279\" rx=\"70.3881\" ry=\"18\"/>\n<text text-anchor=\"middle\" x=\"1288.0467\" y=\"-275.3\" font-family=\"Times,serif\" font-size=\"14.00\" fill=\"#000000\">f4&lt;63.0229034</text>\n</g>\n<!-- 25&#45;&gt;38 -->\n<g id=\"edge38\" class=\"edge\">\n<title>25&#45;&gt;38</title>\n<path fill=\"none\" stroke=\"#ff0000\" d=\"M1288.0467,-347.9735C1288.0467,-336.1918 1288.0467,-320.5607 1288.0467,-307.1581\"/>\n<polygon fill=\"#ff0000\" stroke=\"#ff0000\" points=\"1291.5468,-307.0033 1288.0467,-297.0034 1284.5468,-307.0034 1291.5468,-307.0033\"/>\n<text text-anchor=\"middle\" x=\"1296.0467\" y=\"-318.8\" font-family=\"Times,serif\" font-size=\"14.00\" fill=\"#000000\">no</text>\n</g>\n<!-- 39 -->\n<g id=\"node42\" class=\"node\">\n<title>39</title>\n<ellipse fill=\"none\" stroke=\"#000000\" cx=\"1422.0467\" cy=\"-279\" rx=\"33.5952\" ry=\"18\"/>\n<text text-anchor=\"middle\" x=\"1422.0467\" y=\"-275.3\" font-family=\"Times,serif\" font-size=\"14.00\" fill=\"#000000\">f1&lt;27</text>\n</g>\n<!-- 26&#45;&gt;39 -->\n<g id=\"edge41\" class=\"edge\">\n<title>26&#45;&gt;39</title>\n<path fill=\"none\" stroke=\"#0000ff\" d=\"M1434.5107,-351.1369C1427.9592,-345.3743 1421.5657,-338.1812 1418.0467,-330 1415.0068,-322.9326 1414.4822,-314.8086 1415.1187,-307.1523\"/>\n<polygon fill=\"#0000ff\" stroke=\"#0000ff\" points=\"1418.5983,-307.5455 1416.5791,-297.1449 1411.6716,-306.5346 1418.5983,-307.5455\"/>\n<text text-anchor=\"middle\" x=\"1453.5467\" y=\"-318.8\" font-family=\"Times,serif\" font-size=\"14.00\" fill=\"#000000\">yes, missing</text>\n</g>\n<!-- 40 -->\n<g id=\"node43\" class=\"node\">\n<title>40</title>\n<ellipse fill=\"none\" stroke=\"#000000\" cx=\"1511.0467\" cy=\"-279\" rx=\"37.0935\" ry=\"18\"/>\n<text text-anchor=\"middle\" x=\"1511.0467\" y=\"-275.3\" font-family=\"Times,serif\" font-size=\"14.00\" fill=\"#000000\">leaf=&#45;0</text>\n</g>\n<!-- 26&#45;&gt;40 -->\n<g id=\"edge42\" class=\"edge\">\n<title>26&#45;&gt;40</title>\n<path fill=\"none\" stroke=\"#ff0000\" d=\"M1473.0806,-349.7581C1478.6364,-343.8849 1484.5308,-336.9746 1489.0467,-330 1493.6898,-322.829 1497.7541,-314.5133 1501.084,-306.7041\"/>\n<polygon fill=\"#ff0000\" stroke=\"#ff0000\" points=\"1504.4189,-307.7916 1504.8975,-297.2076 1497.9231,-305.183 1504.4189,-307.7916\"/>\n<text text-anchor=\"middle\" x=\"1506.0467\" y=\"-318.8\" font-family=\"Times,serif\" font-size=\"14.00\" fill=\"#000000\">no</text>\n</g>\n<!-- 53 -->\n<g id=\"node40\" class=\"node\">\n<title>53</title>\n<ellipse fill=\"none\" stroke=\"#000000\" cx=\"1106.0467\" cy=\"-192\" rx=\"80.6858\" ry=\"18\"/>\n<text text-anchor=\"middle\" x=\"1106.0467\" y=\"-188.3\" font-family=\"Times,serif\" font-size=\"14.00\" fill=\"#000000\">leaf=0.064000003</text>\n</g>\n<!-- 38&#45;&gt;53 -->\n<g id=\"edge39\" class=\"edge\">\n<title>38&#45;&gt;53</title>\n<path fill=\"none\" stroke=\"#0000ff\" d=\"M1254.6651,-263.0429C1225.1504,-248.9342 1181.8984,-228.2588 1149.6559,-212.8461\"/>\n<polygon fill=\"#0000ff\" stroke=\"#0000ff\" points=\"1150.985,-209.6022 1140.4533,-208.4471 1147.966,-215.9177 1150.985,-209.6022\"/>\n<text text-anchor=\"middle\" x=\"1243.5467\" y=\"-231.8\" font-family=\"Times,serif\" font-size=\"14.00\" fill=\"#000000\">yes, missing</text>\n</g>\n<!-- 54 -->\n<g id=\"node41\" class=\"node\">\n<title>54</title>\n<ellipse fill=\"none\" stroke=\"#000000\" cx=\"1288.0467\" cy=\"-192\" rx=\"83.3857\" ry=\"18\"/>\n<text text-anchor=\"middle\" x=\"1288.0467\" y=\"-188.3\" font-family=\"Times,serif\" font-size=\"14.00\" fill=\"#000000\">leaf=&#45;0.203636348</text>\n</g>\n<!-- 38&#45;&gt;54 -->\n<g id=\"edge40\" class=\"edge\">\n<title>38&#45;&gt;54</title>\n<path fill=\"none\" stroke=\"#ff0000\" d=\"M1288.0467,-260.9735C1288.0467,-249.1918 1288.0467,-233.5607 1288.0467,-220.1581\"/>\n<polygon fill=\"#ff0000\" stroke=\"#ff0000\" points=\"1291.5468,-220.0033 1288.0467,-210.0034 1284.5468,-220.0034 1291.5468,-220.0033\"/>\n<text text-anchor=\"middle\" x=\"1296.0467\" y=\"-231.8\" font-family=\"Times,serif\" font-size=\"14.00\" fill=\"#000000\">no</text>\n</g>\n<!-- 55 -->\n<g id=\"node44\" class=\"node\">\n<title>55</title>\n<ellipse fill=\"none\" stroke=\"#000000\" cx=\"1478.0467\" cy=\"-192\" rx=\"88.2844\" ry=\"18\"/>\n<text text-anchor=\"middle\" x=\"1478.0467\" y=\"-188.3\" font-family=\"Times,serif\" font-size=\"14.00\" fill=\"#000000\">leaf=&#45;0.0355555564</text>\n</g>\n<!-- 39&#45;&gt;55 -->\n<g id=\"edge43\" class=\"edge\">\n<title>39&#45;&gt;55</title>\n<path fill=\"none\" stroke=\"#0000ff\" d=\"M1433.1105,-261.8116C1441.0071,-249.5437 1451.7824,-232.8035 1460.8019,-218.7911\"/>\n<polygon fill=\"#0000ff\" stroke=\"#0000ff\" points=\"1463.9581,-220.3542 1466.4275,-210.0512 1458.072,-216.5655 1463.9581,-220.3542\"/>\n<text text-anchor=\"middle\" x=\"1489.5467\" y=\"-231.8\" font-family=\"Times,serif\" font-size=\"14.00\" fill=\"#000000\">yes, missing</text>\n</g>\n<!-- 56 -->\n<g id=\"node45\" class=\"node\">\n<title>56</title>\n<ellipse fill=\"none\" stroke=\"#000000\" cx=\"1668.0467\" cy=\"-192\" rx=\"83.3857\" ry=\"18\"/>\n<text text-anchor=\"middle\" x=\"1668.0467\" y=\"-188.3\" font-family=\"Times,serif\" font-size=\"14.00\" fill=\"#000000\">leaf=&#45;0.186666653</text>\n</g>\n<!-- 39&#45;&gt;56 -->\n<g id=\"edge44\" class=\"edge\">\n<title>39&#45;&gt;56</title>\n<path fill=\"none\" stroke=\"#ff0000\" d=\"M1448.2282,-267.4422C1453.7356,-265.1801 1459.5443,-262.9174 1465.0467,-261 1492.9492,-251.277 1500.9335,-252.0958 1529.0467,-243 1558.8878,-233.3452 1591.8596,-221.3081 1618.1988,-211.353\"/>\n<polygon fill=\"#ff0000\" stroke=\"#ff0000\" points=\"1619.4791,-214.6107 1627.5845,-207.7877 1616.9933,-208.0669 1619.4791,-214.6107\"/>\n<text text-anchor=\"middle\" x=\"1580.0467\" y=\"-231.8\" font-family=\"Times,serif\" font-size=\"14.00\" fill=\"#000000\">no</text>\n</g>\n<!-- 41 -->\n<g id=\"node48\" class=\"node\">\n<title>41</title>\n<ellipse fill=\"none\" stroke=\"#000000\" cx=\"1647.0467\" cy=\"-279\" rx=\"80.6858\" ry=\"18\"/>\n<text text-anchor=\"middle\" x=\"1647.0467\" y=\"-275.3\" font-family=\"Times,serif\" font-size=\"14.00\" fill=\"#000000\">leaf=0.159999996</text>\n</g>\n<!-- 27&#45;&gt;41 -->\n<g id=\"edge47\" class=\"edge\">\n<title>27&#45;&gt;41</title>\n<path fill=\"none\" stroke=\"#0000ff\" d=\"M1647.0467,-347.9735C1647.0467,-336.1918 1647.0467,-320.5607 1647.0467,-307.1581\"/>\n<polygon fill=\"#0000ff\" stroke=\"#0000ff\" points=\"1650.5468,-307.0033 1647.0467,-297.0034 1643.5468,-307.0034 1650.5468,-307.0033\"/>\n<text text-anchor=\"middle\" x=\"1682.5467\" y=\"-318.8\" font-family=\"Times,serif\" font-size=\"14.00\" fill=\"#000000\">yes, missing</text>\n</g>\n<!-- 42 -->\n<g id=\"node49\" class=\"node\">\n<title>42</title>\n<ellipse fill=\"none\" stroke=\"#000000\" cx=\"1834.0467\" cy=\"-279\" rx=\"88.2844\" ry=\"18\"/>\n<text text-anchor=\"middle\" x=\"1834.0467\" y=\"-275.3\" font-family=\"Times,serif\" font-size=\"14.00\" fill=\"#000000\">leaf=&#45;0.0799999982</text>\n</g>\n<!-- 27&#45;&gt;42 -->\n<g id=\"edge48\" class=\"edge\">\n<title>27&#45;&gt;42</title>\n<path fill=\"none\" stroke=\"#ff0000\" d=\"M1675.448,-352.7866C1705.6489,-338.7359 1753.8389,-316.3159 1789.1814,-299.8732\"/>\n<polygon fill=\"#ff0000\" stroke=\"#ff0000\" points=\"1790.736,-303.0102 1798.3264,-295.6185 1787.7832,-296.6635 1790.736,-303.0102\"/>\n<text text-anchor=\"middle\" x=\"1760.0467\" y=\"-318.8\" font-family=\"Times,serif\" font-size=\"14.00\" fill=\"#000000\">no</text>\n</g>\n<!-- 11 -->\n<g id=\"node52\" class=\"node\">\n<title>11</title>\n<ellipse fill=\"none\" stroke=\"#000000\" cx=\"2224.0467\" cy=\"-540\" rx=\"40.8928\" ry=\"18\"/>\n<text text-anchor=\"middle\" x=\"2224.0467\" y=\"-536.3\" font-family=\"Times,serif\" font-size=\"14.00\" fill=\"#000000\">f1&lt;28.5</text>\n</g>\n<!-- 6&#45;&gt;11 -->\n<g id=\"edge51\" class=\"edge\">\n<title>6&#45;&gt;11</title>\n<path fill=\"none\" stroke=\"#0000ff\" d=\"M2224.0467,-608.9735C2224.0467,-597.1918 2224.0467,-581.5607 2224.0467,-568.1581\"/>\n<polygon fill=\"#0000ff\" stroke=\"#0000ff\" points=\"2227.5468,-568.0033 2224.0467,-558.0034 2220.5468,-568.0034 2227.5468,-568.0033\"/>\n<text text-anchor=\"middle\" x=\"2259.5467\" y=\"-579.8\" font-family=\"Times,serif\" font-size=\"14.00\" fill=\"#000000\">yes, missing</text>\n</g>\n<!-- 12 -->\n<g id=\"node53\" class=\"node\">\n<title>12</title>\n<ellipse fill=\"none\" stroke=\"#000000\" cx=\"2428.0467\" cy=\"-540\" rx=\"36.2938\" ry=\"18\"/>\n<text text-anchor=\"middle\" x=\"2428.0467\" y=\"-536.3\" font-family=\"Times,serif\" font-size=\"14.00\" fill=\"#000000\">f2&lt;1.5</text>\n</g>\n<!-- 6&#45;&gt;12 -->\n<g id=\"edge52\" class=\"edge\">\n<title>6&#45;&gt;12</title>\n<path fill=\"none\" stroke=\"#ff0000\" d=\"M2260.5178,-611.4461C2297.3391,-595.743 2353.9176,-571.6139 2390.9579,-555.8173\"/>\n<polygon fill=\"#ff0000\" stroke=\"#ff0000\" points=\"2392.5664,-558.9364 2400.3918,-551.794 2389.8203,-552.4975 2392.5664,-558.9364\"/>\n<text text-anchor=\"middle\" x=\"2347.0467\" y=\"-579.8\" font-family=\"Times,serif\" font-size=\"14.00\" fill=\"#000000\">no</text>\n</g>\n<!-- 19 -->\n<g id=\"node54\" class=\"node\">\n<title>19</title>\n<ellipse fill=\"none\" stroke=\"#000000\" cx=\"2165.0467\" cy=\"-453\" rx=\"55.7903\" ry=\"18\"/>\n<text text-anchor=\"middle\" x=\"2165.0467\" y=\"-449.3\" font-family=\"Times,serif\" font-size=\"14.00\" fill=\"#000000\">f4&lt;15.3729</text>\n</g>\n<!-- 11&#45;&gt;19 -->\n<g id=\"edge53\" class=\"edge\">\n<title>11&#45;&gt;19</title>\n<path fill=\"none\" stroke=\"#0000ff\" d=\"M2205.4606,-523.932C2199.3996,-518.0729 2192.97,-511.1269 2188.0467,-504 2183.1015,-496.8414 2178.8009,-488.4481 2175.2994,-480.5608\"/>\n<polygon fill=\"#0000ff\" stroke=\"#0000ff\" points=\"2178.5185,-479.1865 2171.4349,-471.3078 2172.0592,-481.8843 2178.5185,-479.1865\"/>\n<text text-anchor=\"middle\" x=\"2223.5467\" y=\"-492.8\" font-family=\"Times,serif\" font-size=\"14.00\" fill=\"#000000\">yes, missing</text>\n</g>\n<!-- 20 -->\n<g id=\"node55\" class=\"node\">\n<title>20</title>\n<ellipse fill=\"none\" stroke=\"#000000\" cx=\"2286.0467\" cy=\"-453\" rx=\"40.8928\" ry=\"18\"/>\n<text text-anchor=\"middle\" x=\"2286.0467\" y=\"-449.3\" font-family=\"Times,serif\" font-size=\"14.00\" fill=\"#000000\">f1&lt;36.5</text>\n</g>\n<!-- 11&#45;&gt;20 -->\n<g id=\"edge54\" class=\"edge\">\n<title>11&#45;&gt;20</title>\n<path fill=\"none\" stroke=\"#ff0000\" d=\"M2241.8421,-523.681C2247.7128,-517.8016 2254.0201,-510.9071 2259.0467,-504 2264.4702,-496.5476 2269.4826,-487.8649 2273.6789,-479.7988\"/>\n<polygon fill=\"#ff0000\" stroke=\"#ff0000\" points=\"2276.8741,-481.2344 2278.206,-470.7236 2270.6102,-478.1097 2276.8741,-481.2344\"/>\n<text text-anchor=\"middle\" x=\"2277.0467\" y=\"-492.8\" font-family=\"Times,serif\" font-size=\"14.00\" fill=\"#000000\">no</text>\n</g>\n<!-- 21 -->\n<g id=\"node72\" class=\"node\">\n<title>21</title>\n<ellipse fill=\"none\" stroke=\"#000000\" cx=\"2428.0467\" cy=\"-453\" rx=\"83.3857\" ry=\"18\"/>\n<text text-anchor=\"middle\" x=\"2428.0467\" y=\"-449.3\" font-family=\"Times,serif\" font-size=\"14.00\" fill=\"#000000\">leaf=&#45;0.064000003</text>\n</g>\n<!-- 12&#45;&gt;21 -->\n<g id=\"edge71\" class=\"edge\">\n<title>12&#45;&gt;21</title>\n<path fill=\"none\" stroke=\"#0000ff\" d=\"M2428.0467,-521.9735C2428.0467,-510.1918 2428.0467,-494.5607 2428.0467,-481.1581\"/>\n<polygon fill=\"#0000ff\" stroke=\"#0000ff\" points=\"2431.5468,-481.0033 2428.0467,-471.0034 2424.5468,-481.0034 2431.5468,-481.0033\"/>\n<text text-anchor=\"middle\" x=\"2463.5467\" y=\"-492.8\" font-family=\"Times,serif\" font-size=\"14.00\" fill=\"#000000\">yes, missing</text>\n</g>\n<!-- 22 -->\n<g id=\"node73\" class=\"node\">\n<title>22</title>\n<ellipse fill=\"none\" stroke=\"#000000\" cx=\"2612.0467\" cy=\"-453\" rx=\"83.3857\" ry=\"18\"/>\n<text text-anchor=\"middle\" x=\"2612.0467\" y=\"-449.3\" font-family=\"Times,serif\" font-size=\"14.00\" fill=\"#000000\">leaf=&#45;0.221538469</text>\n</g>\n<!-- 12&#45;&gt;22 -->\n<g id=\"edge72\" class=\"edge\">\n<title>12&#45;&gt;22</title>\n<path fill=\"none\" stroke=\"#ff0000\" d=\"M2454.4094,-527.535C2484.0556,-513.5175 2532.6755,-490.5288 2568.0916,-473.7831\"/>\n<polygon fill=\"#ff0000\" stroke=\"#ff0000\" points=\"2569.7025,-476.893 2577.2468,-469.4543 2566.7103,-470.5648 2569.7025,-476.893\"/>\n<text text-anchor=\"middle\" x=\"2539.0467\" y=\"-492.8\" font-family=\"Times,serif\" font-size=\"14.00\" fill=\"#000000\">no</text>\n</g>\n<!-- 29 -->\n<g id=\"node56\" class=\"node\">\n<title>29</title>\n<ellipse fill=\"none\" stroke=\"#000000\" cx=\"1996.0467\" cy=\"-366\" rx=\"70.3881\" ry=\"18\"/>\n<text text-anchor=\"middle\" x=\"1996.0467\" y=\"-362.3\" font-family=\"Times,serif\" font-size=\"14.00\" fill=\"#000000\">f4&lt;13.9354496</text>\n</g>\n<!-- 19&#45;&gt;29 -->\n<g id=\"edge55\" class=\"edge\">\n<title>19&#45;&gt;29</title>\n<path fill=\"none\" stroke=\"#0000ff\" d=\"M2133.1262,-438.1064C2119.7439,-431.7518 2104.0662,-424.1623 2090.0467,-417 2071.632,-407.5923 2051.4484,-396.7173 2034.5203,-387.4324\"/>\n<polygon fill=\"#0000ff\" stroke=\"#0000ff\" points=\"2035.931,-384.2137 2025.4828,-382.4572 2032.5551,-390.3459 2035.931,-384.2137\"/>\n<text text-anchor=\"middle\" x=\"2125.5467\" y=\"-405.8\" font-family=\"Times,serif\" font-size=\"14.00\" fill=\"#000000\">yes, missing</text>\n</g>\n<!-- 30 -->\n<g id=\"node57\" class=\"node\">\n<title>30</title>\n<ellipse fill=\"none\" stroke=\"#000000\" cx=\"2165.0467\" cy=\"-366\" rx=\"80.6858\" ry=\"18\"/>\n<text text-anchor=\"middle\" x=\"2165.0467\" y=\"-362.3\" font-family=\"Times,serif\" font-size=\"14.00\" fill=\"#000000\">leaf=0.218947366</text>\n</g>\n<!-- 19&#45;&gt;30 -->\n<g id=\"edge56\" class=\"edge\">\n<title>19&#45;&gt;30</title>\n<path fill=\"none\" stroke=\"#ff0000\" d=\"M2165.0467,-434.9735C2165.0467,-423.1918 2165.0467,-407.5607 2165.0467,-394.1581\"/>\n<polygon fill=\"#ff0000\" stroke=\"#ff0000\" points=\"2168.5468,-394.0033 2165.0467,-384.0034 2161.5468,-394.0034 2168.5468,-394.0033\"/>\n<text text-anchor=\"middle\" x=\"2173.0467\" y=\"-405.8\" font-family=\"Times,serif\" font-size=\"14.00\" fill=\"#000000\">no</text>\n</g>\n<!-- 31 -->\n<g id=\"node68\" class=\"node\">\n<title>31</title>\n<ellipse fill=\"none\" stroke=\"#000000\" cx=\"2305.0467\" cy=\"-366\" rx=\"40.8928\" ry=\"18\"/>\n<text text-anchor=\"middle\" x=\"2305.0467\" y=\"-362.3\" font-family=\"Times,serif\" font-size=\"14.00\" fill=\"#000000\">f1&lt;30.5</text>\n</g>\n<!-- 20&#45;&gt;31 -->\n<g id=\"edge67\" class=\"edge\">\n<title>20&#45;&gt;31</title>\n<path fill=\"none\" stroke=\"#0000ff\" d=\"M2289.9835,-434.9735C2292.5566,-423.1918 2295.9702,-407.5607 2298.8972,-394.1581\"/>\n<polygon fill=\"#0000ff\" stroke=\"#0000ff\" points=\"2302.4007,-394.5199 2301.1149,-384.0034 2295.5618,-393.0263 2302.4007,-394.5199\"/>\n<text text-anchor=\"middle\" x=\"2332.5467\" y=\"-405.8\" font-family=\"Times,serif\" font-size=\"14.00\" fill=\"#000000\">yes, missing</text>\n</g>\n<!-- 32 -->\n<g id=\"node69\" class=\"node\">\n<title>32</title>\n<ellipse fill=\"none\" stroke=\"#000000\" cx=\"2447.0467\" cy=\"-366\" rx=\"83.3857\" ry=\"18\"/>\n<text text-anchor=\"middle\" x=\"2447.0467\" y=\"-362.3\" font-family=\"Times,serif\" font-size=\"14.00\" fill=\"#000000\">leaf=&#45;0.145454541</text>\n</g>\n<!-- 20&#45;&gt;32 -->\n<g id=\"edge68\" class=\"edge\">\n<title>20&#45;&gt;32</title>\n<path fill=\"none\" stroke=\"#ff0000\" d=\"M2317.799,-441.4714C2334.3418,-435.029 2354.6871,-426.4118 2372.0467,-417 2387.0355,-408.8736 2402.7626,-398.4974 2415.9218,-389.2286\"/>\n<polygon fill=\"#ff0000\" stroke=\"#ff0000\" points=\"2418.0677,-391.9969 2424.1649,-383.3323 2413.9952,-386.3035 2418.0677,-391.9969\"/>\n<text text-anchor=\"middle\" x=\"2404.0467\" y=\"-405.8\" font-family=\"Times,serif\" font-size=\"14.00\" fill=\"#000000\">no</text>\n</g>\n<!-- 43 -->\n<g id=\"node58\" class=\"node\">\n<title>43</title>\n<ellipse fill=\"none\" stroke=\"#000000\" cx=\"1977.0467\" cy=\"-279\" rx=\"36.2938\" ry=\"18\"/>\n<text text-anchor=\"middle\" x=\"1977.0467\" y=\"-275.3\" font-family=\"Times,serif\" font-size=\"14.00\" fill=\"#000000\">f8&lt;0.5</text>\n</g>\n<!-- 29&#45;&gt;43 -->\n<g id=\"edge57\" class=\"edge\">\n<title>29&#45;&gt;43</title>\n<path fill=\"none\" stroke=\"#0000ff\" d=\"M1992.1099,-347.9735C1989.5369,-336.1918 1986.1232,-320.5607 1983.1962,-307.1581\"/>\n<polygon fill=\"#0000ff\" stroke=\"#0000ff\" points=\"1986.5316,-306.0263 1980.9785,-297.0034 1979.6928,-307.5199 1986.5316,-306.0263\"/>\n<text text-anchor=\"middle\" x=\"2023.5467\" y=\"-318.8\" font-family=\"Times,serif\" font-size=\"14.00\" fill=\"#000000\">yes, missing</text>\n</g>\n<!-- 44 -->\n<g id=\"node59\" class=\"node\">\n<title>44</title>\n<ellipse fill=\"none\" stroke=\"#000000\" cx=\"2115.0467\" cy=\"-279\" rx=\"83.3857\" ry=\"18\"/>\n<text text-anchor=\"middle\" x=\"2115.0467\" y=\"-275.3\" font-family=\"Times,serif\" font-size=\"14.00\" fill=\"#000000\">leaf=&#45;0.106666669</text>\n</g>\n<!-- 29&#45;&gt;44 -->\n<g id=\"edge58\" class=\"edge\">\n<title>29&#45;&gt;44</title>\n<path fill=\"none\" stroke=\"#ff0000\" d=\"M2029.8824,-350.1949C2040.862,-344.4538 2052.8365,-337.513 2063.0467,-330 2073.2873,-322.4647 2083.5053,-312.9812 2092.1387,-304.2423\"/>\n<polygon fill=\"#ff0000\" stroke=\"#ff0000\" points=\"2094.8669,-306.4547 2099.2784,-296.822 2089.8227,-301.6012 2094.8669,-306.4547\"/>\n<text text-anchor=\"middle\" x=\"2088.0467\" y=\"-318.8\" font-family=\"Times,serif\" font-size=\"14.00\" fill=\"#000000\">no</text>\n</g>\n<!-- 57 -->\n<g id=\"node60\" class=\"node\">\n<title>57</title>\n<ellipse fill=\"none\" stroke=\"#000000\" cx=\"1869.0467\" cy=\"-192\" rx=\"80.6858\" ry=\"18\"/>\n<text text-anchor=\"middle\" x=\"1869.0467\" y=\"-188.3\" font-family=\"Times,serif\" font-size=\"14.00\" fill=\"#000000\">leaf=0.186666653</text>\n</g>\n<!-- 43&#45;&gt;57 -->\n<g id=\"edge59\" class=\"edge\">\n<title>43&#45;&gt;57</title>\n<path fill=\"none\" stroke=\"#0000ff\" d=\"M1951.8046,-265.9107C1940.6804,-259.634 1927.7372,-251.6107 1917.0467,-243 1907.7668,-235.5255 1898.5576,-226.2998 1890.725,-217.7591\"/>\n<polygon fill=\"#0000ff\" stroke=\"#0000ff\" points=\"1893.2271,-215.3063 1883.9562,-210.178 1888.0055,-219.9685 1893.2271,-215.3063\"/>\n<text text-anchor=\"middle\" x=\"1952.5467\" y=\"-231.8\" font-family=\"Times,serif\" font-size=\"14.00\" fill=\"#000000\">yes, missing</text>\n</g>\n<!-- 58 -->\n<g id=\"node61\" class=\"node\">\n<title>58</title>\n<ellipse fill=\"none\" stroke=\"#000000\" cx=\"2009.0467\" cy=\"-192\" rx=\"40.8928\" ry=\"18\"/>\n<text text-anchor=\"middle\" x=\"2009.0467\" y=\"-188.3\" font-family=\"Times,serif\" font-size=\"14.00\" fill=\"#000000\">f1&lt;22.5</text>\n</g>\n<!-- 43&#45;&gt;58 -->\n<g id=\"edge60\" class=\"edge\">\n<title>43&#45;&gt;58</title>\n<path fill=\"none\" stroke=\"#ff0000\" d=\"M1983.6771,-260.9735C1988.0536,-249.0751 1993.874,-233.2508 1998.8359,-219.7606\"/>\n<polygon fill=\"#ff0000\" stroke=\"#ff0000\" points=\"2002.2575,-220.5969 2002.4248,-210.0034 1995.6878,-218.1804 2002.2575,-220.5969\"/>\n<text text-anchor=\"middle\" x=\"2003.0467\" y=\"-231.8\" font-family=\"Times,serif\" font-size=\"14.00\" fill=\"#000000\">no</text>\n</g>\n<!-- 65 -->\n<g id=\"node62\" class=\"node\">\n<title>65</title>\n<ellipse fill=\"none\" stroke=\"#000000\" cx=\"1951.0467\" cy=\"-105\" rx=\"40.8928\" ry=\"18\"/>\n<text text-anchor=\"middle\" x=\"1951.0467\" y=\"-101.3\" font-family=\"Times,serif\" font-size=\"14.00\" fill=\"#000000\">f1&lt;15.5</text>\n</g>\n<!-- 58&#45;&gt;65 -->\n<g id=\"edge61\" class=\"edge\">\n<title>58&#45;&gt;65</title>\n<path fill=\"none\" stroke=\"#0000ff\" d=\"M1990.0218,-175.6181C1984.066,-169.8384 1977.8121,-163.0208 1973.0467,-156 1968.1186,-148.7395 1963.9142,-140.1966 1960.5417,-132.2003\"/>\n<polygon fill=\"#0000ff\" stroke=\"#0000ff\" points=\"1963.7746,-130.8575 1956.8478,-122.8406 1957.2633,-133.4273 1963.7746,-130.8575\"/>\n<text text-anchor=\"middle\" x=\"2008.5467\" y=\"-144.8\" font-family=\"Times,serif\" font-size=\"14.00\" fill=\"#000000\">yes, missing</text>\n</g>\n<!-- 66 -->\n<g id=\"node63\" class=\"node\">\n<title>66</title>\n<ellipse fill=\"none\" stroke=\"#000000\" cx=\"2087.0467\" cy=\"-105\" rx=\"40.8928\" ry=\"18\"/>\n<text text-anchor=\"middle\" x=\"2087.0467\" y=\"-101.3\" font-family=\"Times,serif\" font-size=\"14.00\" fill=\"#000000\">f1&lt;26.5</text>\n</g>\n<!-- 58&#45;&gt;66 -->\n<g id=\"edge62\" class=\"edge\">\n<title>58&#45;&gt;66</title>\n<path fill=\"none\" stroke=\"#ff0000\" d=\"M2025.6789,-175.3858C2031.5748,-169.3677 2038.1954,-162.4612 2044.0467,-156 2051.5098,-147.759 2059.4224,-138.5269 2066.398,-130.2059\"/>\n<polygon fill=\"#ff0000\" stroke=\"#ff0000\" points=\"2069.3045,-132.1848 2073.0098,-122.259 2063.9234,-127.7078 2069.3045,-132.1848\"/>\n<text text-anchor=\"middle\" x=\"2065.0467\" y=\"-144.8\" font-family=\"Times,serif\" font-size=\"14.00\" fill=\"#000000\">no</text>\n</g>\n<!-- 69 -->\n<g id=\"node64\" class=\"node\">\n<title>69</title>\n<ellipse fill=\"none\" stroke=\"#000000\" cx=\"1815.0467\" cy=\"-18\" rx=\"37.0935\" ry=\"18\"/>\n<text text-anchor=\"middle\" x=\"1815.0467\" y=\"-14.3\" font-family=\"Times,serif\" font-size=\"14.00\" fill=\"#000000\">leaf=&#45;0</text>\n</g>\n<!-- 65&#45;&gt;69 -->\n<g id=\"edge63\" class=\"edge\">\n<title>65&#45;&gt;69</title>\n<path fill=\"none\" stroke=\"#0000ff\" d=\"M1920.9285,-92.6124C1906.8543,-86.31 1890.1345,-78.0683 1876.0467,-69 1863.375,-60.8432 1850.4174,-50.3684 1839.7224,-41.0361\"/>\n<polygon fill=\"#0000ff\" stroke=\"#0000ff\" points=\"1841.8217,-38.2188 1832.027,-34.1796 1837.165,-43.4452 1841.8217,-38.2188\"/>\n<text text-anchor=\"middle\" x=\"1911.5467\" y=\"-57.8\" font-family=\"Times,serif\" font-size=\"14.00\" fill=\"#000000\">yes, missing</text>\n</g>\n<!-- 70 -->\n<g id=\"node65\" class=\"node\">\n<title>70</title>\n<ellipse fill=\"none\" stroke=\"#000000\" cx=\"1951.0467\" cy=\"-18\" rx=\"80.6858\" ry=\"18\"/>\n<text text-anchor=\"middle\" x=\"1951.0467\" y=\"-14.3\" font-family=\"Times,serif\" font-size=\"14.00\" fill=\"#000000\">leaf=0.145454541</text>\n</g>\n<!-- 65&#45;&gt;70 -->\n<g id=\"edge64\" class=\"edge\">\n<title>65&#45;&gt;70</title>\n<path fill=\"none\" stroke=\"#ff0000\" d=\"M1951.0467,-86.9735C1951.0467,-75.1918 1951.0467,-59.5607 1951.0467,-46.1581\"/>\n<polygon fill=\"#ff0000\" stroke=\"#ff0000\" points=\"1954.5468,-46.0033 1951.0467,-36.0034 1947.5468,-46.0034 1954.5468,-46.0033\"/>\n<text text-anchor=\"middle\" x=\"1959.0467\" y=\"-57.8\" font-family=\"Times,serif\" font-size=\"14.00\" fill=\"#000000\">no</text>\n</g>\n<!-- 71 -->\n<g id=\"node66\" class=\"node\">\n<title>71</title>\n<ellipse fill=\"none\" stroke=\"#000000\" cx=\"2087.0467\" cy=\"-18\" rx=\"37.0935\" ry=\"18\"/>\n<text text-anchor=\"middle\" x=\"2087.0467\" y=\"-14.3\" font-family=\"Times,serif\" font-size=\"14.00\" fill=\"#000000\">leaf=&#45;0</text>\n</g>\n<!-- 66&#45;&gt;71 -->\n<g id=\"edge65\" class=\"edge\">\n<title>66&#45;&gt;71</title>\n<path fill=\"none\" stroke=\"#0000ff\" d=\"M2087.0467,-86.9735C2087.0467,-75.1918 2087.0467,-59.5607 2087.0467,-46.1581\"/>\n<polygon fill=\"#0000ff\" stroke=\"#0000ff\" points=\"2090.5468,-46.0033 2087.0467,-36.0034 2083.5468,-46.0034 2090.5468,-46.0033\"/>\n<text text-anchor=\"middle\" x=\"2122.5467\" y=\"-57.8\" font-family=\"Times,serif\" font-size=\"14.00\" fill=\"#000000\">yes, missing</text>\n</g>\n<!-- 72 -->\n<g id=\"node67\" class=\"node\">\n<title>72</title>\n<ellipse fill=\"none\" stroke=\"#000000\" cx=\"2230.0467\" cy=\"-18\" rx=\"88.2844\" ry=\"18\"/>\n<text text-anchor=\"middle\" x=\"2230.0467\" y=\"-14.3\" font-family=\"Times,serif\" font-size=\"14.00\" fill=\"#000000\">leaf=&#45;0.0355555564</text>\n</g>\n<!-- 66&#45;&gt;72 -->\n<g id=\"edge66\" class=\"edge\">\n<title>66&#45;&gt;72</title>\n<path fill=\"none\" stroke=\"#ff0000\" d=\"M2116.5922,-92.4401C2130.6936,-86.0409 2147.6008,-77.7679 2162.0467,-69 2175.2434,-60.9904 2189.0095,-51.0108 2200.6761,-42.0086\"/>\n<polygon fill=\"#ff0000\" stroke=\"#ff0000\" points=\"2203.0522,-44.5932 2208.7619,-35.6686 2198.7329,-39.0846 2203.0522,-44.5932\"/>\n<text text-anchor=\"middle\" x=\"2192.0467\" y=\"-57.8\" font-family=\"Times,serif\" font-size=\"14.00\" fill=\"#000000\">no</text>\n</g>\n<!-- 45 -->\n<g id=\"node70\" class=\"node\">\n<title>45</title>\n<ellipse fill=\"none\" stroke=\"#000000\" cx=\"2305.0467\" cy=\"-279\" rx=\"88.2844\" ry=\"18\"/>\n<text text-anchor=\"middle\" x=\"2305.0467\" y=\"-275.3\" font-family=\"Times,serif\" font-size=\"14.00\" fill=\"#000000\">leaf=&#45;0.0799999982</text>\n</g>\n<!-- 31&#45;&gt;45 -->\n<g id=\"edge69\" class=\"edge\">\n<title>31&#45;&gt;45</title>\n<path fill=\"none\" stroke=\"#0000ff\" d=\"M2305.0467,-347.9735C2305.0467,-336.1918 2305.0467,-320.5607 2305.0467,-307.1581\"/>\n<polygon fill=\"#0000ff\" stroke=\"#0000ff\" points=\"2308.5468,-307.0033 2305.0467,-297.0034 2301.5468,-307.0034 2308.5468,-307.0033\"/>\n<text text-anchor=\"middle\" x=\"2340.5467\" y=\"-318.8\" font-family=\"Times,serif\" font-size=\"14.00\" fill=\"#000000\">yes, missing</text>\n</g>\n<!-- 46 -->\n<g id=\"node71\" class=\"node\">\n<title>46</title>\n<ellipse fill=\"none\" stroke=\"#000000\" cx=\"2497.0467\" cy=\"-279\" rx=\"85.2851\" ry=\"18\"/>\n<text text-anchor=\"middle\" x=\"2497.0467\" y=\"-275.3\" font-family=\"Times,serif\" font-size=\"14.00\" fill=\"#000000\">leaf=0.0290909093</text>\n</g>\n<!-- 31&#45;&gt;46 -->\n<g id=\"edge70\" class=\"edge\">\n<title>31&#45;&gt;46</title>\n<path fill=\"none\" stroke=\"#ff0000\" d=\"M2333.7911,-352.9752C2364.9051,-338.8767 2414.9609,-316.1951 2451.4525,-299.6599\"/>\n<polygon fill=\"#ff0000\" stroke=\"#ff0000\" points=\"2453.2232,-302.7001 2460.8872,-295.3848 2450.3341,-296.3242 2453.2232,-302.7001\"/>\n<text text-anchor=\"middle\" x=\"2421.0467\" y=\"-318.8\" font-family=\"Times,serif\" font-size=\"14.00\" fill=\"#000000\">no</text>\n</g>\n</g>\n</svg>\n"
          },
          "metadata": {
            "tags": []
          },
          "execution_count": 132
        }
      ]
    },
    {
      "cell_type": "code",
      "metadata": {
        "id": "5Csh2DKzvEZJ"
      },
      "source": [
        ""
      ],
      "execution_count": null,
      "outputs": []
    }
  ]
}