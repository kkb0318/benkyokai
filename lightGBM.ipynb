{
  "nbformat": 4,
  "nbformat_minor": 0,
  "metadata": {
    "colab": {
      "name": "lightGBM.ipynb",
      "provenance": [],
      "collapsed_sections": [
        "ugV3TOum1Ft4",
        "eylrTPAN3rJV",
        "_2Er1vtFCG0v"
      ],
      "toc_visible": true,
      "include_colab_link": true
    },
    "kernelspec": {
      "display_name": "Python 3",
      "name": "python3"
    },
    "language_info": {
      "codemirror_mode": {
        "name": "ipython",
        "version": 3
      },
      "file_extension": ".py",
      "mimetype": "text/x-python",
      "name": "python",
      "nbconvert_exporter": "python",
      "pygments_lexer": "ipython3",
      "version": "3.6.9"
    }
  },
  "cells": [
    {
      "cell_type": "markdown",
      "metadata": {
        "id": "view-in-github",
        "colab_type": "text"
      },
      "source": [
        "<a href=\"https://colab.research.google.com/github/kkb0318/benkyokai/blob/main/lightGBM.ipynb\" target=\"_parent\"><img src=\"https://colab.research.google.com/assets/colab-badge.svg\" alt=\"Open In Colab\"/></a>"
      ]
    },
    {
      "cell_type": "markdown",
      "metadata": {
        "id": "ugV3TOum1Ft4"
      },
      "source": [
        "## Install"
      ]
    },
    {
      "cell_type": "code",
      "metadata": {
        "colab": {
          "base_uri": "https://localhost:8080/"
        },
        "id": "uu1zdEsr1MXQ",
        "outputId": "cd591960-e0fe-4e2c-977f-f5af08a25ba3"
      },
      "source": [
        "!pip install lightgbm\n",
        "!pip install dtreeviz"
      ],
      "execution_count": 2,
      "outputs": [
        {
          "output_type": "stream",
          "text": [
            "Requirement already satisfied: lightgbm in /usr/local/lib/python3.7/dist-packages (2.2.3)\n",
            "Requirement already satisfied: scikit-learn in /usr/local/lib/python3.7/dist-packages (from lightgbm) (0.22.2.post1)\n",
            "Requirement already satisfied: scipy in /usr/local/lib/python3.7/dist-packages (from lightgbm) (1.4.1)\n",
            "Requirement already satisfied: numpy in /usr/local/lib/python3.7/dist-packages (from lightgbm) (1.19.5)\n",
            "Requirement already satisfied: joblib>=0.11 in /usr/local/lib/python3.7/dist-packages (from scikit-learn->lightgbm) (1.0.1)\n",
            "Collecting dtreeviz\n",
            "\u001b[?25l  Downloading https://files.pythonhosted.org/packages/dc/88/fe5297d53c43dbd64a3745fa0ecde2c4aa43e237aa4db46d4d29c8f6cf8b/dtreeviz-1.2.tar.gz (54kB)\n",
            "\u001b[K     |████████████████████████████████| 61kB 5.5MB/s \n",
            "\u001b[?25hRequirement already satisfied: graphviz>=0.9 in /usr/local/lib/python3.7/dist-packages (from dtreeviz) (0.10.1)\n",
            "Requirement already satisfied: pandas in /usr/local/lib/python3.7/dist-packages (from dtreeviz) (1.1.5)\n",
            "Requirement already satisfied: numpy in /usr/local/lib/python3.7/dist-packages (from dtreeviz) (1.19.5)\n",
            "Requirement already satisfied: scikit-learn in /usr/local/lib/python3.7/dist-packages (from dtreeviz) (0.22.2.post1)\n",
            "Requirement already satisfied: matplotlib in /usr/local/lib/python3.7/dist-packages (from dtreeviz) (3.2.2)\n",
            "Collecting colour\n",
            "  Downloading https://files.pythonhosted.org/packages/74/46/e81907704ab203206769dee1385dc77e1407576ff8f50a0681d0a6b541be/colour-0.1.5-py2.py3-none-any.whl\n",
            "Requirement already satisfied: pytest in /usr/local/lib/python3.7/dist-packages (from dtreeviz) (3.6.4)\n",
            "Requirement already satisfied: python-dateutil>=2.7.3 in /usr/local/lib/python3.7/dist-packages (from pandas->dtreeviz) (2.8.1)\n",
            "Requirement already satisfied: pytz>=2017.2 in /usr/local/lib/python3.7/dist-packages (from pandas->dtreeviz) (2018.9)\n",
            "Requirement already satisfied: joblib>=0.11 in /usr/local/lib/python3.7/dist-packages (from scikit-learn->dtreeviz) (1.0.1)\n",
            "Requirement already satisfied: scipy>=0.17.0 in /usr/local/lib/python3.7/dist-packages (from scikit-learn->dtreeviz) (1.4.1)\n",
            "Requirement already satisfied: pyparsing!=2.0.4,!=2.1.2,!=2.1.6,>=2.0.1 in /usr/local/lib/python3.7/dist-packages (from matplotlib->dtreeviz) (2.4.7)\n",
            "Requirement already satisfied: kiwisolver>=1.0.1 in /usr/local/lib/python3.7/dist-packages (from matplotlib->dtreeviz) (1.3.1)\n",
            "Requirement already satisfied: cycler>=0.10 in /usr/local/lib/python3.7/dist-packages (from matplotlib->dtreeviz) (0.10.0)\n",
            "Requirement already satisfied: py>=1.5.0 in /usr/local/lib/python3.7/dist-packages (from pytest->dtreeviz) (1.10.0)\n",
            "Requirement already satisfied: pluggy<0.8,>=0.5 in /usr/local/lib/python3.7/dist-packages (from pytest->dtreeviz) (0.7.1)\n",
            "Requirement already satisfied: six>=1.10.0 in /usr/local/lib/python3.7/dist-packages (from pytest->dtreeviz) (1.15.0)\n",
            "Requirement already satisfied: setuptools in /usr/local/lib/python3.7/dist-packages (from pytest->dtreeviz) (54.1.2)\n",
            "Requirement already satisfied: more-itertools>=4.0.0 in /usr/local/lib/python3.7/dist-packages (from pytest->dtreeviz) (8.7.0)\n",
            "Requirement already satisfied: attrs>=17.4.0 in /usr/local/lib/python3.7/dist-packages (from pytest->dtreeviz) (20.3.0)\n",
            "Requirement already satisfied: atomicwrites>=1.0 in /usr/local/lib/python3.7/dist-packages (from pytest->dtreeviz) (1.4.0)\n",
            "Building wheels for collected packages: dtreeviz\n",
            "  Building wheel for dtreeviz (setup.py) ... \u001b[?25l\u001b[?25hdone\n",
            "  Created wheel for dtreeviz: filename=dtreeviz-1.2-cp37-none-any.whl size=60009 sha256=c32742716dba36b20ea56922dc6481a914fb80aeaa359979905675707b8c3fd1\n",
            "  Stored in directory: /root/.cache/pip/wheels/b9/4b/20/0bde3e04ace9178327ffabf575f9bbc4abb1d0c4f8c355306a\n",
            "Successfully built dtreeviz\n",
            "Installing collected packages: colour, dtreeviz\n",
            "Successfully installed colour-0.1.5 dtreeviz-1.2\n"
          ],
          "name": "stdout"
        }
      ]
    },
    {
      "cell_type": "markdown",
      "metadata": {
        "id": "eylrTPAN3rJV"
      },
      "source": [
        "## titanic dataset"
      ]
    },
    {
      "cell_type": "code",
      "metadata": {
        "id": "KuhAiPfZ3rJW"
      },
      "source": [
        "import numpy as np\n",
        "import pandas as pd\n",
        "from IPython.display import clear_output\n",
        "from matplotlib import pyplot as plt\n",
        "\n",
        "# Load dataset.\n",
        "dftrain = pd.read_csv('https://storage.googleapis.com/tf-datasets/titanic/train.csv')\n",
        "dfeval = pd.read_csv('https://storage.googleapis.com/tf-datasets/titanic/eval.csv')\n",
        "y_train = dftrain.pop('survived')\n",
        "y_eval = dfeval.pop('survived')"
      ],
      "execution_count": 3,
      "outputs": []
    },
    {
      "cell_type": "markdown",
      "metadata": {
        "id": "3ioodHdVJVdA"
      },
      "source": [
        "\n",
        "\n",
        "\n",
        "<table>\n",
        "  <tr>\n",
        "    <th>Feature Name</th>\n",
        "    <th>Description</th>\n",
        "  </tr>\n",
        "  <tr>\n",
        "    <td>sex</td>\n",
        "    <td>Gender of passenger</td>\n",
        "  </tr>\n",
        "  <tr>\n",
        "    <td>age</td>\n",
        "    <td>Age of passenger</td>\n",
        "  </tr>\n",
        "    <tr>\n",
        "    <td>n_siblings_spouses</td>\n",
        "    <td>siblings and partners aboard</td>\n",
        "  </tr>\n",
        "    <tr>\n",
        "    <td>parch</td>\n",
        "    <td>of parents and children aboard</td>\n",
        "  </tr>\n",
        "    <tr>\n",
        "    <td>fare</td>\n",
        "    <td>Fare passenger paid.</td>\n",
        "  </tr>\n",
        "    <tr>\n",
        "    <td>class</td>\n",
        "    <td>Passenger's class on ship</td>\n",
        "  </tr>\n",
        "    <tr>\n",
        "    <td>deck</td>\n",
        "    <td>Which deck passenger was on</td>\n",
        "  </tr>\n",
        "    <tr>\n",
        "    <td>embark_town</td>\n",
        "    <td>Which town passenger embarked from</td>\n",
        "  </tr>\n",
        "    <tr>\n",
        "    <td>alone</td>\n",
        "    <td>If passenger was alone</td>\n",
        "  </tr>\n",
        "</table>"
      ]
    },
    {
      "cell_type": "code",
      "metadata": {
        "id": "15PLelXBlxEW",
        "colab": {
          "base_uri": "https://localhost:8080/",
          "height": 0
        },
        "outputId": "bfbea3a2-6f8e-41f8-ce65-dc3db8cfa8f6"
      },
      "source": [
        "dftrain.head()"
      ],
      "execution_count": 4,
      "outputs": [
        {
          "output_type": "execute_result",
          "data": {
            "text/html": [
              "<div>\n",
              "<style scoped>\n",
              "    .dataframe tbody tr th:only-of-type {\n",
              "        vertical-align: middle;\n",
              "    }\n",
              "\n",
              "    .dataframe tbody tr th {\n",
              "        vertical-align: top;\n",
              "    }\n",
              "\n",
              "    .dataframe thead th {\n",
              "        text-align: right;\n",
              "    }\n",
              "</style>\n",
              "<table border=\"1\" class=\"dataframe\">\n",
              "  <thead>\n",
              "    <tr style=\"text-align: right;\">\n",
              "      <th></th>\n",
              "      <th>sex</th>\n",
              "      <th>age</th>\n",
              "      <th>n_siblings_spouses</th>\n",
              "      <th>parch</th>\n",
              "      <th>fare</th>\n",
              "      <th>class</th>\n",
              "      <th>deck</th>\n",
              "      <th>embark_town</th>\n",
              "      <th>alone</th>\n",
              "    </tr>\n",
              "  </thead>\n",
              "  <tbody>\n",
              "    <tr>\n",
              "      <th>0</th>\n",
              "      <td>male</td>\n",
              "      <td>22.0</td>\n",
              "      <td>1</td>\n",
              "      <td>0</td>\n",
              "      <td>7.2500</td>\n",
              "      <td>Third</td>\n",
              "      <td>unknown</td>\n",
              "      <td>Southampton</td>\n",
              "      <td>n</td>\n",
              "    </tr>\n",
              "    <tr>\n",
              "      <th>1</th>\n",
              "      <td>female</td>\n",
              "      <td>38.0</td>\n",
              "      <td>1</td>\n",
              "      <td>0</td>\n",
              "      <td>71.2833</td>\n",
              "      <td>First</td>\n",
              "      <td>C</td>\n",
              "      <td>Cherbourg</td>\n",
              "      <td>n</td>\n",
              "    </tr>\n",
              "    <tr>\n",
              "      <th>2</th>\n",
              "      <td>female</td>\n",
              "      <td>26.0</td>\n",
              "      <td>0</td>\n",
              "      <td>0</td>\n",
              "      <td>7.9250</td>\n",
              "      <td>Third</td>\n",
              "      <td>unknown</td>\n",
              "      <td>Southampton</td>\n",
              "      <td>y</td>\n",
              "    </tr>\n",
              "    <tr>\n",
              "      <th>3</th>\n",
              "      <td>female</td>\n",
              "      <td>35.0</td>\n",
              "      <td>1</td>\n",
              "      <td>0</td>\n",
              "      <td>53.1000</td>\n",
              "      <td>First</td>\n",
              "      <td>C</td>\n",
              "      <td>Southampton</td>\n",
              "      <td>n</td>\n",
              "    </tr>\n",
              "    <tr>\n",
              "      <th>4</th>\n",
              "      <td>male</td>\n",
              "      <td>28.0</td>\n",
              "      <td>0</td>\n",
              "      <td>0</td>\n",
              "      <td>8.4583</td>\n",
              "      <td>Third</td>\n",
              "      <td>unknown</td>\n",
              "      <td>Queenstown</td>\n",
              "      <td>y</td>\n",
              "    </tr>\n",
              "  </tbody>\n",
              "</table>\n",
              "</div>"
            ],
            "text/plain": [
              "      sex   age  n_siblings_spouses  parch  ...  class     deck  embark_town alone\n",
              "0    male  22.0                   1      0  ...  Third  unknown  Southampton     n\n",
              "1  female  38.0                   1      0  ...  First        C    Cherbourg     n\n",
              "2  female  26.0                   0      0  ...  Third  unknown  Southampton     y\n",
              "3  female  35.0                   1      0  ...  First        C  Southampton     n\n",
              "4    male  28.0                   0      0  ...  Third  unknown   Queenstown     y\n",
              "\n",
              "[5 rows x 9 columns]"
            ]
          },
          "metadata": {
            "tags": []
          },
          "execution_count": 4
        }
      ]
    },
    {
      "cell_type": "markdown",
      "metadata": {
        "id": "HttfNNlN3rJr"
      },
      "source": [
        "## Train and evaluate the model"
      ]
    },
    {
      "cell_type": "markdown",
      "metadata": {
        "id": "_2Er1vtFCG0v"
      },
      "source": [
        "### Preprocessing"
      ]
    },
    {
      "cell_type": "code",
      "metadata": {
        "id": "E0DMYBdXAqH_"
      },
      "source": [
        "import numpy as np\n",
        "import pandas as pd\n",
        "import lightgbm as lgb"
      ],
      "execution_count": 5,
      "outputs": []
    },
    {
      "cell_type": "code",
      "metadata": {
        "id": "9I65g0Rg-RnD"
      },
      "source": [
        "def make_input_fn(X):\n",
        "  #print(X.isnull().sum())\n",
        "  X = X.dropna()\n",
        "  X[\"sex\"] = X[\"sex\"].map({\"male\":0,\"female\":1})\n",
        "  X[\"alone\"] = X[\"alone\"].map({\"n\":0,\"y\":1})\n",
        "  X = pd.get_dummies(X, columns=['embark_town'])\n",
        "  X = pd.get_dummies(X, columns=['class'])\n",
        "  X = pd.get_dummies(X, columns=['deck'])\n",
        "  return X"
      ],
      "execution_count": 6,
      "outputs": []
    },
    {
      "cell_type": "code",
      "metadata": {
        "id": "9WgNNAGu-2yr"
      },
      "source": [
        "x_train = make_input_fn(dftrain)\n",
        "x_eval = make_input_fn(dfeval)"
      ],
      "execution_count": 7,
      "outputs": []
    },
    {
      "cell_type": "code",
      "metadata": {
        "id": "SzfNLAiHH_Oj"
      },
      "source": [
        "# 足りない列を追加\n",
        "x_eval[x_train.columns.difference(x_eval.columns)]=0"
      ],
      "execution_count": 8,
      "outputs": []
    },
    {
      "cell_type": "markdown",
      "metadata": {
        "id": "BVOP2mlbB5eH"
      },
      "source": [
        "### Training"
      ]
    },
    {
      "cell_type": "code",
      "metadata": {
        "id": "cyTLwITf9nUV",
        "colab": {
          "base_uri": "https://localhost:8080/"
        },
        "outputId": "b676470a-eb40-4cba-de21-0417fac83bed"
      },
      "source": [
        "np_x_train = x_train.values\n",
        "np_x_eval = x_eval.values\n",
        "\n",
        "# LightGBM (goss)は主にビッグデータに適した手法\n",
        "model = lgb.LGBMClassifier(boosting_type='goss')\n",
        "model.fit(np_x_train, y_train)"
      ],
      "execution_count": 17,
      "outputs": [
        {
          "output_type": "execute_result",
          "data": {
            "text/plain": [
              "LGBMClassifier(boosting_type='goss', class_weight=None, colsample_bytree=1.0,\n",
              "               importance_type='split', learning_rate=0.1, max_depth=-1,\n",
              "               min_child_samples=20, min_child_weight=0.001, min_split_gain=0.0,\n",
              "               n_estimators=100, n_jobs=-1, num_leaves=31, objective=None,\n",
              "               random_state=None, reg_alpha=0.0, reg_lambda=0.0, silent=True,\n",
              "               subsample=1.0, subsample_for_bin=200000, subsample_freq=0)"
            ]
          },
          "metadata": {
            "tags": []
          },
          "execution_count": 17
        }
      ]
    },
    {
      "cell_type": "code",
      "metadata": {
        "id": "ll82DSMVDgmV"
      },
      "source": [
        "predicted = model.predict(np_x_eval)"
      ],
      "execution_count": 14,
      "outputs": []
    },
    {
      "cell_type": "markdown",
      "metadata": {
        "id": "V5D2R1sg96nf"
      },
      "source": [
        "### evaluation"
      ]
    },
    {
      "cell_type": "code",
      "metadata": {
        "id": "y_veybIq9847",
        "colab": {
          "base_uri": "https://localhost:8080/"
        },
        "outputId": "dfe4e528-29b8-445f-fdae-71d38251d5a3"
      },
      "source": [
        "from sklearn.metrics import confusion_matrix, precision_score\n",
        "print(confusion_matrix(y_eval,predicted))\n",
        "print(precision_score(y_eval,predicted))"
      ],
      "execution_count": 15,
      "outputs": [
        {
          "output_type": "stream",
          "text": [
            "[[130  35]\n",
            " [ 22  77]]\n",
            "0.6875\n"
          ],
          "name": "stdout"
        }
      ]
    },
    {
      "cell_type": "markdown",
      "metadata": {
        "id": "k1nwfDfMAdYm"
      },
      "source": [
        "## Visualization"
      ]
    },
    {
      "cell_type": "code",
      "metadata": {
        "id": "5Csh2DKzvEZJ",
        "colab": {
          "base_uri": "https://localhost:8080/",
          "height": 1000
        },
        "outputId": "e55b8cd5-8fe1-4c98-cddc-cd4fc7ebed11"
      },
      "source": [
        "lgb.create_tree_digraph(model)"
      ],
      "execution_count": 16,
      "outputs": [
        {
          "output_type": "execute_result",
          "data": {
            "text/plain": [
              "<graphviz.dot.Digraph at 0x7f32e05478d0>"
            ],
            "image/svg+xml": "<?xml version=\"1.0\" encoding=\"UTF-8\" standalone=\"no\"?>\n<!DOCTYPE svg PUBLIC \"-//W3C//DTD SVG 1.1//EN\"\n \"http://www.w3.org/Graphics/SVG/1.1/DTD/svg11.dtd\">\n<!-- Generated by graphviz version 2.40.1 (20161225.0304)\n -->\n<!-- Title: %3 Pages: 1 -->\n<svg width=\"3657pt\" height=\"1109pt\"\n viewBox=\"0.00 0.00 3657.30 1109.14\" xmlns=\"http://www.w3.org/2000/svg\" xmlns:xlink=\"http://www.w3.org/1999/xlink\">\n<g id=\"graph0\" class=\"graph\" transform=\"scale(1 1) rotate(0) translate(4 1105.1413)\">\n<title>%3</title>\n<polygon fill=\"#ffffff\" stroke=\"transparent\" points=\"-4,4 -4,-1105.1413 3653.2986,-1105.1413 3653.2986,4 -4,4\"/>\n<!-- split0 -->\n<g id=\"node1\" class=\"node\">\n<title>split0</title>\n<ellipse fill=\"none\" stroke=\"#000000\" cx=\"1780.1493\" cy=\"-1074.2712\" rx=\"165.426\" ry=\"26.7407\"/>\n<text text-anchor=\"middle\" x=\"1780.1493\" y=\"-1078.0712\" font-family=\"Times,serif\" font-size=\"14.00\" fill=\"#000000\">split_feature_name: Column_0</text>\n<text text-anchor=\"middle\" x=\"1780.1493\" y=\"-1063.0712\" font-family=\"Times,serif\" font-size=\"14.00\" fill=\"#000000\">threshold: 1.0000000180025095e&#45;35</text>\n</g>\n<!-- split2 -->\n<g id=\"node2\" class=\"node\">\n<title>split2</title>\n<ellipse fill=\"none\" stroke=\"#000000\" cx=\"1279.1493\" cy=\"-969.5311\" rx=\"165.426\" ry=\"26.7407\"/>\n<text text-anchor=\"middle\" x=\"1279.1493\" y=\"-973.3311\" font-family=\"Times,serif\" font-size=\"14.00\" fill=\"#000000\">split_feature_name: Column_20</text>\n<text text-anchor=\"middle\" x=\"1279.1493\" y=\"-958.3311\" font-family=\"Times,serif\" font-size=\"14.00\" fill=\"#000000\">threshold: 1.0000000180025095e&#45;35</text>\n</g>\n<!-- split0&#45;&gt;split2 -->\n<g id=\"edge27\" class=\"edge\">\n<title>split0&#45;&gt;split2</title>\n<path fill=\"none\" stroke=\"#000000\" d=\"M1678.4627,-1053.0124C1594.8785,-1035.5381 1476.6196,-1010.8147 1390.4994,-992.8102\"/>\n<polygon fill=\"#000000\" stroke=\"#000000\" points=\"1391.194,-989.3798 1380.6894,-990.7593 1389.7615,-996.2317 1391.194,-989.3798\"/>\n<text text-anchor=\"middle\" x=\"1568.6493\" y=\"-1018.2012\" font-family=\"Times,serif\" font-size=\"14.00\" fill=\"#000000\">&lt;=</text>\n</g>\n<!-- split1 -->\n<g id=\"node29\" class=\"node\">\n<title>split1</title>\n<ellipse fill=\"none\" stroke=\"#000000\" cx=\"2302.1493\" cy=\"-969.5311\" rx=\"165.426\" ry=\"26.7407\"/>\n<text text-anchor=\"middle\" x=\"2302.1493\" y=\"-973.3311\" font-family=\"Times,serif\" font-size=\"14.00\" fill=\"#000000\">split_feature_name: Column_12</text>\n<text text-anchor=\"middle\" x=\"2302.1493\" y=\"-958.3311\" font-family=\"Times,serif\" font-size=\"14.00\" fill=\"#000000\">threshold: 1.0000000180025095e&#45;35</text>\n</g>\n<!-- split0&#45;&gt;split1 -->\n<g id=\"edge40\" class=\"edge\">\n<title>split0&#45;&gt;split1</title>\n<path fill=\"none\" stroke=\"#000000\" d=\"M1884.5292,-1053.3272C1972.2823,-1035.7194 2097.5188,-1010.5905 2187.9328,-992.4488\"/>\n<polygon fill=\"#000000\" stroke=\"#000000\" points=\"2188.8343,-995.8378 2197.9503,-990.4388 2187.4571,-988.9746 2188.8343,-995.8378\"/>\n<text text-anchor=\"middle\" x=\"2077.6493\" y=\"-1018.2012\" font-family=\"Times,serif\" font-size=\"14.00\" fill=\"#000000\">&gt;</text>\n</g>\n<!-- split5 -->\n<g id=\"node3\" class=\"node\">\n<title>split5</title>\n<ellipse fill=\"none\" stroke=\"#000000\" cx=\"827.1493\" cy=\"-864.791\" rx=\"142.257\" ry=\"26.7407\"/>\n<text text-anchor=\"middle\" x=\"827.1493\" y=\"-868.591\" font-family=\"Times,serif\" font-size=\"14.00\" fill=\"#000000\">split_feature_name: Column_1</text>\n<text text-anchor=\"middle\" x=\"827.1493\" y=\"-853.591\" font-family=\"Times,serif\" font-size=\"14.00\" fill=\"#000000\">threshold: 36.50000000000001</text>\n</g>\n<!-- split2&#45;&gt;split5 -->\n<g id=\"edge5\" class=\"edge\">\n<title>split2&#45;&gt;split5</title>\n<path fill=\"none\" stroke=\"#000000\" d=\"M1184.1198,-947.5103C1108.7848,-930.0532 1003.8027,-905.7261 927.1917,-887.9734\"/>\n<polygon fill=\"#000000\" stroke=\"#000000\" points=\"927.5815,-884.4711 917.0495,-885.6232 926.0013,-891.2904 927.5815,-884.4711\"/>\n<text text-anchor=\"middle\" x=\"1089.6493\" y=\"-913.461\" font-family=\"Times,serif\" font-size=\"14.00\" fill=\"#000000\">&lt;=</text>\n</g>\n<!-- split6 -->\n<g id=\"node8\" class=\"node\">\n<title>split6</title>\n<ellipse fill=\"none\" stroke=\"#000000\" cx=\"1279.1493\" cy=\"-864.791\" rx=\"147.5709\" ry=\"26.7407\"/>\n<text text-anchor=\"middle\" x=\"1279.1493\" y=\"-868.591\" font-family=\"Times,serif\" font-size=\"14.00\" fill=\"#000000\">split_feature_name: Column_1</text>\n<text text-anchor=\"middle\" x=\"1279.1493\" y=\"-853.591\" font-family=\"Times,serif\" font-size=\"14.00\" fill=\"#000000\">threshold: 12.500000000000002</text>\n</g>\n<!-- split2&#45;&gt;split6 -->\n<g id=\"edge26\" class=\"edge\">\n<title>split2&#45;&gt;split6</title>\n<path fill=\"none\" stroke=\"#000000\" d=\"M1279.1493,-942.5579C1279.1493,-930.2185 1279.1493,-915.397 1279.1493,-902.0181\"/>\n<polygon fill=\"#000000\" stroke=\"#000000\" points=\"1282.6494,-901.6727 1279.1493,-891.6728 1275.6494,-901.6728 1282.6494,-901.6727\"/>\n<text text-anchor=\"middle\" x=\"1283.6493\" y=\"-913.461\" font-family=\"Times,serif\" font-size=\"14.00\" fill=\"#000000\">&gt;</text>\n</g>\n<!-- split16 -->\n<g id=\"node4\" class=\"node\">\n<title>split16</title>\n<ellipse fill=\"none\" stroke=\"#000000\" cx=\"507.1493\" cy=\"-760.0509\" rx=\"142.257\" ry=\"26.7407\"/>\n<text text-anchor=\"middle\" x=\"507.1493\" y=\"-763.8509\" font-family=\"Times,serif\" font-size=\"14.00\" fill=\"#000000\">split_feature_name: Column_4</text>\n<text text-anchor=\"middle\" x=\"507.1493\" y=\"-748.8509\" font-family=\"Times,serif\" font-size=\"14.00\" fill=\"#000000\">threshold: 39.90625000000001</text>\n</g>\n<!-- split5&#45;&gt;split16 -->\n<g id=\"edge3\" class=\"edge\">\n<title>split5&#45;&gt;split16</title>\n<path fill=\"none\" stroke=\"#000000\" d=\"M755.7333,-841.4156C706.0683,-825.1596 639.775,-803.461 588.1395,-786.56\"/>\n<polygon fill=\"#000000\" stroke=\"#000000\" points=\"588.9396,-783.1392 578.3469,-783.3548 586.762,-789.7919 588.9396,-783.1392\"/>\n<text text-anchor=\"middle\" x=\"695.6493\" y=\"-808.7209\" font-family=\"Times,serif\" font-size=\"14.00\" fill=\"#000000\">&lt;=</text>\n</g>\n<!-- leaf6 -->\n<g id=\"node7\" class=\"node\">\n<title>leaf6</title>\n<ellipse fill=\"none\" stroke=\"#000000\" cx=\"827.1493\" cy=\"-760.0509\" rx=\"159.6125\" ry=\"26.7407\"/>\n<text text-anchor=\"middle\" x=\"827.1493\" y=\"-763.8509\" font-family=\"Times,serif\" font-size=\"14.00\" fill=\"#000000\">leaf_index: 6</text>\n<text text-anchor=\"middle\" x=\"827.1493\" y=\"-748.8509\" font-family=\"Times,serif\" font-size=\"14.00\" fill=\"#000000\">leaf_value: &#45;0.49694884840349673</text>\n</g>\n<!-- split5&#45;&gt;leaf6 -->\n<g id=\"edge4\" class=\"edge\">\n<title>split5&#45;&gt;leaf6</title>\n<path fill=\"none\" stroke=\"#000000\" d=\"M827.1493,-837.8178C827.1493,-825.4784 827.1493,-810.6569 827.1493,-797.278\"/>\n<polygon fill=\"#000000\" stroke=\"#000000\" points=\"830.6494,-796.9326 827.1493,-786.9326 823.6494,-796.9327 830.6494,-796.9326\"/>\n<text text-anchor=\"middle\" x=\"831.6493\" y=\"-808.7209\" font-family=\"Times,serif\" font-size=\"14.00\" fill=\"#000000\">&gt;</text>\n</g>\n<!-- leaf0 -->\n<g id=\"node5\" class=\"node\">\n<title>leaf0</title>\n<ellipse fill=\"none\" stroke=\"#000000\" cx=\"342.1493\" cy=\"-655.3107\" rx=\"159.1981\" ry=\"26.7407\"/>\n<text text-anchor=\"middle\" x=\"342.1493\" y=\"-659.1107\" font-family=\"Times,serif\" font-size=\"14.00\" fill=\"#000000\">leaf_index: 0</text>\n<text text-anchor=\"middle\" x=\"342.1493\" y=\"-644.1107\" font-family=\"Times,serif\" font-size=\"14.00\" fill=\"#000000\">leaf_value: &#45;0.40017829723116694</text>\n</g>\n<!-- split16&#45;&gt;leaf0 -->\n<g id=\"edge1\" class=\"edge\">\n<title>split16&#45;&gt;leaf0</title>\n<path fill=\"none\" stroke=\"#000000\" d=\"M466.3628,-734.16C443.8393,-719.8624 415.6867,-701.9915 391.8807,-686.8797\"/>\n<polygon fill=\"#000000\" stroke=\"#000000\" points=\"393.6437,-683.8532 383.3253,-681.4488 389.8921,-689.7631 393.6437,-683.8532\"/>\n<text text-anchor=\"middle\" x=\"443.6493\" y=\"-703.9808\" font-family=\"Times,serif\" font-size=\"14.00\" fill=\"#000000\">&lt;=</text>\n</g>\n<!-- leaf17 -->\n<g id=\"node6\" class=\"node\">\n<title>leaf17</title>\n<ellipse fill=\"none\" stroke=\"#000000\" cx=\"673.1493\" cy=\"-655.3107\" rx=\"154.2987\" ry=\"26.7407\"/>\n<text text-anchor=\"middle\" x=\"673.1493\" y=\"-659.1107\" font-family=\"Times,serif\" font-size=\"14.00\" fill=\"#000000\">leaf_index: 17</text>\n<text text-anchor=\"middle\" x=\"673.1493\" y=\"-644.1107\" font-family=\"Times,serif\" font-size=\"14.00\" fill=\"#000000\">leaf_value: &#45;0.4376858650503467</text>\n</g>\n<!-- split16&#45;&gt;leaf17 -->\n<g id=\"edge2\" class=\"edge\">\n<title>split16&#45;&gt;leaf17</title>\n<path fill=\"none\" stroke=\"#000000\" d=\"M548.183,-734.16C570.9285,-719.8085 599.38,-701.8565 623.3874,-686.7088\"/>\n<polygon fill=\"#000000\" stroke=\"#000000\" points=\"625.4227,-689.563 632.0123,-681.2667 621.6874,-683.643 625.4227,-689.563\"/>\n<text text-anchor=\"middle\" x=\"604.6493\" y=\"-703.9808\" font-family=\"Times,serif\" font-size=\"14.00\" fill=\"#000000\">&gt;</text>\n</g>\n<!-- leaf3 -->\n<g id=\"node9\" class=\"node\">\n<title>leaf3</title>\n<ellipse fill=\"none\" stroke=\"#000000\" cx=\"1159.1493\" cy=\"-760.0509\" rx=\"154.2987\" ry=\"26.7407\"/>\n<text text-anchor=\"middle\" x=\"1159.1493\" y=\"-763.8509\" font-family=\"Times,serif\" font-size=\"14.00\" fill=\"#000000\">leaf_index: 3</text>\n<text text-anchor=\"middle\" x=\"1159.1493\" y=\"-748.8509\" font-family=\"Times,serif\" font-size=\"14.00\" fill=\"#000000\">leaf_value: &#45;0.5004892344219967</text>\n</g>\n<!-- split6&#45;&gt;leaf3 -->\n<g id=\"edge6\" class=\"edge\">\n<title>split6&#45;&gt;leaf3</title>\n<path fill=\"none\" stroke=\"#000000\" d=\"M1248.8682,-838.3606C1233.2352,-824.7156 1214.0012,-807.9275 1197.3565,-793.3995\"/>\n<polygon fill=\"#000000\" stroke=\"#000000\" points=\"1199.2561,-790.4117 1189.4207,-786.4728 1194.653,-795.6855 1199.2561,-790.4117\"/>\n<text text-anchor=\"middle\" x=\"1235.6493\" y=\"-808.7209\" font-family=\"Times,serif\" font-size=\"14.00\" fill=\"#000000\">&lt;=</text>\n</g>\n<!-- split7 -->\n<g id=\"node10\" class=\"node\">\n<title>split7</title>\n<ellipse fill=\"none\" stroke=\"#000000\" cx=\"1497.1493\" cy=\"-760.0509\" rx=\"165.426\" ry=\"26.7407\"/>\n<text text-anchor=\"middle\" x=\"1497.1493\" y=\"-763.8509\" font-family=\"Times,serif\" font-size=\"14.00\" fill=\"#000000\">split_feature_name: Column_6</text>\n<text text-anchor=\"middle\" x=\"1497.1493\" y=\"-748.8509\" font-family=\"Times,serif\" font-size=\"14.00\" fill=\"#000000\">threshold: 1.0000000180025095e&#45;35</text>\n</g>\n<!-- split6&#45;&gt;split7 -->\n<g id=\"edge25\" class=\"edge\">\n<title>split6&#45;&gt;split7</title>\n<path fill=\"none\" stroke=\"#000000\" d=\"M1331.6431,-839.5698C1362.6038,-824.6945 1401.9714,-805.7799 1434.5437,-790.1303\"/>\n<polygon fill=\"#000000\" stroke=\"#000000\" points=\"1436.4784,-793.0838 1443.9762,-785.5983 1433.4469,-786.7743 1436.4784,-793.0838\"/>\n<text text-anchor=\"middle\" x=\"1406.6493\" y=\"-808.7209\" font-family=\"Times,serif\" font-size=\"14.00\" fill=\"#000000\">&gt;</text>\n</g>\n<!-- split8 -->\n<g id=\"node11\" class=\"node\">\n<title>split8</title>\n<ellipse fill=\"none\" stroke=\"#000000\" cx=\"1183.1493\" cy=\"-655.3107\" rx=\"147.5709\" ry=\"26.7407\"/>\n<text text-anchor=\"middle\" x=\"1183.1493\" y=\"-659.1107\" font-family=\"Times,serif\" font-size=\"14.00\" fill=\"#000000\">split_feature_name: Column_4</text>\n<text text-anchor=\"middle\" x=\"1183.1493\" y=\"-644.1107\" font-family=\"Times,serif\" font-size=\"14.00\" fill=\"#000000\">threshold: 26.468750000000004</text>\n</g>\n<!-- split7&#45;&gt;split8 -->\n<g id=\"edge23\" class=\"edge\">\n<title>split7&#45;&gt;split8</title>\n<path fill=\"none\" stroke=\"#000000\" d=\"M1424.7171,-735.8899C1376.6645,-719.8611 1313.5469,-698.8071 1263.8804,-682.24\"/>\n<polygon fill=\"#000000\" stroke=\"#000000\" points=\"1264.7285,-678.8334 1254.1348,-678.9892 1262.5135,-685.4737 1264.7285,-678.8334\"/>\n<text text-anchor=\"middle\" x=\"1367.6493\" y=\"-703.9808\" font-family=\"Times,serif\" font-size=\"14.00\" fill=\"#000000\">&lt;=</text>\n</g>\n<!-- leaf8 -->\n<g id=\"node28\" class=\"node\">\n<title>leaf8</title>\n<ellipse fill=\"none\" stroke=\"#000000\" cx=\"1497.1493\" cy=\"-655.3107\" rx=\"148.4848\" ry=\"26.7407\"/>\n<text text-anchor=\"middle\" x=\"1497.1493\" y=\"-659.1107\" font-family=\"Times,serif\" font-size=\"14.00\" fill=\"#000000\">leaf_index: 8</text>\n<text text-anchor=\"middle\" x=\"1497.1493\" y=\"-644.1107\" font-family=\"Times,serif\" font-size=\"14.00\" fill=\"#000000\">leaf_value: &#45;0.521079374161167</text>\n</g>\n<!-- split7&#45;&gt;leaf8 -->\n<g id=\"edge24\" class=\"edge\">\n<title>split7&#45;&gt;leaf8</title>\n<path fill=\"none\" stroke=\"#000000\" d=\"M1497.1493,-733.0777C1497.1493,-720.7382 1497.1493,-705.9168 1497.1493,-692.5379\"/>\n<polygon fill=\"#000000\" stroke=\"#000000\" points=\"1500.6494,-692.1925 1497.1493,-682.1925 1493.6494,-692.1926 1500.6494,-692.1925\"/>\n<text text-anchor=\"middle\" x=\"1501.6493\" y=\"-703.9808\" font-family=\"Times,serif\" font-size=\"14.00\" fill=\"#000000\">&gt;</text>\n</g>\n<!-- split10 -->\n<g id=\"node12\" class=\"node\">\n<title>split10</title>\n<ellipse fill=\"none\" stroke=\"#000000\" cx=\"956.1493\" cy=\"-550.5706\" rx=\"147.5709\" ry=\"26.7407\"/>\n<text text-anchor=\"middle\" x=\"956.1493\" y=\"-554.3706\" font-family=\"Times,serif\" font-size=\"14.00\" fill=\"#000000\">split_feature_name: Column_4</text>\n<text text-anchor=\"middle\" x=\"956.1493\" y=\"-539.3706\" font-family=\"Times,serif\" font-size=\"14.00\" fill=\"#000000\">threshold: 13.208350000000001</text>\n</g>\n<!-- split8&#45;&gt;split10 -->\n<g id=\"edge21\" class=\"edge\">\n<title>split8&#45;&gt;split10</title>\n<path fill=\"none\" stroke=\"#000000\" d=\"M1128.7771,-630.2229C1096.0466,-615.1207 1054.2145,-595.8189 1019.9275,-579.9985\"/>\n<polygon fill=\"#000000\" stroke=\"#000000\" points=\"1021.0171,-576.6468 1010.4707,-575.6351 1018.0844,-583.0028 1021.0171,-576.6468\"/>\n<text text-anchor=\"middle\" x=\"1092.6493\" y=\"-599.2407\" font-family=\"Times,serif\" font-size=\"14.00\" fill=\"#000000\">&lt;=</text>\n</g>\n<!-- leaf9 -->\n<g id=\"node27\" class=\"node\">\n<title>leaf9</title>\n<ellipse fill=\"none\" stroke=\"#000000\" cx=\"1271.1493\" cy=\"-550.5706\" rx=\"149.3993\" ry=\"26.7407\"/>\n<text text-anchor=\"middle\" x=\"1271.1493\" y=\"-554.3706\" font-family=\"Times,serif\" font-size=\"14.00\" fill=\"#000000\">leaf_index: 9</text>\n<text text-anchor=\"middle\" x=\"1271.1493\" y=\"-539.3706\" font-family=\"Times,serif\" font-size=\"14.00\" fill=\"#000000\">leaf_value: &#45;0.505960740086951</text>\n</g>\n<!-- split8&#45;&gt;leaf9 -->\n<g id=\"edge22\" class=\"edge\">\n<title>split8&#45;&gt;leaf9</title>\n<path fill=\"none\" stroke=\"#000000\" d=\"M1205.5831,-628.6094C1216.6507,-615.4364 1230.137,-599.3847 1241.994,-585.272\"/>\n<polygon fill=\"#000000\" stroke=\"#000000\" points=\"1245.0034,-587.1311 1248.7564,-577.2232 1239.644,-582.6282 1245.0034,-587.1311\"/>\n<text text-anchor=\"middle\" x=\"1237.6493\" y=\"-599.2407\" font-family=\"Times,serif\" font-size=\"14.00\" fill=\"#000000\">&gt;</text>\n</g>\n<!-- split11 -->\n<g id=\"node13\" class=\"node\">\n<title>split11</title>\n<ellipse fill=\"none\" stroke=\"#000000\" cx=\"799.1493\" cy=\"-445.8305\" rx=\"142.257\" ry=\"26.7407\"/>\n<text text-anchor=\"middle\" x=\"799.1493\" y=\"-449.6305\" font-family=\"Times,serif\" font-size=\"14.00\" fill=\"#000000\">split_feature_name: Column_4</text>\n<text text-anchor=\"middle\" x=\"799.1493\" y=\"-434.6305\" font-family=\"Times,serif\" font-size=\"14.00\" fill=\"#000000\">threshold: 7.910400000000001</text>\n</g>\n<!-- split10&#45;&gt;split11 -->\n<g id=\"edge19\" class=\"edge\">\n<title>split10&#45;&gt;split11</title>\n<path fill=\"none\" stroke=\"#000000\" d=\"M916.9365,-524.4105C895.5945,-510.1724 869.0324,-492.452 846.5371,-477.4445\"/>\n<polygon fill=\"#000000\" stroke=\"#000000\" points=\"848.3951,-474.4767 838.134,-471.8386 844.5103,-480.2998 848.3951,-474.4767\"/>\n<text text-anchor=\"middle\" x=\"895.6493\" y=\"-494.5006\" font-family=\"Times,serif\" font-size=\"14.00\" fill=\"#000000\">&lt;=</text>\n</g>\n<!-- leaf11 -->\n<g id=\"node26\" class=\"node\">\n<title>leaf11</title>\n<ellipse fill=\"none\" stroke=\"#000000\" cx=\"1113.1493\" cy=\"-445.8305\" rx=\"154.2987\" ry=\"26.7407\"/>\n<text text-anchor=\"middle\" x=\"1113.1493\" y=\"-449.6305\" font-family=\"Times,serif\" font-size=\"14.00\" fill=\"#000000\">leaf_index: 11</text>\n<text text-anchor=\"middle\" x=\"1113.1493\" y=\"-434.6305\" font-family=\"Times,serif\" font-size=\"14.00\" fill=\"#000000\">leaf_value: &#45;0.6208623590509923</text>\n</g>\n<!-- split10&#45;&gt;leaf11 -->\n<g id=\"edge20\" class=\"edge\">\n<title>split10&#45;&gt;leaf11</title>\n<path fill=\"none\" stroke=\"#000000\" d=\"M995.362,-524.4105C1016.7041,-510.1724 1043.2661,-492.452 1065.7615,-477.4445\"/>\n<polygon fill=\"#000000\" stroke=\"#000000\" points=\"1067.7883,-480.2998 1074.1646,-471.8386 1063.9035,-474.4767 1067.7883,-480.2998\"/>\n<text text-anchor=\"middle\" x=\"1048.6493\" y=\"-494.5006\" font-family=\"Times,serif\" font-size=\"14.00\" fill=\"#000000\">&gt;</text>\n</g>\n<!-- split12 -->\n<g id=\"node14\" class=\"node\">\n<title>split12</title>\n<ellipse fill=\"none\" stroke=\"#000000\" cx=\"636.1493\" cy=\"-341.0904\" rx=\"142.257\" ry=\"26.7407\"/>\n<text text-anchor=\"middle\" x=\"636.1493\" y=\"-344.8904\" font-family=\"Times,serif\" font-size=\"14.00\" fill=\"#000000\">split_feature_name: Column_4</text>\n<text text-anchor=\"middle\" x=\"636.1493\" y=\"-329.8904\" font-family=\"Times,serif\" font-size=\"14.00\" fill=\"#000000\">threshold: 7.883350000000001</text>\n</g>\n<!-- split11&#45;&gt;split12 -->\n<g id=\"edge13\" class=\"edge\">\n<title>split11&#45;&gt;split12</title>\n<path fill=\"none\" stroke=\"#000000\" d=\"M758.8571,-419.9397C736.5227,-405.5881 708.5854,-387.6362 685.0119,-372.4884\"/>\n<polygon fill=\"#000000\" stroke=\"#000000\" points=\"686.8478,-369.5078 676.5428,-367.0464 683.0636,-375.3968 686.8478,-369.5078\"/>\n<text text-anchor=\"middle\" x=\"736.6493\" y=\"-389.7605\" font-family=\"Times,serif\" font-size=\"14.00\" fill=\"#000000\">&lt;=</text>\n</g>\n<!-- split14 -->\n<g id=\"node21\" class=\"node\">\n<title>split14</title>\n<ellipse fill=\"none\" stroke=\"#000000\" cx=\"962.1493\" cy=\"-341.0904\" rx=\"147.5709\" ry=\"26.7407\"/>\n<text text-anchor=\"middle\" x=\"962.1493\" y=\"-344.8904\" font-family=\"Times,serif\" font-size=\"14.00\" fill=\"#000000\">split_feature_name: Column_1</text>\n<text text-anchor=\"middle\" x=\"962.1493\" y=\"-329.8904\" font-family=\"Times,serif\" font-size=\"14.00\" fill=\"#000000\">threshold: 26.500000000000004</text>\n</g>\n<!-- split11&#45;&gt;split14 -->\n<g id=\"edge18\" class=\"edge\">\n<title>split11&#45;&gt;split14</title>\n<path fill=\"none\" stroke=\"#000000\" d=\"M839.4414,-419.9397C861.7758,-405.5881 889.7132,-387.6362 913.2867,-372.4884\"/>\n<polygon fill=\"#000000\" stroke=\"#000000\" points=\"915.2349,-375.3968 921.7557,-367.0464 911.4508,-369.5078 915.2349,-375.3968\"/>\n<text text-anchor=\"middle\" x=\"895.6493\" y=\"-389.7605\" font-family=\"Times,serif\" font-size=\"14.00\" fill=\"#000000\">&gt;</text>\n</g>\n<!-- split13 -->\n<g id=\"node15\" class=\"node\">\n<title>split13</title>\n<ellipse fill=\"none\" stroke=\"#000000\" cx=\"322.1493\" cy=\"-236.3503\" rx=\"142.257\" ry=\"26.7407\"/>\n<text text-anchor=\"middle\" x=\"322.1493\" y=\"-240.1503\" font-family=\"Times,serif\" font-size=\"14.00\" fill=\"#000000\">split_feature_name: Column_4</text>\n<text text-anchor=\"middle\" x=\"322.1493\" y=\"-225.1503\" font-family=\"Times,serif\" font-size=\"14.00\" fill=\"#000000\">threshold: 7.762500000000001</text>\n</g>\n<!-- split12&#45;&gt;split13 -->\n<g id=\"edge11\" class=\"edge\">\n<title>split12&#45;&gt;split13</title>\n<path fill=\"none\" stroke=\"#000000\" d=\"M565.6815,-317.5847C517.0993,-301.3792 452.4409,-279.8113 401.9578,-262.9718\"/>\n<polygon fill=\"#000000\" stroke=\"#000000\" points=\"402.9755,-259.6217 392.3818,-259.7776 400.7605,-266.2621 402.9755,-259.6217\"/>\n<text text-anchor=\"middle\" x=\"506.6493\" y=\"-285.0203\" font-family=\"Times,serif\" font-size=\"14.00\" fill=\"#000000\">&lt;=</text>\n</g>\n<!-- leaf13 -->\n<g id=\"node20\" class=\"node\">\n<title>leaf13</title>\n<ellipse fill=\"none\" stroke=\"#000000\" cx=\"636.1493\" cy=\"-236.3503\" rx=\"154.2987\" ry=\"26.7407\"/>\n<text text-anchor=\"middle\" x=\"636.1493\" y=\"-240.1503\" font-family=\"Times,serif\" font-size=\"14.00\" fill=\"#000000\">leaf_index: 13</text>\n<text text-anchor=\"middle\" x=\"636.1493\" y=\"-225.1503\" font-family=\"Times,serif\" font-size=\"14.00\" fill=\"#000000\">leaf_value: &#45;0.6208623590509923</text>\n</g>\n<!-- split12&#45;&gt;leaf13 -->\n<g id=\"edge12\" class=\"edge\">\n<title>split12&#45;&gt;leaf13</title>\n<path fill=\"none\" stroke=\"#000000\" d=\"M636.1493,-314.1172C636.1493,-301.7778 636.1493,-286.9563 636.1493,-273.5774\"/>\n<polygon fill=\"#000000\" stroke=\"#000000\" points=\"639.6494,-273.232 636.1493,-263.2321 632.6494,-273.2321 639.6494,-273.232\"/>\n<text text-anchor=\"middle\" x=\"640.6493\" y=\"-285.0203\" font-family=\"Times,serif\" font-size=\"14.00\" fill=\"#000000\">&gt;</text>\n</g>\n<!-- split19 -->\n<g id=\"node16\" class=\"node\">\n<title>split19</title>\n<ellipse fill=\"none\" stroke=\"#000000\" cx=\"317.1493\" cy=\"-131.6102\" rx=\"137.3577\" ry=\"26.7407\"/>\n<text text-anchor=\"middle\" x=\"317.1493\" y=\"-135.4102\" font-family=\"Times,serif\" font-size=\"14.00\" fill=\"#000000\">split_feature_name: Column_4</text>\n<text text-anchor=\"middle\" x=\"317.1493\" y=\"-120.4102\" font-family=\"Times,serif\" font-size=\"14.00\" fill=\"#000000\">threshold: 7.2396</text>\n</g>\n<!-- split13&#45;&gt;split19 -->\n<g id=\"edge9\" class=\"edge\">\n<title>split13&#45;&gt;split19</title>\n<path fill=\"none\" stroke=\"#000000\" d=\"M320.8617,-209.3771C320.2726,-197.0377 319.5651,-182.2162 318.9264,-168.8373\"/>\n<polygon fill=\"#000000\" stroke=\"#000000\" points=\"322.4055,-168.3137 318.4325,-158.4919 315.4134,-168.6475 322.4055,-168.3137\"/>\n<text text-anchor=\"middle\" x=\"328.6493\" y=\"-180.2802\" font-family=\"Times,serif\" font-size=\"14.00\" fill=\"#000000\">&lt;=</text>\n</g>\n<!-- leaf14 -->\n<g id=\"node19\" class=\"node\">\n<title>leaf14</title>\n<ellipse fill=\"none\" stroke=\"#000000\" cx=\"626.1493\" cy=\"-131.6102\" rx=\"154.2987\" ry=\"26.7407\"/>\n<text text-anchor=\"middle\" x=\"626.1493\" y=\"-135.4102\" font-family=\"Times,serif\" font-size=\"14.00\" fill=\"#000000\">leaf_index: 14</text>\n<text text-anchor=\"middle\" x=\"626.1493\" y=\"-120.4102\" font-family=\"Times,serif\" font-size=\"14.00\" fill=\"#000000\">leaf_value: &#45;0.5406136092983286</text>\n</g>\n<!-- split13&#45;&gt;leaf14 -->\n<g id=\"edge10\" class=\"edge\">\n<title>split13&#45;&gt;leaf14</title>\n<path fill=\"none\" stroke=\"#000000\" d=\"M390.7519,-212.714C437.1314,-196.7344 498.5148,-175.5853 546.97,-158.8906\"/>\n<polygon fill=\"#000000\" stroke=\"#000000\" points=\"548.166,-162.1805 556.4804,-155.6139 545.8857,-155.5623 548.166,-162.1805\"/>\n<text text-anchor=\"middle\" x=\"497.6493\" y=\"-180.2802\" font-family=\"Times,serif\" font-size=\"14.00\" fill=\"#000000\">&gt;</text>\n</g>\n<!-- leaf7 -->\n<g id=\"node17\" class=\"node\">\n<title>leaf7</title>\n<ellipse fill=\"none\" stroke=\"#000000\" cx=\"154.1493\" cy=\"-26.8701\" rx=\"154.2987\" ry=\"26.7407\"/>\n<text text-anchor=\"middle\" x=\"154.1493\" y=\"-30.6701\" font-family=\"Times,serif\" font-size=\"14.00\" fill=\"#000000\">leaf_index: 7</text>\n<text text-anchor=\"middle\" x=\"154.1493\" y=\"-15.6701\" font-family=\"Times,serif\" font-size=\"14.00\" fill=\"#000000\">leaf_value: &#45;0.5918067772439932</text>\n</g>\n<!-- split19&#45;&gt;leaf7 -->\n<g id=\"edge7\" class=\"edge\">\n<title>split19&#45;&gt;leaf7</title>\n<path fill=\"none\" stroke=\"#000000\" d=\"M276.8571,-105.7194C254.5227,-91.3678 226.5854,-73.4159 203.0119,-58.2681\"/>\n<polygon fill=\"#000000\" stroke=\"#000000\" points=\"204.8478,-55.2875 194.5428,-52.826 201.0636,-61.1765 204.8478,-55.2875\"/>\n<text text-anchor=\"middle\" x=\"254.6493\" y=\"-75.5401\" font-family=\"Times,serif\" font-size=\"14.00\" fill=\"#000000\">&lt;=</text>\n</g>\n<!-- leaf20 -->\n<g id=\"node18\" class=\"node\">\n<title>leaf20</title>\n<ellipse fill=\"none\" stroke=\"#000000\" cx=\"480.1493\" cy=\"-26.8701\" rx=\"154.2987\" ry=\"26.7407\"/>\n<text text-anchor=\"middle\" x=\"480.1493\" y=\"-30.6701\" font-family=\"Times,serif\" font-size=\"14.00\" fill=\"#000000\">leaf_index: 20</text>\n<text text-anchor=\"middle\" x=\"480.1493\" y=\"-15.6701\" font-family=\"Times,serif\" font-size=\"14.00\" fill=\"#000000\">leaf_value: &#45;0.6068188278442761</text>\n</g>\n<!-- split19&#45;&gt;leaf20 -->\n<g id=\"edge8\" class=\"edge\">\n<title>split19&#45;&gt;leaf20</title>\n<path fill=\"none\" stroke=\"#000000\" d=\"M357.4414,-105.7194C379.7758,-91.3678 407.7132,-73.4159 431.2867,-58.2681\"/>\n<polygon fill=\"#000000\" stroke=\"#000000\" points=\"433.2349,-61.1765 439.7557,-52.826 429.4508,-55.2875 433.2349,-61.1765\"/>\n<text text-anchor=\"middle\" x=\"413.6493\" y=\"-75.5401\" font-family=\"Times,serif\" font-size=\"14.00\" fill=\"#000000\">&gt;</text>\n</g>\n<!-- leaf12 -->\n<g id=\"node22\" class=\"node\">\n<title>leaf12</title>\n<ellipse fill=\"none\" stroke=\"#000000\" cx=\"962.1493\" cy=\"-236.3503\" rx=\"154.2987\" ry=\"26.7407\"/>\n<text text-anchor=\"middle\" x=\"962.1493\" y=\"-240.1503\" font-family=\"Times,serif\" font-size=\"14.00\" fill=\"#000000\">leaf_index: 12</text>\n<text text-anchor=\"middle\" x=\"962.1493\" y=\"-225.1503\" font-family=\"Times,serif\" font-size=\"14.00\" fill=\"#000000\">leaf_value: &#45;0.5876013640877171</text>\n</g>\n<!-- split14&#45;&gt;leaf12 -->\n<g id=\"edge14\" class=\"edge\">\n<title>split14&#45;&gt;leaf12</title>\n<path fill=\"none\" stroke=\"#000000\" d=\"M962.1493,-314.1172C962.1493,-301.7778 962.1493,-286.9563 962.1493,-273.5774\"/>\n<polygon fill=\"#000000\" stroke=\"#000000\" points=\"965.6494,-273.232 962.1493,-263.2321 958.6494,-273.2321 965.6494,-273.232\"/>\n<text text-anchor=\"middle\" x=\"970.6493\" y=\"-285.0203\" font-family=\"Times,serif\" font-size=\"14.00\" fill=\"#000000\">&lt;=</text>\n</g>\n<!-- split17 -->\n<g id=\"node23\" class=\"node\">\n<title>split17</title>\n<ellipse fill=\"none\" stroke=\"#000000\" cx=\"1276.1493\" cy=\"-236.3503\" rx=\"142.257\" ry=\"26.7407\"/>\n<text text-anchor=\"middle\" x=\"1276.1493\" y=\"-240.1503\" font-family=\"Times,serif\" font-size=\"14.00\" fill=\"#000000\">split_feature_name: Column_4</text>\n<text text-anchor=\"middle\" x=\"1276.1493\" y=\"-225.1503\" font-family=\"Times,serif\" font-size=\"14.00\" fill=\"#000000\">threshold: 8.081250000000002</text>\n</g>\n<!-- split14&#45;&gt;split17 -->\n<g id=\"edge17\" class=\"edge\">\n<title>split14&#45;&gt;split17</title>\n<path fill=\"none\" stroke=\"#000000\" d=\"M1033.0085,-317.4541C1081.5233,-301.2711 1145.9324,-279.7864 1196.2695,-262.9956\"/>\n<polygon fill=\"#000000\" stroke=\"#000000\" points=\"1197.44,-266.2948 1205.8186,-259.8103 1195.225,-259.6545 1197.44,-266.2948\"/>\n<text text-anchor=\"middle\" x=\"1142.6493\" y=\"-285.0203\" font-family=\"Times,serif\" font-size=\"14.00\" fill=\"#000000\">&gt;</text>\n</g>\n<!-- leaf15 -->\n<g id=\"node24\" class=\"node\">\n<title>leaf15</title>\n<ellipse fill=\"none\" stroke=\"#000000\" cx=\"1114.1493\" cy=\"-131.6102\" rx=\"154.2987\" ry=\"26.7407\"/>\n<text text-anchor=\"middle\" x=\"1114.1493\" y=\"-135.4102\" font-family=\"Times,serif\" font-size=\"14.00\" fill=\"#000000\">leaf_index: 15</text>\n<text text-anchor=\"middle\" x=\"1114.1493\" y=\"-120.4102\" font-family=\"Times,serif\" font-size=\"14.00\" fill=\"#000000\">leaf_value: &#45;0.5659094108507987</text>\n</g>\n<!-- split17&#45;&gt;leaf15 -->\n<g id=\"edge15\" class=\"edge\">\n<title>split17&#45;&gt;leaf15</title>\n<path fill=\"none\" stroke=\"#000000\" d=\"M1236.1043,-210.4595C1213.9069,-196.1079 1186.141,-178.156 1162.7121,-163.0082\"/>\n<polygon fill=\"#000000\" stroke=\"#000000\" points=\"1164.593,-160.0565 1154.295,-157.5662 1160.7924,-165.9349 1164.593,-160.0565\"/>\n<text text-anchor=\"middle\" x=\"1213.6493\" y=\"-180.2802\" font-family=\"Times,serif\" font-size=\"14.00\" fill=\"#000000\">&lt;=</text>\n</g>\n<!-- leaf18 -->\n<g id=\"node25\" class=\"node\">\n<title>leaf18</title>\n<ellipse fill=\"none\" stroke=\"#000000\" cx=\"1440.1493\" cy=\"-131.6102\" rx=\"154.2987\" ry=\"26.7407\"/>\n<text text-anchor=\"middle\" x=\"1440.1493\" y=\"-135.4102\" font-family=\"Times,serif\" font-size=\"14.00\" fill=\"#000000\">leaf_index: 18</text>\n<text text-anchor=\"middle\" x=\"1440.1493\" y=\"-120.4102\" font-family=\"Times,serif\" font-size=\"14.00\" fill=\"#000000\">leaf_value: &#45;0.5442612797416314</text>\n</g>\n<!-- split17&#45;&gt;leaf18 -->\n<g id=\"edge16\" class=\"edge\">\n<title>split17&#45;&gt;leaf18</title>\n<path fill=\"none\" stroke=\"#000000\" d=\"M1316.6886,-210.4595C1339.16,-196.1079 1367.2688,-178.156 1390.9869,-163.0082\"/>\n<polygon fill=\"#000000\" stroke=\"#000000\" points=\"1392.964,-165.8985 1399.5079,-157.5662 1389.1962,-159.999 1392.964,-165.8985\"/>\n<text text-anchor=\"middle\" x=\"1372.6493\" y=\"-180.2802\" font-family=\"Times,serif\" font-size=\"14.00\" fill=\"#000000\">&gt;</text>\n</g>\n<!-- split9 -->\n<g id=\"node30\" class=\"node\">\n<title>split9</title>\n<ellipse fill=\"none\" stroke=\"#000000\" cx=\"2302.1493\" cy=\"-864.791\" rx=\"147.5709\" ry=\"26.7407\"/>\n<text text-anchor=\"middle\" x=\"2302.1493\" y=\"-868.591\" font-family=\"Times,serif\" font-size=\"14.00\" fill=\"#000000\">split_feature_name: Column_4</text>\n<text text-anchor=\"middle\" x=\"2302.1493\" y=\"-853.591\" font-family=\"Times,serif\" font-size=\"14.00\" fill=\"#000000\">threshold: 29.850000000000005</text>\n</g>\n<!-- split1&#45;&gt;split9 -->\n<g id=\"edge34\" class=\"edge\">\n<title>split1&#45;&gt;split9</title>\n<path fill=\"none\" stroke=\"#000000\" d=\"M2302.1493,-942.5579C2302.1493,-930.2185 2302.1493,-915.397 2302.1493,-902.0181\"/>\n<polygon fill=\"#000000\" stroke=\"#000000\" points=\"2305.6494,-901.6727 2302.1493,-891.6728 2298.6494,-901.6728 2305.6494,-901.6727\"/>\n<text text-anchor=\"middle\" x=\"2310.6493\" y=\"-913.461\" font-family=\"Times,serif\" font-size=\"14.00\" fill=\"#000000\">&lt;=</text>\n</g>\n<!-- split3 -->\n<g id=\"node37\" class=\"node\">\n<title>split3</title>\n<ellipse fill=\"none\" stroke=\"#000000\" cx=\"2834.1493\" cy=\"-864.791\" rx=\"165.426\" ry=\"26.7407\"/>\n<text text-anchor=\"middle\" x=\"2834.1493\" y=\"-868.591\" font-family=\"Times,serif\" font-size=\"14.00\" fill=\"#000000\">split_feature_name: Column_8</text>\n<text text-anchor=\"middle\" x=\"2834.1493\" y=\"-853.591\" font-family=\"Times,serif\" font-size=\"14.00\" fill=\"#000000\">threshold: 1.0000000180025095e&#45;35</text>\n</g>\n<!-- split1&#45;&gt;split3 -->\n<g id=\"edge39\" class=\"edge\">\n<title>split1&#45;&gt;split3</title>\n<path fill=\"none\" stroke=\"#000000\" d=\"M2407.5732,-948.7752C2497.2999,-931.1099 2625.981,-905.7751 2718.5127,-887.5575\"/>\n<polygon fill=\"#000000\" stroke=\"#000000\" points=\"2719.3443,-890.961 2728.4799,-885.5952 2717.9921,-884.0929 2719.3443,-890.961\"/>\n<text text-anchor=\"middle\" x=\"2604.6493\" y=\"-913.461\" font-family=\"Times,serif\" font-size=\"14.00\" fill=\"#000000\">&gt;</text>\n</g>\n<!-- split15 -->\n<g id=\"node31\" class=\"node\">\n<title>split15</title>\n<ellipse fill=\"none\" stroke=\"#000000\" cx=\"2161.1493\" cy=\"-760.0509\" rx=\"165.426\" ry=\"26.7407\"/>\n<text text-anchor=\"middle\" x=\"2161.1493\" y=\"-763.8509\" font-family=\"Times,serif\" font-size=\"14.00\" fill=\"#000000\">split_feature_name: Column_5</text>\n<text text-anchor=\"middle\" x=\"2161.1493\" y=\"-748.8509\" font-family=\"Times,serif\" font-size=\"14.00\" fill=\"#000000\">threshold: 1.0000000180025095e&#45;35</text>\n</g>\n<!-- split9&#45;&gt;split15 -->\n<g id=\"edge30\" class=\"edge\">\n<title>split9&#45;&gt;split15</title>\n<path fill=\"none\" stroke=\"#000000\" d=\"M2266.9327,-838.6308C2248.1496,-824.678 2224.8644,-807.3809 2204.9261,-792.57\"/>\n<polygon fill=\"#000000\" stroke=\"#000000\" points=\"2207.0108,-789.7585 2196.8961,-786.605 2202.8366,-795.3778 2207.0108,-789.7585\"/>\n<text text-anchor=\"middle\" x=\"2248.6493\" y=\"-808.7209\" font-family=\"Times,serif\" font-size=\"14.00\" fill=\"#000000\">&lt;=</text>\n</g>\n<!-- split18 -->\n<g id=\"node34\" class=\"node\">\n<title>split18</title>\n<ellipse fill=\"none\" stroke=\"#000000\" cx=\"2499.1493\" cy=\"-760.0509\" rx=\"147.5709\" ry=\"26.7407\"/>\n<text text-anchor=\"middle\" x=\"2499.1493\" y=\"-763.8509\" font-family=\"Times,serif\" font-size=\"14.00\" fill=\"#000000\">split_feature_name: Column_4</text>\n<text text-anchor=\"middle\" x=\"2499.1493\" y=\"-748.8509\" font-family=\"Times,serif\" font-size=\"14.00\" fill=\"#000000\">threshold: 126.82500000000002</text>\n</g>\n<!-- split9&#45;&gt;split18 -->\n<g id=\"edge33\" class=\"edge\">\n<title>split9&#45;&gt;split18</title>\n<path fill=\"none\" stroke=\"#000000\" d=\"M2350.089,-839.3026C2377.8536,-824.5408 2412.9715,-805.8695 2442.146,-790.3581\"/>\n<polygon fill=\"#000000\" stroke=\"#000000\" points=\"2443.8081,-793.4384 2450.9946,-785.6535 2440.5219,-787.2577 2443.8081,-793.4384\"/>\n<text text-anchor=\"middle\" x=\"2417.6493\" y=\"-808.7209\" font-family=\"Times,serif\" font-size=\"14.00\" fill=\"#000000\">&gt;</text>\n</g>\n<!-- leaf1 -->\n<g id=\"node32\" class=\"node\">\n<title>leaf1</title>\n<ellipse fill=\"none\" stroke=\"#000000\" cx=\"1823.1493\" cy=\"-655.3107\" rx=\"159.6125\" ry=\"26.7407\"/>\n<text text-anchor=\"middle\" x=\"1823.1493\" y=\"-659.1107\" font-family=\"Times,serif\" font-size=\"14.00\" fill=\"#000000\">leaf_index: 1</text>\n<text text-anchor=\"middle\" x=\"1823.1493\" y=\"-644.1107\" font-family=\"Times,serif\" font-size=\"14.00\" fill=\"#000000\">leaf_value: &#45;0.23196457178808325</text>\n</g>\n<!-- split15&#45;&gt;leaf1 -->\n<g id=\"edge28\" class=\"edge\">\n<title>split15&#45;&gt;leaf1</title>\n<path fill=\"none\" stroke=\"#000000\" d=\"M2084.0289,-736.1527C2032.0287,-720.0387 1963.3545,-698.7578 1909.5189,-682.0751\"/>\n<polygon fill=\"#000000\" stroke=\"#000000\" points=\"1910.2346,-678.6328 1899.6467,-679.0159 1908.1625,-685.3191 1910.2346,-678.6328\"/>\n<text text-anchor=\"middle\" x=\"2021.6493\" y=\"-703.9808\" font-family=\"Times,serif\" font-size=\"14.00\" fill=\"#000000\">&lt;=</text>\n</g>\n<!-- leaf16 -->\n<g id=\"node33\" class=\"node\">\n<title>leaf16</title>\n<ellipse fill=\"none\" stroke=\"#000000\" cx=\"2161.1493\" cy=\"-655.3107\" rx=\"159.6125\" ry=\"26.7407\"/>\n<text text-anchor=\"middle\" x=\"2161.1493\" y=\"-659.1107\" font-family=\"Times,serif\" font-size=\"14.00\" fill=\"#000000\">leaf_index: 16</text>\n<text text-anchor=\"middle\" x=\"2161.1493\" y=\"-644.1107\" font-family=\"Times,serif\" font-size=\"14.00\" fill=\"#000000\">leaf_value: &#45;0.27282702044976564</text>\n</g>\n<!-- split15&#45;&gt;leaf16 -->\n<g id=\"edge29\" class=\"edge\">\n<title>split15&#45;&gt;leaf16</title>\n<path fill=\"none\" stroke=\"#000000\" d=\"M2161.1493,-733.0777C2161.1493,-720.7382 2161.1493,-705.9168 2161.1493,-692.5379\"/>\n<polygon fill=\"#000000\" stroke=\"#000000\" points=\"2164.6494,-692.1925 2161.1493,-682.1925 2157.6494,-692.1926 2164.6494,-692.1925\"/>\n<text text-anchor=\"middle\" x=\"2165.6493\" y=\"-703.9808\" font-family=\"Times,serif\" font-size=\"14.00\" fill=\"#000000\">&gt;</text>\n</g>\n<!-- leaf10 -->\n<g id=\"node35\" class=\"node\">\n<title>leaf10</title>\n<ellipse fill=\"none\" stroke=\"#000000\" cx=\"2499.1493\" cy=\"-655.3107\" rx=\"159.6125\" ry=\"26.7407\"/>\n<text text-anchor=\"middle\" x=\"2499.1493\" y=\"-659.1107\" font-family=\"Times,serif\" font-size=\"14.00\" fill=\"#000000\">leaf_index: 10</text>\n<text text-anchor=\"middle\" x=\"2499.1493\" y=\"-644.1107\" font-family=\"Times,serif\" font-size=\"14.00\" fill=\"#000000\">leaf_value: &#45;0.19955642284950742</text>\n</g>\n<!-- split18&#45;&gt;leaf10 -->\n<g id=\"edge31\" class=\"edge\">\n<title>split18&#45;&gt;leaf10</title>\n<path fill=\"none\" stroke=\"#000000\" d=\"M2499.1493,-733.0777C2499.1493,-720.7382 2499.1493,-705.9168 2499.1493,-692.5379\"/>\n<polygon fill=\"#000000\" stroke=\"#000000\" points=\"2502.6494,-692.1925 2499.1493,-682.1925 2495.6494,-692.1926 2502.6494,-692.1925\"/>\n<text text-anchor=\"middle\" x=\"2507.6493\" y=\"-703.9808\" font-family=\"Times,serif\" font-size=\"14.00\" fill=\"#000000\">&lt;=</text>\n</g>\n<!-- leaf19 -->\n<g id=\"node36\" class=\"node\">\n<title>leaf19</title>\n<ellipse fill=\"none\" stroke=\"#000000\" cx=\"2837.1493\" cy=\"-655.3107\" rx=\"159.6125\" ry=\"26.7407\"/>\n<text text-anchor=\"middle\" x=\"2837.1493\" y=\"-659.1107\" font-family=\"Times,serif\" font-size=\"14.00\" fill=\"#000000\">leaf_index: 19</text>\n<text text-anchor=\"middle\" x=\"2837.1493\" y=\"-644.1107\" font-family=\"Times,serif\" font-size=\"14.00\" fill=\"#000000\">leaf_value: &#45;0.21961861028767332</text>\n</g>\n<!-- split18&#45;&gt;leaf19 -->\n<g id=\"edge32\" class=\"edge\">\n<title>split18&#45;&gt;leaf19</title>\n<path fill=\"none\" stroke=\"#000000\" d=\"M2574.1624,-736.8056C2626.5435,-720.5737 2696.5876,-698.8683 2751.2176,-681.9394\"/>\n<polygon fill=\"#000000\" stroke=\"#000000\" points=\"2752.368,-685.2472 2760.8839,-678.944 2750.296,-678.5609 2752.368,-685.2472\"/>\n<text text-anchor=\"middle\" x=\"2693.6493\" y=\"-703.9808\" font-family=\"Times,serif\" font-size=\"14.00\" fill=\"#000000\">&gt;</text>\n</g>\n<!-- leaf2 -->\n<g id=\"node38\" class=\"node\">\n<title>leaf2</title>\n<ellipse fill=\"none\" stroke=\"#000000\" cx=\"2834.1493\" cy=\"-760.0509\" rx=\"154.2987\" ry=\"26.7407\"/>\n<text text-anchor=\"middle\" x=\"2834.1493\" y=\"-763.8509\" font-family=\"Times,serif\" font-size=\"14.00\" fill=\"#000000\">leaf_index: 2</text>\n<text text-anchor=\"middle\" x=\"2834.1493\" y=\"-748.8509\" font-family=\"Times,serif\" font-size=\"14.00\" fill=\"#000000\">leaf_value: &#45;0.3020362451687875</text>\n</g>\n<!-- split3&#45;&gt;leaf2 -->\n<g id=\"edge35\" class=\"edge\">\n<title>split3&#45;&gt;leaf2</title>\n<path fill=\"none\" stroke=\"#000000\" d=\"M2834.1493,-837.8178C2834.1493,-825.4784 2834.1493,-810.6569 2834.1493,-797.278\"/>\n<polygon fill=\"#000000\" stroke=\"#000000\" points=\"2837.6494,-796.9326 2834.1493,-786.9326 2830.6494,-796.9327 2837.6494,-796.9326\"/>\n<text text-anchor=\"middle\" x=\"2842.6493\" y=\"-808.7209\" font-family=\"Times,serif\" font-size=\"14.00\" fill=\"#000000\">&lt;=</text>\n</g>\n<!-- split4 -->\n<g id=\"node39\" class=\"node\">\n<title>split4</title>\n<ellipse fill=\"none\" stroke=\"#000000\" cx=\"3169.1493\" cy=\"-760.0509\" rx=\"147.5709\" ry=\"26.7407\"/>\n<text text-anchor=\"middle\" x=\"3169.1493\" y=\"-763.8509\" font-family=\"Times,serif\" font-size=\"14.00\" fill=\"#000000\">split_feature_name: Column_4</text>\n<text text-anchor=\"middle\" x=\"3169.1493\" y=\"-748.8509\" font-family=\"Times,serif\" font-size=\"14.00\" fill=\"#000000\">threshold: 17.600000000000005</text>\n</g>\n<!-- split3&#45;&gt;split4 -->\n<g id=\"edge38\" class=\"edge\">\n<title>split3&#45;&gt;split4</title>\n<path fill=\"none\" stroke=\"#000000\" d=\"M2910.5851,-840.8928C2962.5783,-824.6367 3031.3902,-803.1222 3084.9544,-786.375\"/>\n<polygon fill=\"#000000\" stroke=\"#000000\" points=\"3086.2711,-789.6305 3094.7711,-783.3057 3084.1822,-782.9494 3086.2711,-789.6305\"/>\n<text text-anchor=\"middle\" x=\"3026.6493\" y=\"-808.7209\" font-family=\"Times,serif\" font-size=\"14.00\" fill=\"#000000\">&gt;</text>\n</g>\n<!-- leaf4 -->\n<g id=\"node40\" class=\"node\">\n<title>leaf4</title>\n<ellipse fill=\"none\" stroke=\"#000000\" cx=\"3169.1493\" cy=\"-655.3107\" rx=\"154.2987\" ry=\"26.7407\"/>\n<text text-anchor=\"middle\" x=\"3169.1493\" y=\"-659.1107\" font-family=\"Times,serif\" font-size=\"14.00\" fill=\"#000000\">leaf_index: 4</text>\n<text text-anchor=\"middle\" x=\"3169.1493\" y=\"-644.1107\" font-family=\"Times,serif\" font-size=\"14.00\" fill=\"#000000\">leaf_value: &#45;0.3801161097930009</text>\n</g>\n<!-- split4&#45;&gt;leaf4 -->\n<g id=\"edge36\" class=\"edge\">\n<title>split4&#45;&gt;leaf4</title>\n<path fill=\"none\" stroke=\"#000000\" d=\"M3169.1493,-733.0777C3169.1493,-720.7382 3169.1493,-705.9168 3169.1493,-692.5379\"/>\n<polygon fill=\"#000000\" stroke=\"#000000\" points=\"3172.6494,-692.1925 3169.1493,-682.1925 3165.6494,-692.1926 3172.6494,-692.1925\"/>\n<text text-anchor=\"middle\" x=\"3177.6493\" y=\"-703.9808\" font-family=\"Times,serif\" font-size=\"14.00\" fill=\"#000000\">&lt;=</text>\n</g>\n<!-- leaf5 -->\n<g id=\"node41\" class=\"node\">\n<title>leaf5</title>\n<ellipse fill=\"none\" stroke=\"#000000\" cx=\"3495.1493\" cy=\"-655.3107\" rx=\"154.2987\" ry=\"26.7407\"/>\n<text text-anchor=\"middle\" x=\"3495.1493\" y=\"-659.1107\" font-family=\"Times,serif\" font-size=\"14.00\" fill=\"#000000\">leaf_index: 5</text>\n<text text-anchor=\"middle\" x=\"3495.1493\" y=\"-644.1107\" font-family=\"Times,serif\" font-size=\"14.00\" fill=\"#000000\">leaf_value: &#45;0.5406136092983285</text>\n</g>\n<!-- split4&#45;&gt;leaf5 -->\n<g id=\"edge37\" class=\"edge\">\n<title>split4&#45;&gt;leaf5</title>\n<path fill=\"none\" stroke=\"#000000\" d=\"M3242.31,-736.5451C3292.5887,-720.3912 3359.452,-698.9087 3411.7908,-682.0929\"/>\n<polygon fill=\"#000000\" stroke=\"#000000\" points=\"3412.9372,-685.4008 3421.3873,-679.0096 3410.796,-678.7364 3412.9372,-685.4008\"/>\n<text text-anchor=\"middle\" x=\"3356.6493\" y=\"-703.9808\" font-family=\"Times,serif\" font-size=\"14.00\" fill=\"#000000\">&gt;</text>\n</g>\n</g>\n</svg>\n"
          },
          "metadata": {
            "tags": []
          },
          "execution_count": 16
        }
      ]
    },
    {
      "cell_type": "code",
      "metadata": {
        "id": "2UGM-7RbYHwX"
      },
      "source": [
        ""
      ],
      "execution_count": null,
      "outputs": []
    }
  ]
}