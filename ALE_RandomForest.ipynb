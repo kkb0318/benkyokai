{
  "nbformat": 4,
  "nbformat_minor": 0,
  "metadata": {
    "colab": {
      "name": "ALE_RandomForest.ipynb",
      "provenance": [],
      "collapsed_sections": [
        "ugV3TOum1Ft4",
        "eylrTPAN3rJV",
        "_2Er1vtFCG0v",
        "BVOP2mlbB5eH"
      ],
      "toc_visible": true,
      "include_colab_link": true
    },
    "kernelspec": {
      "display_name": "Python 3",
      "name": "python3"
    },
    "language_info": {
      "codemirror_mode": {
        "name": "ipython",
        "version": 3
      },
      "file_extension": ".py",
      "mimetype": "text/x-python",
      "name": "python",
      "nbconvert_exporter": "python",
      "pygments_lexer": "ipython3",
      "version": "3.6.9"
    }
  },
  "cells": [
    {
      "cell_type": "markdown",
      "metadata": {
        "id": "view-in-github",
        "colab_type": "text"
      },
      "source": [
        "<a href=\"https://colab.research.google.com/github/kkb0318/benkyokai/blob/main/ALE_RandomForest.ipynb\" target=\"_parent\"><img src=\"https://colab.research.google.com/assets/colab-badge.svg\" alt=\"Open In Colab\"/></a>"
      ]
    },
    {
      "cell_type": "markdown",
      "metadata": {
        "id": "ugV3TOum1Ft4"
      },
      "source": [
        "## Install"
      ]
    },
    {
      "cell_type": "code",
      "metadata": {
        "colab": {
          "base_uri": "https://localhost:8080/"
        },
        "id": "uu1zdEsr1MXQ",
        "outputId": "567d2916-3b9d-401a-84ed-b526904dd9c3"
      },
      "source": [
        "!pip install --upgrade scikit-learn\n",
        "!pip install PyALE"
      ],
      "execution_count": 1,
      "outputs": [
        {
          "output_type": "stream",
          "text": [
            "Collecting scikit-learn\n",
            "\u001b[?25l  Downloading https://files.pythonhosted.org/packages/a8/eb/a48f25c967526b66d5f1fa7a984594f0bf0a5afafa94a8c4dbc317744620/scikit_learn-0.24.2-cp37-cp37m-manylinux2010_x86_64.whl (22.3MB)\n",
            "\u001b[K     |████████████████████████████████| 22.3MB 1.4MB/s \n",
            "\u001b[?25hRequirement already satisfied, skipping upgrade: numpy>=1.13.3 in /usr/local/lib/python3.7/dist-packages (from scikit-learn) (1.19.5)\n",
            "Requirement already satisfied, skipping upgrade: scipy>=0.19.1 in /usr/local/lib/python3.7/dist-packages (from scikit-learn) (1.4.1)\n",
            "Requirement already satisfied, skipping upgrade: joblib>=0.11 in /usr/local/lib/python3.7/dist-packages (from scikit-learn) (1.0.1)\n",
            "Collecting threadpoolctl>=2.0.0\n",
            "  Downloading https://files.pythonhosted.org/packages/f7/12/ec3f2e203afa394a149911729357aa48affc59c20e2c1c8297a60f33f133/threadpoolctl-2.1.0-py3-none-any.whl\n",
            "Installing collected packages: threadpoolctl, scikit-learn\n",
            "  Found existing installation: scikit-learn 0.22.2.post1\n",
            "    Uninstalling scikit-learn-0.22.2.post1:\n",
            "      Successfully uninstalled scikit-learn-0.22.2.post1\n",
            "Successfully installed scikit-learn-0.24.2 threadpoolctl-2.1.0\n",
            "Collecting PyALE\n",
            "  Downloading https://files.pythonhosted.org/packages/ad/66/7c7da2c20386fda30821914e7237683783ff3fe4fb970d7615ba360d7629/PyALE-1.1.1-py3-none-any.whl\n",
            "Requirement already satisfied: numpy in /usr/local/lib/python3.7/dist-packages (from PyALE) (1.19.5)\n",
            "Requirement already satisfied: matplotlib in /usr/local/lib/python3.7/dist-packages (from PyALE) (3.2.2)\n",
            "Requirement already satisfied: pandas in /usr/local/lib/python3.7/dist-packages (from PyALE) (1.1.5)\n",
            "Requirement already satisfied: sklearn in /usr/local/lib/python3.7/dist-packages (from PyALE) (0.0)\n",
            "Requirement already satisfied: statsmodels in /usr/local/lib/python3.7/dist-packages (from PyALE) (0.10.2)\n",
            "Requirement already satisfied: scipy in /usr/local/lib/python3.7/dist-packages (from PyALE) (1.4.1)\n",
            "Requirement already satisfied: python-dateutil>=2.1 in /usr/local/lib/python3.7/dist-packages (from matplotlib->PyALE) (2.8.1)\n",
            "Requirement already satisfied: pyparsing!=2.0.4,!=2.1.2,!=2.1.6,>=2.0.1 in /usr/local/lib/python3.7/dist-packages (from matplotlib->PyALE) (2.4.7)\n",
            "Requirement already satisfied: cycler>=0.10 in /usr/local/lib/python3.7/dist-packages (from matplotlib->PyALE) (0.10.0)\n",
            "Requirement already satisfied: kiwisolver>=1.0.1 in /usr/local/lib/python3.7/dist-packages (from matplotlib->PyALE) (1.3.1)\n",
            "Requirement already satisfied: pytz>=2017.2 in /usr/local/lib/python3.7/dist-packages (from pandas->PyALE) (2018.9)\n",
            "Requirement already satisfied: scikit-learn in /usr/local/lib/python3.7/dist-packages (from sklearn->PyALE) (0.24.2)\n",
            "Requirement already satisfied: patsy>=0.4.0 in /usr/local/lib/python3.7/dist-packages (from statsmodels->PyALE) (0.5.1)\n",
            "Requirement already satisfied: six>=1.5 in /usr/local/lib/python3.7/dist-packages (from python-dateutil>=2.1->matplotlib->PyALE) (1.15.0)\n",
            "Requirement already satisfied: threadpoolctl>=2.0.0 in /usr/local/lib/python3.7/dist-packages (from scikit-learn->sklearn->PyALE) (2.1.0)\n",
            "Requirement already satisfied: joblib>=0.11 in /usr/local/lib/python3.7/dist-packages (from scikit-learn->sklearn->PyALE) (1.0.1)\n",
            "Installing collected packages: PyALE\n",
            "Successfully installed PyALE-1.1.1\n"
          ],
          "name": "stdout"
        }
      ]
    },
    {
      "cell_type": "markdown",
      "metadata": {
        "id": "eylrTPAN3rJV"
      },
      "source": [
        "## titanic dataset"
      ]
    },
    {
      "cell_type": "code",
      "metadata": {
        "id": "KuhAiPfZ3rJW"
      },
      "source": [
        "import numpy as np\n",
        "import pandas as pd\n",
        "from sklearn.ensemble import RandomForestClassifier\n",
        "\n",
        "from IPython.display import clear_output\n",
        "from matplotlib import pyplot as plt\n",
        "\n",
        "# Load dataset.\n",
        "dftrain = pd.read_csv('https://storage.googleapis.com/tf-datasets/titanic/train.csv')\n",
        "dfeval = pd.read_csv('https://storage.googleapis.com/tf-datasets/titanic/eval.csv')\n",
        "y_train = dftrain.pop('survived')\n",
        "y_eval = dfeval.pop('survived')"
      ],
      "execution_count": 2,
      "outputs": []
    },
    {
      "cell_type": "markdown",
      "metadata": {
        "id": "3ioodHdVJVdA"
      },
      "source": [
        "\n",
        "\n",
        "\n",
        "<table>\n",
        "  <tr>\n",
        "    <th>Feature Name</th>\n",
        "    <th>Description</th>\n",
        "  </tr>\n",
        "  <tr>\n",
        "    <td>sex</td>\n",
        "    <td>Gender of passenger</td>\n",
        "  </tr>\n",
        "  <tr>\n",
        "    <td>age</td>\n",
        "    <td>Age of passenger</td>\n",
        "  </tr>\n",
        "    <tr>\n",
        "    <td>n_siblings_spouses</td>\n",
        "    <td>siblings and partners aboard</td>\n",
        "  </tr>\n",
        "    <tr>\n",
        "    <td>parch</td>\n",
        "    <td>of parents and children aboard</td>\n",
        "  </tr>\n",
        "    <tr>\n",
        "    <td>fare</td>\n",
        "    <td>Fare passenger paid.</td>\n",
        "  </tr>\n",
        "    <tr>\n",
        "    <td>class</td>\n",
        "    <td>Passenger's class on ship</td>\n",
        "  </tr>\n",
        "    <tr>\n",
        "    <td>deck</td>\n",
        "    <td>Which deck passenger was on</td>\n",
        "  </tr>\n",
        "    <tr>\n",
        "    <td>embark_town</td>\n",
        "    <td>Which town passenger embarked from</td>\n",
        "  </tr>\n",
        "    <tr>\n",
        "    <td>alone</td>\n",
        "    <td>If passenger was alone</td>\n",
        "  </tr>\n",
        "</table>"
      ]
    },
    {
      "cell_type": "code",
      "metadata": {
        "id": "15PLelXBlxEW",
        "colab": {
          "base_uri": "https://localhost:8080/",
          "height": 0
        },
        "outputId": "08d71562-245d-46f9-fafe-31a9a028ac62"
      },
      "source": [
        "dftrain.head()"
      ],
      "execution_count": 3,
      "outputs": [
        {
          "output_type": "execute_result",
          "data": {
            "text/html": [
              "<div>\n",
              "<style scoped>\n",
              "    .dataframe tbody tr th:only-of-type {\n",
              "        vertical-align: middle;\n",
              "    }\n",
              "\n",
              "    .dataframe tbody tr th {\n",
              "        vertical-align: top;\n",
              "    }\n",
              "\n",
              "    .dataframe thead th {\n",
              "        text-align: right;\n",
              "    }\n",
              "</style>\n",
              "<table border=\"1\" class=\"dataframe\">\n",
              "  <thead>\n",
              "    <tr style=\"text-align: right;\">\n",
              "      <th></th>\n",
              "      <th>sex</th>\n",
              "      <th>age</th>\n",
              "      <th>n_siblings_spouses</th>\n",
              "      <th>parch</th>\n",
              "      <th>fare</th>\n",
              "      <th>class</th>\n",
              "      <th>deck</th>\n",
              "      <th>embark_town</th>\n",
              "      <th>alone</th>\n",
              "    </tr>\n",
              "  </thead>\n",
              "  <tbody>\n",
              "    <tr>\n",
              "      <th>0</th>\n",
              "      <td>male</td>\n",
              "      <td>22.0</td>\n",
              "      <td>1</td>\n",
              "      <td>0</td>\n",
              "      <td>7.2500</td>\n",
              "      <td>Third</td>\n",
              "      <td>unknown</td>\n",
              "      <td>Southampton</td>\n",
              "      <td>n</td>\n",
              "    </tr>\n",
              "    <tr>\n",
              "      <th>1</th>\n",
              "      <td>female</td>\n",
              "      <td>38.0</td>\n",
              "      <td>1</td>\n",
              "      <td>0</td>\n",
              "      <td>71.2833</td>\n",
              "      <td>First</td>\n",
              "      <td>C</td>\n",
              "      <td>Cherbourg</td>\n",
              "      <td>n</td>\n",
              "    </tr>\n",
              "    <tr>\n",
              "      <th>2</th>\n",
              "      <td>female</td>\n",
              "      <td>26.0</td>\n",
              "      <td>0</td>\n",
              "      <td>0</td>\n",
              "      <td>7.9250</td>\n",
              "      <td>Third</td>\n",
              "      <td>unknown</td>\n",
              "      <td>Southampton</td>\n",
              "      <td>y</td>\n",
              "    </tr>\n",
              "    <tr>\n",
              "      <th>3</th>\n",
              "      <td>female</td>\n",
              "      <td>35.0</td>\n",
              "      <td>1</td>\n",
              "      <td>0</td>\n",
              "      <td>53.1000</td>\n",
              "      <td>First</td>\n",
              "      <td>C</td>\n",
              "      <td>Southampton</td>\n",
              "      <td>n</td>\n",
              "    </tr>\n",
              "    <tr>\n",
              "      <th>4</th>\n",
              "      <td>male</td>\n",
              "      <td>28.0</td>\n",
              "      <td>0</td>\n",
              "      <td>0</td>\n",
              "      <td>8.4583</td>\n",
              "      <td>Third</td>\n",
              "      <td>unknown</td>\n",
              "      <td>Queenstown</td>\n",
              "      <td>y</td>\n",
              "    </tr>\n",
              "  </tbody>\n",
              "</table>\n",
              "</div>"
            ],
            "text/plain": [
              "      sex   age  n_siblings_spouses  parch  ...  class     deck  embark_town alone\n",
              "0    male  22.0                   1      0  ...  Third  unknown  Southampton     n\n",
              "1  female  38.0                   1      0  ...  First        C    Cherbourg     n\n",
              "2  female  26.0                   0      0  ...  Third  unknown  Southampton     y\n",
              "3  female  35.0                   1      0  ...  First        C  Southampton     n\n",
              "4    male  28.0                   0      0  ...  Third  unknown   Queenstown     y\n",
              "\n",
              "[5 rows x 9 columns]"
            ]
          },
          "metadata": {
            "tags": []
          },
          "execution_count": 3
        }
      ]
    },
    {
      "cell_type": "markdown",
      "metadata": {
        "id": "HttfNNlN3rJr"
      },
      "source": [
        "## Train and evaluate the model"
      ]
    },
    {
      "cell_type": "markdown",
      "metadata": {
        "id": "_2Er1vtFCG0v"
      },
      "source": [
        "### Preprocessing"
      ]
    },
    {
      "cell_type": "code",
      "metadata": {
        "id": "9I65g0Rg-RnD"
      },
      "source": [
        "def make_input_fn(X):\n",
        "  #print(X.isnull().sum())\n",
        "  X = X.dropna()\n",
        "  X[\"sex\"] = X[\"sex\"].map({\"male\":0,\"female\":1})\n",
        "  X[\"alone\"] = X[\"alone\"].map({\"n\":0,\"y\":1})\n",
        "  X = pd.get_dummies(X, columns=['embark_town'])\n",
        "  X = pd.get_dummies(X, columns=['class'])\n",
        "  X = pd.get_dummies(X, columns=['deck'])\n",
        "  return X"
      ],
      "execution_count": 4,
      "outputs": []
    },
    {
      "cell_type": "code",
      "metadata": {
        "id": "9WgNNAGu-2yr"
      },
      "source": [
        "x_train = make_input_fn(dftrain)\n",
        "x_eval = make_input_fn(dfeval)"
      ],
      "execution_count": 5,
      "outputs": []
    },
    {
      "cell_type": "code",
      "metadata": {
        "id": "SzfNLAiHH_Oj"
      },
      "source": [
        "# 足りない列を追加\n",
        "x_eval[x_train.columns.difference(x_eval.columns)]=0"
      ],
      "execution_count": 6,
      "outputs": []
    },
    {
      "cell_type": "markdown",
      "metadata": {
        "id": "BVOP2mlbB5eH"
      },
      "source": [
        "### Training"
      ]
    },
    {
      "cell_type": "code",
      "metadata": {
        "id": "cyTLwITf9nUV"
      },
      "source": [
        "clf = RandomForestClassifier(random_state=42,n_estimators=100, max_features=1).fit(x_train, y_train)"
      ],
      "execution_count": 7,
      "outputs": []
    },
    {
      "cell_type": "code",
      "metadata": {
        "id": "ll82DSMVDgmV"
      },
      "source": [
        "predicted = clf.predict(x_eval)"
      ],
      "execution_count": 8,
      "outputs": []
    },
    {
      "cell_type": "code",
      "metadata": {
        "colab": {
          "base_uri": "https://localhost:8080/"
        },
        "id": "ME_08DdO1__F",
        "outputId": "bf26c417-bd7f-4c4a-a5b2-9f0addbdd17d"
      },
      "source": [
        "x_train.columns"
      ],
      "execution_count": 9,
      "outputs": [
        {
          "output_type": "execute_result",
          "data": {
            "text/plain": [
              "Index(['sex', 'age', 'n_siblings_spouses', 'parch', 'fare', 'alone',\n",
              "       'embark_town_Cherbourg', 'embark_town_Queenstown',\n",
              "       'embark_town_Southampton', 'embark_town_unknown', 'class_First',\n",
              "       'class_Second', 'class_Third', 'deck_A', 'deck_B', 'deck_C', 'deck_D',\n",
              "       'deck_E', 'deck_F', 'deck_G', 'deck_unknown'],\n",
              "      dtype='object')"
            ]
          },
          "metadata": {
            "tags": []
          },
          "execution_count": 9
        }
      ]
    },
    {
      "cell_type": "markdown",
      "metadata": {
        "id": "hSIp6Ycy8aPT"
      },
      "source": [
        "**精度を出力**\n",
        "* そもそも精度が悪ければXAIの意味もなくなるので注意（信頼できないモデルに対し推論した理由を聞いても意味がない）\n",
        "* 今回は精度68%とあまりよくないのでXAIの結果はあくまで参考程度"
      ]
    },
    {
      "cell_type": "code",
      "metadata": {
        "colab": {
          "base_uri": "https://localhost:8080/"
        },
        "id": "kluK8QQ38I4d",
        "outputId": "0a71de00-52f4-44e0-a075-c78846fa7757"
      },
      "source": [
        "from sklearn.metrics import confusion_matrix, precision_score\n",
        "print(confusion_matrix(y_eval,predicted))\n",
        "print(precision_score(y_eval,predicted))"
      ],
      "execution_count": 10,
      "outputs": [
        {
          "output_type": "stream",
          "text": [
            "[[129  36]\n",
            " [ 23  76]]\n",
            "0.6785714285714286\n"
          ],
          "name": "stdout"
        }
      ]
    },
    {
      "cell_type": "markdown",
      "metadata": {
        "id": "V5D2R1sg96nf"
      },
      "source": [
        "### PDP evaluation"
      ]
    },
    {
      "cell_type": "markdown",
      "metadata": {
        "id": "06grh77KHCjw"
      },
      "source": [
        "* ALE Plot によるモデルの検証\n",
        "* 学習済みモデルを入れてあげるだけで簡単に検証可能"
      ]
    },
    {
      "cell_type": "code",
      "metadata": {
        "colab": {
          "base_uri": "https://localhost:8080/",
          "height": 312
        },
        "id": "HnMygVKk8Q5U",
        "outputId": "2d0d147c-6fab-4b2c-e196-d7a56419a6f8"
      },
      "source": [
        "from PyALE import ale\n",
        "\n",
        "ale_eff = ale(\n",
        "    X=x_train, model=clf, feature=['age'], grid_size=50, include_CI=False\n",
        ")"
      ],
      "execution_count": 15,
      "outputs": [
        {
          "output_type": "stream",
          "text": [
            "PyALE._ALE_generic:INFO: Continuous feature detected.\n"
          ],
          "name": "stderr"
        },
        {
          "output_type": "display_data",
          "data": {
            "image/png": "[encoded data removed]",
            "text/plain": [
              "<Figure size 576x288 with 1 Axes>"
            ]
          },
          "metadata": {
            "tags": [],
            "needs_background": "light"
          }
        }
      ]
    }
  ]
}